{
 "cells": [
  {
   "cell_type": "markdown",
   "metadata": {},
   "source": [
    "# Evaluating truth vs sourmash gather\n",
    "\n"
   ]
  },
  {
   "cell_type": "code",
   "execution_count": 15,
   "metadata": {},
   "outputs": [],
   "source": [
    "import csv\n",
    "import sys\n",
    "sys.path.insert(0, '../2018-ncbi-lineages/')\n",
    "import ncbi_taxdump_utils"
   ]
  },
  {
   "cell_type": "code",
   "execution_count": 16,
   "metadata": {},
   "outputs": [],
   "source": [
    "taxfoo = ncbi_taxdump_utils.NCBI_TaxonomyFoo()\n",
    "\n",
    "taxfoo.load_nodes_dmp('../2018-ncbi-lineages/genbank/nodes.dmp.gz')\n",
    "taxfoo.load_names_dmp('../2018-ncbi-lineages/genbank/names.dmp.gz')\n",
    "\n",
    "want_taxonomy = ['superkingdom', 'phylum', 'order', 'class', 'family', 'genus', 'species']"
   ]
  },
  {
   "cell_type": "code",
   "execution_count": 17,
   "metadata": {},
   "outputs": [],
   "source": [
    "from sourmash_lib.lca import lca_utils, command_index\n",
    "\n",
    "def format_lineage(lineage_tup):\n",
    "    return \";\".join(lca_utils.zip_lineage(lineage_tup))"
   ]
  },
  {
   "cell_type": "markdown",
   "metadata": {},
   "source": [
    "## Sourmash gather: mapping from accession -> lineages\n",
    "\n",
    "This is important for dealing with the CSV output of `sourmash gather`; `sourmash lca gather`\n",
    "comes with the taxonomy already in the CSV output."
   ]
  },
  {
   "cell_type": "code",
   "execution_count": 18,
   "metadata": {},
   "outputs": [
    {
     "name": "stdout",
     "output_type": "stream",
     "text": [
      "loaded 797 rows\n"
     ]
    },
    {
     "name": "stderr",
     "output_type": "stream",
     "text": [
      "examining spreadsheet headers...\n",
      "** assuming column 'accession' is identifiers in spreadsheet\n"
     ]
    }
   ],
   "source": [
    "acc_to_lineage, num_rows = command_index.load_taxonomy_assignments('gather-lineages.csv', start_column=3)\n",
    "print('loaded {} rows'.format(num_rows))"
   ]
  },
  {
   "cell_type": "code",
   "execution_count": 19,
   "metadata": {},
   "outputs": [
    {
     "data": {
      "text/plain": [
       "[('NC_000917',\n",
       "  (LineagePair(rank='superkingdom', name='Archaea'),\n",
       "   LineagePair(rank='phylum', name='Euryarchaeota'),\n",
       "   LineagePair(rank='class', name='Archaeoglobi'),\n",
       "   LineagePair(rank='order', name='Archaeoglobales'),\n",
       "   LineagePair(rank='family', name='Archaeoglobaceae'),\n",
       "   LineagePair(rank='genus', name='Archaeoglobus'),\n",
       "   LineagePair(rank='species', name='Archaeoglobus fulgidus')))]"
      ]
     },
     "execution_count": 19,
     "metadata": {},
     "output_type": "execute_result"
    }
   ],
   "source": [
    "list(acc_to_lineage.items())[:1]"
   ]
  },
  {
   "cell_type": "code",
   "execution_count": 20,
   "metadata": {},
   "outputs": [
    {
     "name": "stdout",
     "output_type": "stream",
     "text": [
      "(LineagePair(rank='superkingdom', name='Archaea'), LineagePair(rank='phylum', name='Euryarchaeota'), LineagePair(rank='class', name='Archaeoglobi'), LineagePair(rank='order', name='Archaeoglobales'), LineagePair(rank='family', name='Archaeoglobaceae'), LineagePair(rank='genus', name='Archaeoglobus'), LineagePair(rank='species', name='Archaeoglobus fulgidus'))\n",
      "Archaea;Euryarchaeota;Archaeoglobi;Archaeoglobales;Archaeoglobaceae;Archaeoglobus;Archaeoglobus fulgidus\n"
     ]
    }
   ],
   "source": [
    "def get_lineage_by_acc(acc):\n",
    "    acc = acc.split(' ')[0].split('.')[0]\n",
    "    return acc_to_lineage.get(acc, None)\n",
    "\n",
    "# example for 'get_lineage_by_acc'\n",
    "lineage = get_lineage_by_acc('NC_000917')\n",
    "print(lineage)\n",
    "print(format_lineage(lineage))"
   ]
  },
  {
   "cell_type": "code",
   "execution_count": 21,
   "metadata": {},
   "outputs": [
    {
     "data": {
      "text/plain": [
       "[OrderedDict([('intersect_bp', '330000'),\n",
       "              ('f_orig_query', '0.008465879938429965'),\n",
       "              ('f_match', '0.03466386554621849'),\n",
       "              ('f_unique_to_query', '0.008465879938429965'),\n",
       "              ('name',\n",
       "               'NC_013132.1 Chitinophaga pinensis DSM 2588, complete genome'),\n",
       "              ('filename', 'inputs/databases/genbank-k51.sbt.json'),\n",
       "              ('md5', 'd06a405d39c8ebed579540db2994afe8')])]"
      ]
     },
     "execution_count": 21,
     "metadata": {},
     "output_type": "execute_result"
    }
   ],
   "source": [
    "def load_sourmash_gather_csv(filename):\n",
    "    with open(filename, 'rt') as fp:\n",
    "        r = csv.DictReader(fp)\n",
    "        rows = list(r)\n",
    "    return rows\n",
    "\n",
    "load_sourmash_gather_csv('output/Huttenhower_HC1.fasta.gz.scaled10k.k51.gather.matches.csv')[:1]"
   ]
  },
  {
   "cell_type": "code",
   "execution_count": 22,
   "metadata": {},
   "outputs": [
    {
     "data": {
      "text/plain": [
       "[{'f_match': '0.03466386554621849',\n",
       "  'f_orig_query': '0.008465879938429965',\n",
       "  'f_unique_to_query': '0.008465879938429965',\n",
       "  'filename': 'inputs/databases/genbank-k51.sbt.json',\n",
       "  'intersect_bp': '330000',\n",
       "  'lineage': (LineagePair(rank='superkingdom', name='Bacteria'),\n",
       "   LineagePair(rank='phylum', name='Bacteroidetes'),\n",
       "   LineagePair(rank='class', name='Chitinophagia'),\n",
       "   LineagePair(rank='order', name='Chitinophagales'),\n",
       "   LineagePair(rank='family', name='Chitinophagaceae'),\n",
       "   LineagePair(rank='genus', name='Chitinophaga'),\n",
       "   LineagePair(rank='species', name='Chitinophaga pinensis')),\n",
       "  'md5': 'd06a405d39c8ebed579540db2994afe8',\n",
       "  'name': 'NC_013132.1 Chitinophaga pinensis DSM 2588, complete genome'}]"
      ]
     },
     "execution_count": 22,
     "metadata": {},
     "output_type": "execute_result"
    }
   ],
   "source": [
    "def make_gather_lineages(filename):\n",
    "    rows = load_sourmash_gather_csv(filename)\n",
    "    rows2 = []\n",
    "    for d in rows:\n",
    "        name = d['name']\n",
    "        lineage = get_lineage_by_acc(name)\n",
    "        d2 = dict(d)\n",
    "        d2['lineage'] = lineage\n",
    "        rows2.append(d2)\n",
    "        \n",
    "    return rows2\n",
    "\n",
    "make_gather_lineages('output/Huttenhower_HC1.fasta.gz.scaled10k.k51.gather.matches.csv')[:1]"
   ]
  },
  {
   "cell_type": "markdown",
   "metadata": {},
   "source": [
    "## Truth files: loading in & fleshing out NCBI taxonomy\n",
    "\n",
    "Also needed :)."
   ]
  },
  {
   "cell_type": "code",
   "execution_count": 23,
   "metadata": {},
   "outputs": [
    {
     "name": "stdout",
     "output_type": "stream",
     "text": [
      "[(84980, '1.00000', '0.01000', 'species', 'Desulfotalea psychrophila'), (1428, '1.00000', '0.01000', 'species', 'Bacillus thuringiensis'), (1496, '1.00000', '0.01000', 'species', 'Peptoclostridium difficile'), (1525, '1.00000', '0.01000', 'species', 'Moorella thermoacetica'), (1423, '1.00000', '0.01000', 'species', 'Bacillus subtilis')]\n"
     ]
    }
   ],
   "source": [
    "def load_truth_file(filename):\n",
    "    with open(filename, 'rt') as fp:\n",
    "        lines = fp.readlines()\n",
    "        \n",
    "    lines = [ x.strip() for x in lines ]\n",
    "    lines = [ x.split('\\t') for x in lines ]\n",
    "    \n",
    "    rows = []\n",
    "    for x in lines:\n",
    "        taxid, a, b, rank, name = x\n",
    "        taxid = int(taxid)\n",
    "        rows.append((taxid, a, b, rank, name))\n",
    "    return rows\n",
    "    \n",
    "print(load_truth_file('truth_sets/species/Huttenhower_HC1_TRUTH.txt')[:5])"
   ]
  },
  {
   "cell_type": "code",
   "execution_count": 24,
   "metadata": {},
   "outputs": [
    {
     "data": {
      "text/plain": [
       "(LineagePair(rank='species', name='Desulfotalea psychrophila'),\n",
       " LineagePair(rank='genus', name='Desulfotalea'),\n",
       " LineagePair(rank='family', name='Desulfobulbaceae'),\n",
       " LineagePair(rank='order', name='Desulfobacterales'),\n",
       " LineagePair(rank='class', name='Deltaproteobacteria'),\n",
       " LineagePair(rank='phylum', name='Proteobacteria'),\n",
       " LineagePair(rank='superkingdom', name='Bacteria'))"
      ]
     },
     "execution_count": 24,
     "metadata": {},
     "output_type": "execute_result"
    }
   ],
   "source": [
    "def make_lineage_from_taxid(taxid):\n",
    "    lineage_d = taxfoo.get_lineage_as_dict(taxid, want_taxonomy)\n",
    "    lineage = [ lca_utils.LineagePair(a, b) for (a, b) in lineage_d.items() ]\n",
    "    return tuple(lineage)\n",
    "\n",
    "make_lineage_from_taxid(84980)"
   ]
  },
  {
   "cell_type": "code",
   "execution_count": 25,
   "metadata": {},
   "outputs": [
    {
     "name": "stdout",
     "output_type": "stream",
     "text": [
      "DISAGREE: ncbi=Clostridioides difficile, truthfile=Peptoclostridium difficile\n",
      "DISAGREE: ncbi=Sediminispirochaeta smaragdinae, truthfile=Spirochaeta smaragdinae\n"
     ]
    }
   ],
   "source": [
    "def make_truth_lineages(filename):\n",
    "    rows = load_truth_file(filename)\n",
    "    \n",
    "    rows2 = []\n",
    "    for (taxid, a, b, rank, name) in rows:\n",
    "        lineage = make_lineage_from_taxid(taxid)\n",
    "        rows2.append((taxid, a, b, rank, name, lineage))\n",
    "        for lintup in lineage:\n",
    "            if lintup.rank == rank:\n",
    "                if lintup.name != name:\n",
    "                    print('DISAGREE: ncbi={}, truthfile={}'.format(lintup.name, name))\n",
    "    return rows2\n",
    "\n",
    "truth_lineages = make_truth_lineages('truth_sets/species/Huttenhower_HC1_TRUTH.txt')"
   ]
  },
  {
   "cell_type": "code",
   "execution_count": null,
   "metadata": {},
   "outputs": [],
   "source": []
  }
 ],
 "metadata": {
  "kernelspec": {
   "display_name": "Python 3",
   "language": "python",
   "name": "python3"
  },
  "language_info": {
   "codemirror_mode": {
    "name": "ipython",
    "version": 3
   },
   "file_extension": ".py",
   "mimetype": "text/x-python",
   "name": "python",
   "nbconvert_exporter": "python",
   "pygments_lexer": "ipython3",
   "version": "3.6.3"
  }
 },
 "nbformat": 4,
 "nbformat_minor": 2
}
