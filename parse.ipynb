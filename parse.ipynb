{
 "cells": [
  {
   "cell_type": "markdown",
   "metadata": {},
   "source": [
    "# Evaluating truth vs sourmash gather\n",
    "\n"
   ]
  },
  {
   "cell_type": "code",
   "execution_count": null,
   "metadata": {},
   "outputs": [],
   "source": []
  },
  {
   "cell_type": "code",
   "execution_count": 1,
   "metadata": {},
   "outputs": [],
   "source": [
    "import csv\n",
    "import sys\n",
    "sys.path.insert(0, '../2018-ncbi-lineages/')\n",
    "import ncbi_taxdump_utils\n",
    "import os"
   ]
  },
  {
   "cell_type": "markdown",
   "metadata": {},
   "source": [
    "in ../2018-ncbi-lineages\n",
    "\n",
    "    mkdir genbank\n",
    "\n",
    "    cd genbank/\n",
    "\n",
    "    curl -L -O ftp://ftp.ncbi.nih.gov/pub/taxonomy//taxdmp.zip\n",
    "    unzip taxdmp.zip nodes.dmp names.dmp\n",
    "    rm taxdmp.zip\n"
   ]
  },
  {
   "cell_type": "code",
   "execution_count": 2,
   "metadata": {},
   "outputs": [],
   "source": [
    "taxfoo = ncbi_taxdump_utils.NCBI_TaxonomyFoo()\n",
    "\n",
    "taxfoo.load_nodes_dmp('../2018-ncbi-lineages/genbank/nodes.dmp')\n",
    "taxfoo.load_names_dmp('../2018-ncbi-lineages/genbank/names.dmp')\n",
    "\n",
    "want_taxonomy = ['superkingdom', 'phylum', 'order', 'class', 'family', 'genus', 'species']"
   ]
  },
  {
   "cell_type": "code",
   "execution_count": 3,
   "metadata": {},
   "outputs": [],
   "source": [
    "from sourmash.lca import lca_utils, command_index\n",
    "\n",
    "def format_lineage(lineage_tup):\n",
    "    return \";\".join(lca_utils.zip_lineage(lineage_tup))"
   ]
  },
  {
   "cell_type": "markdown",
   "metadata": {},
   "source": [
    "# Sourmash gather: mapping from accession -> lineages\n",
    "This is important for dealing with the CSV output of sourmash gather; sourmash lca gather comes with the taxonomy already in the CSV output."
   ]
  },
  {
   "cell_type": "code",
   "execution_count": 4,
   "metadata": {},
   "outputs": [
    {
     "name": "stdout",
     "output_type": "stream",
     "text": [
      "loaded 865 rows\n"
     ]
    },
    {
     "name": "stderr",
     "output_type": "stream",
     "text": [
      "\u001b[Kexamining spreadsheet headers...\n",
      "\u001b[K** assuming column 'accession' is identifiers in spreadsheet\n"
     ]
    }
   ],
   "source": [
    "acc_to_lineage, num_rows = command_index.load_taxonomy_assignments('gather-lineages.csv', start_column=3)\n",
    "print('loaded {} rows'.format(num_rows))"
   ]
  },
  {
   "cell_type": "code",
   "execution_count": 5,
   "metadata": {},
   "outputs": [],
   "source": [
    "def get_lineage_by_acc(acc):\n",
    "    acc = acc.split(' ')[0].split('.')[0]\n",
    "    return acc_to_lineage.get(acc, None)\n",
    "\n",
    "# example for 'get_lineage_by_acc'\n",
    "#lineage = get_lineage_by_acc('NC_000917')\n",
    "#print(lineage)\n",
    "#print(format_lineage(lineage))"
   ]
  },
  {
   "cell_type": "code",
   "execution_count": 6,
   "metadata": {},
   "outputs": [
    {
     "data": {
      "text/plain": [
       "[OrderedDict([('intersect_bp', '330000'),\n",
       "              ('f_orig_query', '0.008465879938429965'),\n",
       "              ('f_match', '0.03466386554621849'),\n",
       "              ('f_unique_to_query', '0.008465879938429965'),\n",
       "              ('f_unique_weighted', '0.008465879938429965'),\n",
       "              ('average_abund', '1.0'),\n",
       "              ('name',\n",
       "               'NC_013132.1 Chitinophaga pinensis DSM 2588, complete genome'),\n",
       "              ('filename', 'inputs/databases/genbank-k51.sbt.json'),\n",
       "              ('md5', 'd06a405d39c8ebed579540db2994afe8')])]"
      ]
     },
     "execution_count": 6,
     "metadata": {},
     "output_type": "execute_result"
    }
   ],
   "source": [
    "def load_sourmash_csv(filename):\n",
    "    with open(filename, 'rt') as fp:\n",
    "        r = csv.DictReader(fp)\n",
    "        rows = list(r)\n",
    "    return rows\n",
    "\n",
    "load_sourmash_csv('output/Huttenhower_HC1.fasta.gz_reads.scaled10k.k51.gather.matches.csv')[:1]"
   ]
  },
  {
   "cell_type": "code",
   "execution_count": null,
   "metadata": {},
   "outputs": [],
   "source": []
  },
  {
   "cell_type": "code",
   "execution_count": 7,
   "metadata": {},
   "outputs": [
    {
     "data": {
      "text/plain": [
       "[{'average_abund': '1.0',\n",
       "  'f_match': '0.03466386554621849',\n",
       "  'f_orig_query': '0.008465879938429965',\n",
       "  'f_unique_to_query': '0.008465879938429965',\n",
       "  'f_unique_weighted': '0.008465879938429965',\n",
       "  'filename': 'inputs/databases/genbank-k51.sbt.json',\n",
       "  'intersect_bp': '330000',\n",
       "  'lineage': (LineagePair(rank='superkingdom', name='Bacteria'),\n",
       "   LineagePair(rank='phylum', name='Bacteroidetes'),\n",
       "   LineagePair(rank='class', name='Chitinophagia'),\n",
       "   LineagePair(rank='order', name='Chitinophagales'),\n",
       "   LineagePair(rank='family', name='Chitinophagaceae'),\n",
       "   LineagePair(rank='genus', name='Chitinophaga'),\n",
       "   LineagePair(rank='species', name='Chitinophaga pinensis')),\n",
       "  'md5': 'd06a405d39c8ebed579540db2994afe8',\n",
       "  'name': 'NC_013132.1 Chitinophaga pinensis DSM 2588, complete genome'}]"
      ]
     },
     "execution_count": 7,
     "metadata": {},
     "output_type": "execute_result"
    }
   ],
   "source": [
    "notfound = set()\n",
    "def make_gather_lineages(filename):\n",
    "    rows = load_sourmash_csv(filename)\n",
    "    rows2 = []\n",
    "    for d in rows:\n",
    "        name = d['name']\n",
    "        lineage = get_lineage_by_acc(name)\n",
    "        if lineage is None:\n",
    "            print('ZZZ found no lineage for {}'.format(name))\n",
    "            notfound.add(name)\n",
    "            continue\n",
    "        lineage = [x for x in lineage if x.rank != \"strain\"]\n",
    "        lineage = tuple(lineage)\n",
    "        d2 = dict(d)\n",
    "        d2['lineage'] = lineage\n",
    "        rows2.append(d2)\n",
    "        \n",
    "    return rows2\n",
    "\n",
    "make_gather_lineages('output/Huttenhower_HC1.fasta.gz_reads.scaled10k.k51.gather.matches.csv')[:1]"
   ]
  },
  {
   "cell_type": "markdown",
   "metadata": {},
   "source": [
    "## Truth files: loading in & fleshing out NCBI taxonomy\n",
    "From McIntyre et al. 2018 https://ftp-private.ncbi.nlm.nih.gov/nist-immsa/IMMSA/"
   ]
  },
  {
   "cell_type": "code",
   "execution_count": 8,
   "metadata": {},
   "outputs": [
    {
     "name": "stdout",
     "output_type": "stream",
     "text": [
      "[(84980, '1.00000', '0.01000', 'species', 'Desulfotalea psychrophila'), (1428, '1.00000', '0.01000', 'species', 'Bacillus thuringiensis'), (1496, '1.00000', '0.01000', 'species', 'Peptoclostridium difficile'), (1525, '1.00000', '0.01000', 'species', 'Moorella thermoacetica'), (1423, '1.00000', '0.01000', 'species', 'Bacillus subtilis')]\n"
     ]
    }
   ],
   "source": [
    "def load_truth_file(filename):\n",
    "    with open(filename, 'rt') as fp:\n",
    "        lines = fp.readlines()\n",
    "        \n",
    "    lines = [ x.strip() for x in lines ]\n",
    "    lines = [ x.split('\\t') for x in lines ]\n",
    "    \n",
    "    rows = []\n",
    "    for x in lines:\n",
    "        taxid, a, b, rank, name = x\n",
    "        taxid = int(taxid)\n",
    "        rows.append((taxid, a, b, rank, name))\n",
    "    return rows\n",
    "    \n",
    "print(load_truth_file('truth_sets/species/Huttenhower_HC1_TRUTH.txt')[:5])"
   ]
  },
  {
   "cell_type": "code",
   "execution_count": 9,
   "metadata": {},
   "outputs": [
    {
     "data": {
      "text/plain": [
       "(LineagePair(rank='superkingdom', name='Bacteria'),\n",
       " LineagePair(rank='phylum', name='Proteobacteria'),\n",
       " LineagePair(rank='class', name='Deltaproteobacteria'),\n",
       " LineagePair(rank='order', name='Desulfobacterales'),\n",
       " LineagePair(rank='family', name='Desulfobulbaceae'),\n",
       " LineagePair(rank='genus', name='Desulfotalea'),\n",
       " LineagePair(rank='species', name='Desulfotalea psychrophila'))"
      ]
     },
     "execution_count": 9,
     "metadata": {},
     "output_type": "execute_result"
    }
   ],
   "source": [
    "def make_lineage_from_taxid(taxid):\n",
    "    lineage_d = taxfoo.get_lineage_as_dict(taxid, want_taxonomy)\n",
    "    \n",
    "    lineage = []\n",
    "    for rank in lca_utils.taxlist():\n",
    "        if rank == 'strain': continue \n",
    "        name = lineage_d.get(rank, 'unassigned')\n",
    "        lineage_pair = lca_utils.LineagePair(rank, name)\n",
    "        lineage.append(lineage_pair)\n",
    "    return tuple(lineage)\n",
    "\n",
    "make_lineage_from_taxid(84980)"
   ]
  },
  {
   "cell_type": "code",
   "execution_count": 10,
   "metadata": {},
   "outputs": [
    {
     "name": "stdout",
     "output_type": "stream",
     "text": [
      "DISAGREE: ncbi=Clostridioides difficile, truthfile=Peptoclostridium difficile\n",
      "DISAGREE: ncbi=Sediminispirochaeta smaragdinae, truthfile=Spirochaeta smaragdinae\n",
      "[(84980, '1.00000', '0.01000', 'species', 'Desulfotalea psychrophila', (LineagePair(rank='superkingdom', name='Bacteria'), LineagePair(rank='phylum', name='Proteobacteria'), LineagePair(rank='class', name='Deltaproteobacteria'), LineagePair(rank='order', name='Desulfobacterales'), LineagePair(rank='family', name='Desulfobulbaceae'), LineagePair(rank='genus', name='Desulfotalea'), LineagePair(rank='species', name='Desulfotalea psychrophila')))]\n"
     ]
    }
   ],
   "source": [
    "def make_truth_lineages(filename):\n",
    "    rows = load_truth_file(filename)\n",
    "    \n",
    "    rows2 = []\n",
    "    for (taxid, a, b, rank, name) in rows:\n",
    "        lineage = make_lineage_from_taxid(taxid)\n",
    "        rows2.append((taxid, a, b, rank, name, lineage))\n",
    "        for lintup in lineage:\n",
    "            if lintup.rank == rank:\n",
    "                if lintup.name != name:\n",
    "                    print('DISAGREE: ncbi={}, truthfile={}'.format(lintup.name, name))\n",
    "    return rows2\n",
    "\n",
    "truth_lineages = make_truth_lineages('truth_sets/species/Huttenhower_HC1_TRUTH.txt')\n",
    "print(truth_lineages[:1])"
   ]
  },
  {
   "cell_type": "markdown",
   "metadata": {},
   "source": [
    "## Sourmash gather: mapping from accession -> lineages\n",
    "\n",
    "This is important for dealing with the CSV output of `sourmash gather`; `sourmash lca gather`\n",
    "comes with the taxonomy already in the CSV output."
   ]
  },
  {
   "cell_type": "code",
   "execution_count": 11,
   "metadata": {},
   "outputs": [
    {
     "data": {
      "text/plain": [
       "[{'average_abund': '1.0',\n",
       "  'f_match': '0.03466386554621849',\n",
       "  'f_orig_query': '0.008465879938429965',\n",
       "  'f_unique_to_query': '0.008465879938429965',\n",
       "  'f_unique_weighted': '0.008465879938429965',\n",
       "  'filename': 'inputs/databases/genbank-k51.sbt.json',\n",
       "  'intersect_bp': '330000',\n",
       "  'lineage': (),\n",
       "  'md5': 'd06a405d39c8ebed579540db2994afe8',\n",
       "  'name': 'NC_013132.1 Chitinophaga pinensis DSM 2588, complete genome'}]"
      ]
     },
     "execution_count": 11,
     "metadata": {},
     "output_type": "execute_result"
    }
   ],
   "source": [
    "def make_gather_lineages(filename):\n",
    "    rows = load_sourmash_csv(filename)\n",
    "    rows2 = []\n",
    "    for d in rows:\n",
    "        d2 = dict(d)\n",
    "        \n",
    "        lineage = []\n",
    "        for rank in lca_utils.taxlist():\n",
    "            if rank in d2:\n",
    "                name = d2.get(rank)\n",
    "                del d2[rank]\n",
    "                lineage.append((rank, name))\n",
    "                \n",
    "        lineage = [ lca_utils.LineagePair(r, n) for (r, n) in lineage ]\n",
    "        d2['lineage'] = tuple(lineage)\n",
    "        rows2.append(d2)\n",
    "        \n",
    "    return rows2\n",
    "\n",
    "make_gather_lineages('output/Huttenhower_HC1.fasta.gz_reads.scaled10k.k51.gather.matches.csv')[:1]"
   ]
  },
  {
   "cell_type": "markdown",
   "metadata": {},
   "source": [
    "## Load LCA gather csv files"
   ]
  },
  {
   "cell_type": "code",
   "execution_count": 12,
   "metadata": {},
   "outputs": [
    {
     "data": {
      "text/plain": [
       "[{'average_abund': '1.0',\n",
       "  'f_unique_to_query': '0.013083632632119035',\n",
       "  'f_unique_weighted': '0.013083632632119035',\n",
       "  'intersect_bp': '510000',\n",
       "  'lineage': (LineagePair(rank='superkingdom', name='Bacteria'),\n",
       "   LineagePair(rank='phylum', name='Firmicutes'),\n",
       "   LineagePair(rank='class', name='Bacilli'),\n",
       "   LineagePair(rank='order', name='Bacillales'),\n",
       "   LineagePair(rank='family', name='Bacillaceae'),\n",
       "   LineagePair(rank='genus', name='Bacillus'),\n",
       "   LineagePair(rank='species', name='Bacillus subtilis'))}]"
      ]
     },
     "execution_count": 12,
     "metadata": {},
     "output_type": "execute_result"
    }
   ],
   "source": [
    "def make_lca_gather_lineages(filename):\n",
    "    rows = load_sourmash_csv(filename)\n",
    "    rows2 = []\n",
    "    for d in rows:\n",
    "        d2 = dict(d)\n",
    "        \n",
    "        lineage = []\n",
    "        for rank in lca_utils.taxlist():\n",
    "            if rank in d2:\n",
    "                name = d2.get(rank)\n",
    "                del d2[rank]\n",
    "                lineage.append((rank, name))\n",
    "                \n",
    "        lineage = [ lca_utils.LineagePair(r, n) for (r, n) in lineage ]\n",
    "        d2['lineage'] = tuple(lineage)\n",
    "        rows2.append(d2)\n",
    "        \n",
    "    return rows2\n",
    "\n",
    "make_lca_gather_lineages('output/Huttenhower_HC1.fasta.gz.scaled10k.k51.lca.gather.matches.csv')[:1]"
   ]
  },
  {
   "cell_type": "code",
   "execution_count": 13,
   "metadata": {},
   "outputs": [
    {
     "name": "stdout",
     "output_type": "stream",
     "text": [
      "README.md                     gather-lineages\n",
      "Untitled.ipynb                gather-lineages.csv\n",
      "brooks-lineages.txt.taxid     \u001b[31mget-names-from-gather-csv.py\u001b[m\u001b[m*\n",
      "foo.csv                       \u001b[34moutput\u001b[m\u001b[m/\n",
      "gather-accessions.txt         parse.ipynb\n",
      "gather-accessions.txt.taxid   \u001b[34mtruth_sets\u001b[m\u001b[m/\n"
     ]
    }
   ],
   "source": [
    "ls"
   ]
  },
  {
   "cell_type": "code",
   "execution_count": 14,
   "metadata": {},
   "outputs": [
    {
     "name": "stdout",
     "output_type": "stream",
     "text": [
      "output/Huttenhower_HC1.fasta.gz.scaled10k.k51.lca.gather.matches.csv\n",
      "output/Huttenhower_HC1.fasta.gz_contigs.scaled10k.k51.lca.gather.matches.csv\n",
      "output/Huttenhower_HC1.fasta.gz_reads.scaled10k.k51.gather.matches.csv\n",
      "output/Huttenhower_HC1.fasta.gz_reads.scaled10k.k51.lca.gather.matches.csv\n"
     ]
    }
   ],
   "source": [
    "ls output/Huttenhower_HC1*"
   ]
  },
  {
   "cell_type": "code",
   "execution_count": 15,
   "metadata": {},
   "outputs": [
    {
     "name": "stdout",
     "output_type": "stream",
     "text": [
      "truth_sets/species/Huttenhower_HC1_TRUTH.txt\n"
     ]
    }
   ],
   "source": [
    "ls truth_sets/species/Huttenhower_HC1*"
   ]
  },
  {
   "cell_type": "code",
   "execution_count": 16,
   "metadata": {},
   "outputs": [
    {
     "name": "stdout",
     "output_type": "stream",
     "text": [
      "DISAGREE: ncbi=Clostridioides difficile, truthfile=Peptoclostridium difficile\n",
      "DISAGREE: ncbi=Sediminispirochaeta smaragdinae, truthfile=Spirochaeta smaragdinae\n",
      "0\n",
      "101\n",
      "100\n",
      "** in gather but not truth:\n",
      "\t ;;;;;;;\n",
      "\n",
      "** in truth but not gather:\n",
      "\t Bacteria;Proteobacteria;Alphaproteobacteria;Rhizobiales;Bradyrhizobiaceae;Nitrobacter;Nitrobacter winogradskyi;\n",
      "\t Bacteria;Proteobacteria;Alphaproteobacteria;Rhodobacterales;Rhodobacteraceae;Rhodobacter;Rhodobacter sphaeroides;\n",
      "\t Bacteria;Proteobacteria;Gammaproteobacteria;Vibrionales;Vibrionaceae;Vibrio;Vibrio parahaemolyticus;\n",
      "\t Bacteria;Proteobacteria;Gammaproteobacteria;Pseudomonadales;Pseudomonadaceae;Azotobacter;Azotobacter vinelandii;\n",
      "\t Bacteria;Firmicutes;Bacilli;Lactobacillales;Streptococcaceae;Streptococcus;Streptococcus pyogenes;\n",
      "\t Bacteria;Actinobacteria;Actinobacteria;Corynebacteriales;Mycobacteriaceae;Mycobacterium;Mycobacterium avium;\n",
      "\t Bacteria;Proteobacteria;Gammaproteobacteria;Xanthomonadales;Xanthomonadaceae;Pseudoxanthomonas;Pseudoxanthomonas suwonensis;\n",
      "\t Bacteria;Chlorobi;Chlorobia;Chlorobiales;Chlorobiaceae;Chlorobium;Chlorobium phaeovibrioides;\n",
      "\t Bacteria;Proteobacteria;Betaproteobacteria;Burkholderiales;Burkholderiaceae;Burkholderia;Burkholderia ambifaria;\n",
      "\t Bacteria;Firmicutes;Clostridia;Clostridiales;Peptostreptococcaceae;Clostridioides;Clostridioides difficile;\n",
      "\t Bacteria;Spirochaetes;Spirochaetia;Spirochaetales;Spirochaetaceae;Sediminispirochaeta;Sediminispirochaeta smaragdinae;\n",
      "\t Bacteria;Proteobacteria;Gammaproteobacteria;Xanthomonadales;Xanthomonadaceae;Xanthomonas;Xanthomonas campestris;\n",
      "\t Bacteria;Firmicutes;Bacilli;Bacillales;Staphylococcaceae;Staphylococcus;Staphylococcus pseudintermedius;\n",
      "\t Bacteria;Proteobacteria;Gammaproteobacteria;Methylococcales;Methylococcaceae;Methylococcus;Methylococcus capsulatus;\n",
      "\t Bacteria;Firmicutes;Bacilli;Bacillales;Bacillaceae;Bacillus;Bacillus atrophaeus;\n",
      "\t Archaea;Euryarchaeota;Thermococci;Thermococcales;Thermococcaceae;Thermococcus;Thermococcus barophilus;\n",
      "\t Bacteria;Actinobacteria;Actinobacteria;Propionibacteriales;Nocardioidaceae;Kribbella;Kribbella flavida;\n",
      "\t Bacteria;Firmicutes;Bacilli;Bacillales;unassigned;Exiguobacterium;Exiguobacterium sibiricum;\n",
      "\t Archaea;Crenarchaeota;Thermoprotei;Thermoproteales;Thermoproteaceae;Pyrobaculum;Pyrobaculum arsenaticum;\n",
      "\t Bacteria;Chlorobi;Chlorobia;Chlorobiales;Chlorobiaceae;Pelodictyon;Pelodictyon luteolum;\n",
      "\t Bacteria;Proteobacteria;Epsilonproteobacteria;Campylobacterales;Helicobacteraceae;Helicobacter;Helicobacter acinonychis;\n",
      "\t Bacteria;Proteobacteria;Gammaproteobacteria;Enterobacterales;Erwiniaceae;Pantoea;Pantoea vagans;\n",
      "\t Bacteria;Firmicutes;Bacilli;Bacillales;Listeriaceae;Listeria;Listeria welshimeri;\n",
      "\t Bacteria;Deinococcus-Thermus;Deinococci;Deinococcales;Deinococcaceae;Deinococcus;Deinococcus geothermalis;\n",
      "\t Bacteria;Bacteroidetes;Bacteroidia;Bacteroidales;Porphyromonadaceae;Porphyromonas;Porphyromonas gingivalis;\n",
      "\t Bacteria;Proteobacteria;Betaproteobacteria;Burkholderiales;Comamonadaceae;Delftia;Delftia acidovorans;\n",
      "\t Bacteria;Proteobacteria;Alphaproteobacteria;Rhodospirillales;Rhodospirillaceae;Rhodospirillum;Rhodospirillum rubrum;\n",
      "\t Bacteria;Spirochaetes;Spirochaetia;Spirochaetales;Borreliaceae;Borreliella;Borreliella bavariensis;\n",
      "\t Archaea;Euryarchaeota;Methanobacteria;Methanobacteriales;Methanobacteriaceae;Methanosphaera;Methanosphaera stadtmanae;\n",
      "\t Bacteria;Actinobacteria;Actinobacteria;Corynebacteriales;Corynebacteriaceae;Corynebacterium;Corynebacterium diphtheriae;\n",
      "\t Bacteria;Firmicutes;Bacilli;Bacillales;Bacillaceae;Bacillus;Bacillus subtilis;\n",
      "\t Bacteria;Actinobacteria;Actinobacteria;Pseudonocardiales;Pseudonocardiaceae;Saccharopolyspora;Saccharopolyspora erythraea;\n",
      "\t Bacteria;Proteobacteria;Gammaproteobacteria;Vibrionales;Vibrionaceae;Vibrio;Vibrio campbellii;\n",
      "\t Bacteria;Proteobacteria;Alphaproteobacteria;Rickettsiales;Rickettsiaceae;Rickettsia;Rickettsia akari;\n",
      "\t Bacteria;Deinococcus-Thermus;Deinococci;Thermales;Thermaceae;Thermus;Thermus thermophilus;\n",
      "\t Bacteria;Actinobacteria;Actinobacteria;Micrococcales;Micrococcaceae;Micrococcus;Micrococcus luteus;\n",
      "\t Bacteria;Firmicutes;Bacilli;Bacillales;Staphylococcaceae;Macrococcus;Macrococcus caseolyticus;\n",
      "\t Bacteria;Bacteroidetes;Chitinophagia;Chitinophagales;Chitinophagaceae;Chitinophaga;Chitinophaga pinensis;\n",
      "\t Bacteria;Proteobacteria;Betaproteobacteria;Burkholderiales;Oxalobacteraceae;Herminiimonas;Herminiimonas arsenicoxydans;\n",
      "\t Bacteria;Aquificae;Aquificae;Desulfurobacteriales;Desulfurobacteriaceae;Desulfurobacterium;Desulfurobacterium thermolithotrophum;\n",
      "\t Bacteria;Proteobacteria;Gammaproteobacteria;Pasteurellales;Pasteurellaceae;Haemophilus;Haemophilus influenzae;\n",
      "\t Bacteria;Bacteroidetes;Bacteroidia;Bacteroidales;Prevotellaceae;Prevotella;Prevotella ruminicola;\n",
      "\t Bacteria;Firmicutes;Bacilli;Lactobacillales;Lactobacillaceae;Lactobacillus;Lactobacillus plantarum;\n",
      "\t Bacteria;Thermotogae;Thermotogae;Thermotogales;Fervidobacteriaceae;Thermosipho;Thermosipho africanus;\n",
      "\t Bacteria;Chloroflexi;Chloroflexia;Chloroflexales;Chloroflexaceae;Chloroflexus;Chloroflexus aurantiacus;\n",
      "\t Bacteria;Firmicutes;Bacilli;Bacillales;Bacillaceae;Bacillus;Bacillus cereus;\n",
      "\t Bacteria;Proteobacteria;Alphaproteobacteria;Rhodospirillales;Acetobacteraceae;Granulibacter;Granulibacter bethesdensis;\n",
      "\t Bacteria;Proteobacteria;Epsilonproteobacteria;Campylobacterales;Helicobacteraceae;Helicobacter;Helicobacter hepaticus;\n",
      "\t Bacteria;Spirochaetes;Spirochaetia;Spirochaetales;Spirochaetaceae;Treponema;Treponema denticola;\n",
      "\t Archaea;Euryarchaeota;Thermococci;Thermococcales;Thermococcaceae;Thermococcus;Thermococcus gammatolerans;\n",
      "\t Bacteria;Proteobacteria;Betaproteobacteria;Rhodocyclales;Azonexaceae;Dechloromonas;Dechloromonas aromatica;\n",
      "\t Bacteria;Proteobacteria;Gammaproteobacteria;Alteromonadales;Shewanellaceae;Shewanella;Shewanella piezotolerans;\n",
      "\t Bacteria;Firmicutes;Bacilli;Lactobacillales;Streptococcaceae;Streptococcus;Streptococcus thermophilus;\n",
      "\t Bacteria;Firmicutes;Clostridia;Thermoanaerobacterales;Thermoanaerobacteraceae;Moorella;Moorella thermoacetica;\n",
      "\t Bacteria;Proteobacteria;Epsilonproteobacteria;Campylobacterales;Helicobacteraceae;Helicobacter;Helicobacter mustelae;\n",
      "\t Archaea;Crenarchaeota;Thermoprotei;Thermoproteales;Thermoproteaceae;Pyrobaculum;Pyrobaculum islandicum;\n",
      "\t Bacteria;Proteobacteria;Gammaproteobacteria;Oceanospirillales;Halomonadaceae;Halomonas;Halomonas elongata;\n",
      "\t Bacteria;Proteobacteria;Gammaproteobacteria;unassigned;unassigned;unassigned;Candidatus Baumannia cicadellinicola;\n",
      "\t Bacteria;Firmicutes;Bacilli;Lactobacillales;Lactobacillaceae;Lactobacillus;Lactobacillus helveticus;\n",
      "\t Bacteria;Proteobacteria;Gammaproteobacteria;Alteromonadales;Shewanellaceae;Shewanella;Shewanella denitrificans;\n",
      "\t Bacteria;Proteobacteria;Alphaproteobacteria;Caulobacterales;Caulobacteraceae;Phenylobacterium;Phenylobacterium zucineum;\n",
      "\t Bacteria;Proteobacteria;Betaproteobacteria;Burkholderiales;Comamonadaceae;Acidovorax;Acidovorax avenae;\n",
      "\t Bacteria;Proteobacteria;Gammaproteobacteria;Alteromonadales;Shewanellaceae;Shewanella;Shewanella sediminis;\n",
      "\t Bacteria;Proteobacteria;Gammaproteobacteria;Enterobacterales;Hafniaceae;Edwardsiella;Edwardsiella tarda;\n",
      "\t Bacteria;Proteobacteria;Gammaproteobacteria;Chromatiales;Chromatiaceae;Nitrosococcus;Nitrosococcus oceani;\n",
      "\t Bacteria;Bacteroidetes;Flavobacteriia;Flavobacteriales;Flavobacteriaceae;Flavobacterium;Flavobacterium johnsoniae;\n",
      "\t Bacteria;Proteobacteria;Betaproteobacteria;Burkholderiales;Burkholderiaceae;Burkholderia;Burkholderia pseudomallei;\n",
      "\t Bacteria;Proteobacteria;Gammaproteobacteria;Enterobacterales;Enterobacteriaceae;Klebsiella;Klebsiella variicola;\n",
      "\t Bacteria;Proteobacteria;Alphaproteobacteria;Sphingomonadales;Sphingomonadaceae;Sphingomonas;Sphingomonas wittichii;\n",
      "\t Bacteria;Actinobacteria;Actinobacteria;Kineosporiales;Kineosporiaceae;Kineococcus;Kineococcus radiotolerans;\n",
      "\t Bacteria;Bacteroidetes;Sphingobacteriia;Sphingobacteriales;Sphingobacteriaceae;Pseudopedobacter;Pseudopedobacter saltans;\n",
      "\t Bacteria;Proteobacteria;Gammaproteobacteria;Enterobacterales;Erwiniaceae;Pantoea;Pantoea ananatis;\n",
      "\t Bacteria;Proteobacteria;Deltaproteobacteria;Desulfobacterales;Desulfobacteraceae;Desulfobacterium;Desulfobacterium autotrophicum;\n",
      "\t Bacteria;Proteobacteria;Alphaproteobacteria;Rickettsiales;Anaplasmataceae;Anaplasma;Anaplasma centrale;\n",
      "\t Bacteria;Chloroflexi;Thermomicrobia;Sphaerobacterales;Sphaerobacteraceae;Sphaerobacter;Sphaerobacter thermophilus;\n",
      "\t Bacteria;Tenericutes;Mollicutes;Mycoplasmatales;Mycoplasmataceae;Mycoplasma;Mycoplasma crocodyli;\n",
      "\t Bacteria;Chloroflexi;Chloroflexia;Chloroflexales;Chloroflexaceae;Chloroflexus;Chloroflexus aggregans;\n",
      "\t Bacteria;Proteobacteria;Gammaproteobacteria;Vibrionales;Vibrionaceae;Vibrio;Vibrio cholerae;\n",
      "\t Bacteria;Firmicutes;Clostridia;Thermoanaerobacterales;Thermoanaerobacterales Family III. Incertae Sedis;Caldicellulosiruptor;Caldicellulosiruptor obsidiansis;\n",
      "\t Archaea;Euryarchaeota;Methanococci;Methanococcales;Methanocaldococcaceae;Methanocaldococcus;Methanocaldococcus fervens;\n",
      "\t Bacteria;Firmicutes;Bacilli;Bacillales;Bacillaceae;Oceanobacillus;Oceanobacillus iheyensis;\n",
      "\t Bacteria;Firmicutes;Clostridia;Clostridiales;Syntrophomonadaceae;Syntrophomonas;Syntrophomonas wolfei;\n",
      "\t Bacteria;Proteobacteria;Betaproteobacteria;Burkholderiales;Burkholderiaceae;Ralstonia;Ralstonia pickettii;\n",
      "\t Bacteria;Spirochaetes;Spirochaetia;unassigned;Leptospiraceae;Leptospira;Leptospira biflexa;\n",
      "\t Bacteria;Cyanobacteria;Gloeobacteria;Gloeobacterales;Gloeobacteraceae;Gloeobacter;Gloeobacter violaceus;\n",
      "\t Bacteria;Proteobacteria;Alphaproteobacteria;Rhizobiales;Methylobacteriaceae;Methylobacterium;Methylobacterium extorquens;\n",
      "\t Bacteria;Firmicutes;Clostridia;Thermoanaerobacterales;Thermoanaerobacterales Family III. Incertae Sedis;Caldicellulosiruptor;Caldicellulosiruptor saccharolyticus;\n",
      "\t Bacteria;Actinobacteria;Actinobacteria;Corynebacteriales;Mycobacteriaceae;Mycobacterium;Mycobacterium leprae;\n",
      "\t Archaea;Euryarchaeota;Methanobacteria;Methanobacteriales;Methanothermaceae;Methanothermus;Methanothermus fervidus;\n",
      "\t Archaea;Euryarchaeota;Methanomicrobia;Methanosarcinales;Methanosarcinaceae;Methanosarcina;Methanosarcina acetivorans;\n",
      "\t Bacteria;Proteobacteria;Betaproteobacteria;Nitrosomonadales;Nitrosomonadaceae;Nitrosomonas;Nitrosomonas europaea;\n",
      "\t Bacteria;Firmicutes;Bacilli;Bacillales;Bacillaceae;Bacillus;Bacillus thuringiensis;\n",
      "\t Archaea;Euryarchaeota;Methanomicrobia;Methanosarcinales;Methanosarcinaceae;Methanosarcina;Methanosarcina barkeri;\n",
      "\t Bacteria;Tenericutes;Mollicutes;Mycoplasmatales;Mycoplasmataceae;Ureaplasma;Ureaplasma urealyticum;\n",
      "\t Bacteria;Proteobacteria;Gammaproteobacteria;Vibrionales;Vibrionaceae;Vibrio;Vibrio vulnificus;\n",
      "\t Bacteria;Proteobacteria;Deltaproteobacteria;Desulfobacterales;Desulfobulbaceae;Desulfotalea;Desulfotalea psychrophila;\n",
      "\t Archaea;Euryarchaeota;Thermococci;Thermococcales;Thermococcaceae;Thermococcus;Thermococcus kodakarensis;\n",
      "\t Bacteria;Bacteroidetes;Flavobacteriia;Flavobacteriales;Flavobacteriaceae;Capnocytophaga;Capnocytophaga ochracea;\n",
      "\t Bacteria;Proteobacteria;Gammaproteobacteria;Enterobacterales;Yersiniaceae;Serratia;Serratia proteamaculans;\n",
      "\t Bacteria;Firmicutes;Bacilli;Lactobacillales;Lactobacillaceae;Lactobacillus;Lactobacillus johnsonii;\n"
     ]
    }
   ],
   "source": [
    "def compare_gather_to_truth(truth_file, gather_csv):\n",
    "    truth = make_truth_lineages(truth_file)\n",
    "    gather = make_gather_lineages(gather_csv)\n",
    "    \n",
    "    truth_lineages = set([ t[5] for t in truth ])\n",
    "    gather_lineages = set([ row['lineage'] for row in gather ])\n",
    "    \n",
    "    print(len(truth_lineages.intersection(gather_lineages)))\n",
    "    print(len(truth_lineages.union(gather_lineages)))\n",
    "    \n",
    "    print(len(truth_lineages))\n",
    "    \n",
    "    print('** in gather but not truth:')\n",
    "    for diff in gather_lineages - truth_lineages:\n",
    "        print('\\t', format_lineage(diff))\n",
    "    \n",
    "    print('\\n** in truth but not gather:')\n",
    "    for diff in truth_lineages - gather_lineages:\n",
    "        print('\\t', format_lineage(diff))\n",
    "    \n",
    "compare_gather_to_truth('truth_sets/species/Huttenhower_HC1_TRUTH.txt',\n",
    "                        'output/Huttenhower_HC1.fasta.gz_reads.scaled10k.k51.gather.matches.csv')\n"
   ]
  },
  {
   "cell_type": "code",
   "execution_count": 17,
   "metadata": {},
   "outputs": [
    {
     "name": "stdout",
     "output_type": "stream",
     "text": [
      "DISAGREE: ncbi=Clostridioides difficile, truthfile=Peptoclostridium difficile\n",
      "DISAGREE: ncbi=Sediminispirochaeta smaragdinae, truthfile=Spirochaeta smaragdinae\n",
      "97\n",
      "106\n",
      "100\n",
      "** in gather but not truth:\n",
      "\t Bacteria;Proteobacteria;Gammaproteobacteria;Vibrionales;Vibrionaceae;Vibrio;Vibrio hyugaensis;\n",
      "\t Bacteria;Proteobacteria;Gammaproteobacteria;Enterobacterales;Hafniaceae;Edwardsiella;Edwardsiella piscicida;\n",
      "\t Bacteria;Firmicutes;Bacilli;Lactobacillales;Lactobacillaceae;Lactobacillus;Lactobacillus gallinarum;\n",
      "\t Bacteria;Firmicutes;Bacilli;Bacillales;Bacillaceae;Bacillus;Bacillus sp. GZT;\n",
      "\t Bacteria;Proteobacteria;Epsilonproteobacteria;Campylobacterales;Helicobacteraceae;Helicobacter;Helicobacter pylori;\n",
      "\t Bacteria;Proteobacteria;Betaproteobacteria;Rhodocyclales;Rhodocyclaceae;Dechloromonas;Dechloromonas aromatica;\n",
      "\n",
      "** in truth but not gather:\n",
      "\t Bacteria;Proteobacteria;Gammaproteobacteria;Enterobacterales;Hafniaceae;Edwardsiella;Edwardsiella tarda;\n",
      "\t Bacteria;Proteobacteria;Betaproteobacteria;Rhodocyclales;Azonexaceae;Dechloromonas;Dechloromonas aromatica;\n",
      "\t Bacteria;Firmicutes;Bacilli;Bacillales;Bacillaceae;Bacillus;Bacillus atrophaeus;\n"
     ]
    }
   ],
   "source": [
    "def compare_lca_gather_to_truth(truth_file, gather_csv):\n",
    "    truth = make_truth_lineages(truth_file)\n",
    "    gather = make_lca_gather_lineages(gather_csv)\n",
    "    \n",
    "    truth_lineages = set([ t[5] for t in truth ])\n",
    "    gather_lineages = set([ row['lineage'] for row in gather ])\n",
    "    \n",
    "    print(len(truth_lineages.intersection(gather_lineages)))\n",
    "    print(len(truth_lineages.union(gather_lineages)))\n",
    "    \n",
    "    print(len(truth_lineages))\n",
    "    \n",
    "    print('** in gather but not truth:')\n",
    "    for diff in gather_lineages - truth_lineages:\n",
    "        print('\\t', format_lineage(diff))\n",
    "    \n",
    "    print('\\n** in truth but not gather:')\n",
    "    for diff in truth_lineages - gather_lineages:\n",
    "        print('\\t', format_lineage(diff))\n",
    "    \n",
    "compare_lca_gather_to_truth('truth_sets/species/Huttenhower_HC1_TRUTH.txt',\n",
    "                        'output/Huttenhower_HC1.fasta.gz_reads.scaled10k.k51.lca.gather.matches.csv')\n"
   ]
  },
  {
   "cell_type": "code",
   "execution_count": 18,
   "metadata": {},
   "outputs": [
    {
     "name": "stdout",
     "output_type": "stream",
     "text": [
      "0\n",
      "104\n",
      "** in lca_gather but not reg gather:\n",
      "\t Bacteria;Proteobacteria;Alphaproteobacteria;Rhizobiales;Bradyrhizobiaceae;Nitrobacter;Nitrobacter winogradskyi;\n",
      "\t Bacteria;Proteobacteria;Alphaproteobacteria;Rhodobacterales;Rhodobacteraceae;Rhodobacter;Rhodobacter sphaeroides;\n",
      "\t Bacteria;Proteobacteria;Gammaproteobacteria;Vibrionales;Vibrionaceae;Vibrio;Vibrio parahaemolyticus;\n",
      "\t Bacteria;Proteobacteria;Gammaproteobacteria;Pseudomonadales;Pseudomonadaceae;Azotobacter;Azotobacter vinelandii;\n",
      "\t Bacteria;Actinobacteria;Actinobacteria;Corynebacteriales;Mycobacteriaceae;Mycobacterium;Mycobacterium avium;\n",
      "\t Bacteria;Firmicutes;Bacilli;Lactobacillales;Streptococcaceae;Streptococcus;Streptococcus pyogenes;\n",
      "\t Bacteria;Proteobacteria;Gammaproteobacteria;Xanthomonadales;Xanthomonadaceae;Pseudoxanthomonas;Pseudoxanthomonas suwonensis;\n",
      "\t Bacteria;Chlorobi;Chlorobia;Chlorobiales;Chlorobiaceae;Chlorobium;Chlorobium phaeovibrioides;\n",
      "\t Bacteria;Proteobacteria;Betaproteobacteria;Burkholderiales;Burkholderiaceae;Burkholderia;Burkholderia ambifaria;\n",
      "\t Bacteria;Firmicutes;Clostridia;Clostridiales;Peptostreptococcaceae;Clostridioides;Clostridioides difficile;\n",
      "\t Bacteria;Spirochaetes;Spirochaetia;Spirochaetales;Spirochaetaceae;Sediminispirochaeta;Sediminispirochaeta smaragdinae;\n",
      "\t Bacteria;Proteobacteria;Gammaproteobacteria;Xanthomonadales;Xanthomonadaceae;Xanthomonas;Xanthomonas campestris;\n",
      "\t Bacteria;Firmicutes;Bacilli;Bacillales;Staphylococcaceae;Staphylococcus;Staphylococcus pseudintermedius;\n",
      "\t Bacteria;Proteobacteria;Gammaproteobacteria;Methylococcales;Methylococcaceae;Methylococcus;Methylococcus capsulatus;\n",
      "\t Archaea;Euryarchaeota;Thermococci;Thermococcales;Thermococcaceae;Thermococcus;Thermococcus barophilus;\n",
      "\t Bacteria;Actinobacteria;Actinobacteria;Propionibacteriales;Nocardioidaceae;Kribbella;Kribbella flavida;\n",
      "\t Bacteria;Firmicutes;Bacilli;Bacillales;unassigned;Exiguobacterium;Exiguobacterium sibiricum;\n",
      "\t Archaea;Crenarchaeota;Thermoprotei;Thermoproteales;Thermoproteaceae;Pyrobaculum;Pyrobaculum arsenaticum;\n",
      "\t Bacteria;Chlorobi;Chlorobia;Chlorobiales;Chlorobiaceae;Pelodictyon;Pelodictyon luteolum;\n",
      "\t Bacteria;Proteobacteria;Epsilonproteobacteria;Campylobacterales;Helicobacteraceae;Helicobacter;Helicobacter acinonychis;\n",
      "\t Bacteria;Proteobacteria;Gammaproteobacteria;Enterobacterales;Erwiniaceae;Pantoea;Pantoea vagans;\n",
      "\t Bacteria;Firmicutes;Bacilli;Bacillales;Listeriaceae;Listeria;Listeria welshimeri;\n",
      "\t Bacteria;Deinococcus-Thermus;Deinococci;Deinococcales;Deinococcaceae;Deinococcus;Deinococcus geothermalis;\n",
      "\t Bacteria;Bacteroidetes;Bacteroidia;Bacteroidales;Porphyromonadaceae;Porphyromonas;Porphyromonas gingivalis;\n",
      "\t Bacteria;Proteobacteria;Betaproteobacteria;Burkholderiales;Comamonadaceae;Delftia;Delftia acidovorans;\n",
      "\t Bacteria;Proteobacteria;Alphaproteobacteria;Rhodospirillales;Rhodospirillaceae;Rhodospirillum;Rhodospirillum rubrum;\n",
      "\t Bacteria;Spirochaetes;Spirochaetia;Spirochaetales;Borreliaceae;Borreliella;Borreliella bavariensis;\n",
      "\t Archaea;Euryarchaeota;Methanobacteria;Methanobacteriales;Methanobacteriaceae;Methanosphaera;Methanosphaera stadtmanae;\n",
      "\t Bacteria;Actinobacteria;Actinobacteria;Corynebacteriales;Corynebacteriaceae;Corynebacterium;Corynebacterium diphtheriae;\n",
      "\t Bacteria;Firmicutes;Bacilli;Bacillales;Bacillaceae;Bacillus;Bacillus subtilis;\n",
      "\t Bacteria;Actinobacteria;Actinobacteria;Pseudonocardiales;Pseudonocardiaceae;Saccharopolyspora;Saccharopolyspora erythraea;\n",
      "\t Bacteria;Proteobacteria;Gammaproteobacteria;Vibrionales;Vibrionaceae;Vibrio;Vibrio campbellii;\n",
      "\t Bacteria;Firmicutes;Bacilli;Lactobacillales;Lactobacillaceae;Lactobacillus;Lactobacillus gallinarum;\n",
      "\t Bacteria;Proteobacteria;Alphaproteobacteria;Rickettsiales;Rickettsiaceae;Rickettsia;Rickettsia akari;\n",
      "\t Bacteria;Deinococcus-Thermus;Deinococci;Thermales;Thermaceae;Thermus;Thermus thermophilus;\n",
      "\t Bacteria;Actinobacteria;Actinobacteria;Micrococcales;Micrococcaceae;Micrococcus;Micrococcus luteus;\n",
      "\t Bacteria;Firmicutes;Bacilli;Bacillales;Staphylococcaceae;Macrococcus;Macrococcus caseolyticus;\n",
      "\t Bacteria;Bacteroidetes;Chitinophagia;Chitinophagales;Chitinophagaceae;Chitinophaga;Chitinophaga pinensis;\n",
      "\t Bacteria;Proteobacteria;Betaproteobacteria;Burkholderiales;Oxalobacteraceae;Herminiimonas;Herminiimonas arsenicoxydans;\n",
      "\t Bacteria;Proteobacteria;Gammaproteobacteria;Pasteurellales;Pasteurellaceae;Haemophilus;Haemophilus influenzae;\n",
      "\t Bacteria;Aquificae;Aquificae;Desulfurobacteriales;Desulfurobacteriaceae;Desulfurobacterium;Desulfurobacterium thermolithotrophum;\n",
      "\t Bacteria;Bacteroidetes;Bacteroidia;Bacteroidales;Prevotellaceae;Prevotella;Prevotella ruminicola;\n",
      "\t Bacteria;Chloroflexi;Chloroflexia;Chloroflexales;Chloroflexaceae;Chloroflexus;Chloroflexus aurantiacus;\n",
      "\t Bacteria;Thermotogae;Thermotogae;Thermotogales;Fervidobacteriaceae;Thermosipho;Thermosipho africanus;\n",
      "\t Bacteria;Proteobacteria;Alphaproteobacteria;Rhodospirillales;Acetobacteraceae;Granulibacter;Granulibacter bethesdensis;\n",
      "\t Bacteria;Firmicutes;Bacilli;Bacillales;Bacillaceae;Bacillus;Bacillus cereus;\n",
      "\t Bacteria;Firmicutes;Bacilli;Lactobacillales;Lactobacillaceae;Lactobacillus;Lactobacillus plantarum;\n",
      "\t Bacteria;Proteobacteria;Epsilonproteobacteria;Campylobacterales;Helicobacteraceae;Helicobacter;Helicobacter hepaticus;\n",
      "\t Bacteria;Spirochaetes;Spirochaetia;Spirochaetales;Spirochaetaceae;Treponema;Treponema denticola;\n",
      "\t Archaea;Euryarchaeota;Thermococci;Thermococcales;Thermococcaceae;Thermococcus;Thermococcus gammatolerans;\n",
      "\t Bacteria;Proteobacteria;Gammaproteobacteria;Alteromonadales;Shewanellaceae;Shewanella;Shewanella piezotolerans;\n",
      "\t Bacteria;Firmicutes;Bacilli;Lactobacillales;Streptococcaceae;Streptococcus;Streptococcus thermophilus;\n",
      "\t Bacteria;Firmicutes;Clostridia;Thermoanaerobacterales;Thermoanaerobacteraceae;Moorella;Moorella thermoacetica;\n",
      "\t Bacteria;Proteobacteria;Epsilonproteobacteria;Campylobacterales;Helicobacteraceae;Helicobacter;Helicobacter pylori;\n",
      "\t Bacteria;Proteobacteria;Epsilonproteobacteria;Campylobacterales;Helicobacteraceae;Helicobacter;Helicobacter mustelae;\n",
      "\t Archaea;Crenarchaeota;Thermoprotei;Thermoproteales;Thermoproteaceae;Pyrobaculum;Pyrobaculum islandicum;\n",
      "\t Bacteria;Proteobacteria;Gammaproteobacteria;Oceanospirillales;Halomonadaceae;Halomonas;Halomonas elongata;\n",
      "\t Bacteria;Proteobacteria;Gammaproteobacteria;unassigned;unassigned;unassigned;Candidatus Baumannia cicadellinicola;\n",
      "\t Bacteria;Firmicutes;Bacilli;Lactobacillales;Lactobacillaceae;Lactobacillus;Lactobacillus helveticus;\n",
      "\t Bacteria;Proteobacteria;Gammaproteobacteria;Vibrionales;Vibrionaceae;Vibrio;Vibrio hyugaensis;\n",
      "\t Bacteria;Firmicutes;Bacilli;Bacillales;Bacillaceae;Bacillus;Bacillus sp. GZT;\n",
      "\t Bacteria;Proteobacteria;Gammaproteobacteria;Alteromonadales;Shewanellaceae;Shewanella;Shewanella denitrificans;\n",
      "\t Bacteria;Proteobacteria;Alphaproteobacteria;Caulobacterales;Caulobacteraceae;Phenylobacterium;Phenylobacterium zucineum;\n",
      "\t Bacteria;Proteobacteria;Betaproteobacteria;Burkholderiales;Comamonadaceae;Acidovorax;Acidovorax avenae;\n",
      "\t Bacteria;Proteobacteria;Gammaproteobacteria;Alteromonadales;Shewanellaceae;Shewanella;Shewanella sediminis;\n",
      "\t Bacteria;Proteobacteria;Gammaproteobacteria;Chromatiales;Chromatiaceae;Nitrosococcus;Nitrosococcus oceani;\n",
      "\t Bacteria;Proteobacteria;Betaproteobacteria;Rhodocyclales;Rhodocyclaceae;Dechloromonas;Dechloromonas aromatica;\n",
      "\t Bacteria;Bacteroidetes;Flavobacteriia;Flavobacteriales;Flavobacteriaceae;Flavobacterium;Flavobacterium johnsoniae;\n",
      "\t Bacteria;Proteobacteria;Betaproteobacteria;Burkholderiales;Burkholderiaceae;Burkholderia;Burkholderia pseudomallei;\n",
      "\t Bacteria;Proteobacteria;Gammaproteobacteria;Enterobacterales;Enterobacteriaceae;Klebsiella;Klebsiella variicola;\n",
      "\t Bacteria;Proteobacteria;Alphaproteobacteria;Sphingomonadales;Sphingomonadaceae;Sphingomonas;Sphingomonas wittichii;\n",
      "\t Bacteria;Actinobacteria;Actinobacteria;Kineosporiales;Kineosporiaceae;Kineococcus;Kineococcus radiotolerans;\n",
      "\t Bacteria;Bacteroidetes;Sphingobacteriia;Sphingobacteriales;Sphingobacteriaceae;Pseudopedobacter;Pseudopedobacter saltans;\n",
      "\t Bacteria;Proteobacteria;Gammaproteobacteria;Enterobacterales;Erwiniaceae;Pantoea;Pantoea ananatis;\n",
      "\t Bacteria;Proteobacteria;Deltaproteobacteria;Desulfobacterales;Desulfobacteraceae;Desulfobacterium;Desulfobacterium autotrophicum;\n",
      "\t Bacteria;Proteobacteria;Alphaproteobacteria;Rickettsiales;Anaplasmataceae;Anaplasma;Anaplasma centrale;\n",
      "\t Bacteria;Chloroflexi;Thermomicrobia;Sphaerobacterales;Sphaerobacteraceae;Sphaerobacter;Sphaerobacter thermophilus;\n",
      "\t Bacteria;Proteobacteria;Gammaproteobacteria;Vibrionales;Vibrionaceae;Vibrio;Vibrio cholerae;\n",
      "\t Bacteria;Chloroflexi;Chloroflexia;Chloroflexales;Chloroflexaceae;Chloroflexus;Chloroflexus aggregans;\n",
      "\t Bacteria;Tenericutes;Mollicutes;Mycoplasmatales;Mycoplasmataceae;Mycoplasma;Mycoplasma crocodyli;\n",
      "\t Bacteria;Firmicutes;Clostridia;Thermoanaerobacterales;Thermoanaerobacterales Family III. Incertae Sedis;Caldicellulosiruptor;Caldicellulosiruptor obsidiansis;\n",
      "\t Archaea;Euryarchaeota;Methanococci;Methanococcales;Methanocaldococcaceae;Methanocaldococcus;Methanocaldococcus fervens;\n",
      "\t Bacteria;Proteobacteria;Betaproteobacteria;Burkholderiales;Burkholderiaceae;Ralstonia;Ralstonia pickettii;\n",
      "\t Bacteria;Firmicutes;Bacilli;Bacillales;Bacillaceae;Oceanobacillus;Oceanobacillus iheyensis;\n",
      "\t Bacteria;Firmicutes;Clostridia;Clostridiales;Syntrophomonadaceae;Syntrophomonas;Syntrophomonas wolfei;\n",
      "\t Bacteria;Spirochaetes;Spirochaetia;unassigned;Leptospiraceae;Leptospira;Leptospira biflexa;\n",
      "\t Bacteria;Cyanobacteria;Gloeobacteria;Gloeobacterales;Gloeobacteraceae;Gloeobacter;Gloeobacter violaceus;\n",
      "\t Bacteria;Proteobacteria;Alphaproteobacteria;Rhizobiales;Methylobacteriaceae;Methylobacterium;Methylobacterium extorquens;\n",
      "\t Bacteria;Firmicutes;Clostridia;Thermoanaerobacterales;Thermoanaerobacterales Family III. Incertae Sedis;Caldicellulosiruptor;Caldicellulosiruptor saccharolyticus;\n",
      "\t Bacteria;Actinobacteria;Actinobacteria;Corynebacteriales;Mycobacteriaceae;Mycobacterium;Mycobacterium leprae;\n",
      "\t Archaea;Euryarchaeota;Methanobacteria;Methanobacteriales;Methanothermaceae;Methanothermus;Methanothermus fervidus;\n",
      "\t Archaea;Euryarchaeota;Methanomicrobia;Methanosarcinales;Methanosarcinaceae;Methanosarcina;Methanosarcina acetivorans;\n",
      "\t Bacteria;Proteobacteria;Betaproteobacteria;Nitrosomonadales;Nitrosomonadaceae;Nitrosomonas;Nitrosomonas europaea;\n",
      "\t Bacteria;Firmicutes;Bacilli;Bacillales;Bacillaceae;Bacillus;Bacillus thuringiensis;\n",
      "\t Archaea;Euryarchaeota;Methanomicrobia;Methanosarcinales;Methanosarcinaceae;Methanosarcina;Methanosarcina barkeri;\n",
      "\t Bacteria;Tenericutes;Mollicutes;Mycoplasmatales;Mycoplasmataceae;Ureaplasma;Ureaplasma urealyticum;\n",
      "\t Bacteria;Proteobacteria;Gammaproteobacteria;Vibrionales;Vibrionaceae;Vibrio;Vibrio vulnificus;\n",
      "\t Bacteria;Proteobacteria;Deltaproteobacteria;Desulfobacterales;Desulfobulbaceae;Desulfotalea;Desulfotalea psychrophila;\n",
      "\t Bacteria;Proteobacteria;Gammaproteobacteria;Enterobacterales;Hafniaceae;Edwardsiella;Edwardsiella piscicida;\n",
      "\t Archaea;Euryarchaeota;Thermococci;Thermococcales;Thermococcaceae;Thermococcus;Thermococcus kodakarensis;\n",
      "\t Bacteria;Bacteroidetes;Flavobacteriia;Flavobacteriales;Flavobacteriaceae;Capnocytophaga;Capnocytophaga ochracea;\n",
      "\t Bacteria;Proteobacteria;Gammaproteobacteria;Enterobacterales;Yersiniaceae;Serratia;Serratia proteamaculans;\n",
      "\t Bacteria;Firmicutes;Bacilli;Lactobacillales;Lactobacillaceae;Lactobacillus;Lactobacillus johnsonii;\n",
      "\n",
      "** in gather but not lca gather:\n",
      "\t ;;;;;;;\n"
     ]
    }
   ],
   "source": [
    "def compare_lca_gather_to_gather(lca_gather_csv, gather_csv):\n",
    "    reg_gather = make_gather_lineages(gather_csv)\n",
    "    lca_gather = make_lca_gather_lineages(lca_gather_csv)\n",
    "    \n",
    "    reg_gather_lineages = set([ row['lineage'] for row in reg_gather ])\n",
    "    lca_gather_lineages = set([ row['lineage'] for row in lca_gather ])\n",
    "    \n",
    "    print(len(lca_gather_lineages.intersection(reg_gather_lineages)))\n",
    "    print(len(lca_gather_lineages.union(reg_gather_lineages)))\n",
    "        \n",
    "    print('** in lca_gather but not reg gather:')\n",
    "    for diff in lca_gather_lineages - reg_gather_lineages:\n",
    "        print('\\t', format_lineage(diff))\n",
    "    \n",
    "    print('\\n** in gather but not lca gather:')\n",
    "    for diff in reg_gather_lineages - lca_gather_lineages:\n",
    "        print('\\t', format_lineage(diff))\n",
    "    \n",
    "compare_lca_gather_to_gather('output/Huttenhower_HC1.fasta.gz_reads.scaled10k.k51.lca.gather.matches.csv',\n",
    "                            'output/Huttenhower_HC1.fasta.gz_reads.scaled10k.k51.gather.matches.csv')\n"
   ]
  },
  {
   "cell_type": "code",
   "execution_count": 19,
   "metadata": {},
   "outputs": [
    {
     "name": "stdout",
     "output_type": "stream",
     "text": [
      "['ABRF_MGRG_10ng', 'ABRF_MGRG_1ng', 'ABRF_MGRG_5ng', 'ABRF_MGRG_Half', 'ABRF_MGRG_Normal', 'ABRF_MGRG_classIplus', 'BMI_bmi_reads', 'BioPool_BioPool', 'BioPool_BioPool_abun', 'Carma_eval_carma', 'HMP_even_454_SRR072233', 'HMP_even_illum_SRR172902', 'Huttenhower_HC-LC_abun', 'Huttenhower_HC1', 'Huttenhower_HC2', 'Huttenhower_LC1', 'Huttenhower_LC2', 'Huttenhower_LC3', 'Huttenhower_LC4', 'Huttenhower_LC5', 'Huttenhower_LC6', 'Huttenhower_LC7', 'Huttenhower_LC8', 'JGI_SRR033547', 'JGI_SRR033548', 'JGI_SRR033549', 'Mavromatis_simHC', 'Mavromatis_simLC', 'Mavromatis_simMC', 'Raiphy_eval_RAIphy', 'UnAmbiguouslyMapped_ds.7', 'UnAmbiguouslyMapped_ds.buccal', 'UnAmbiguouslyMapped_ds.cityparks', 'UnAmbiguouslyMapped_ds.gut', 'UnAmbiguouslyMapped_ds.hous1', 'UnAmbiguouslyMapped_ds.hous2', 'UnAmbiguouslyMapped_ds.nycsm', 'UnAmbiguouslyMapped_ds.soil']\n"
     ]
    }
   ],
   "source": [
    "all_truth = \"\"\"ABRF_MGRG_10ng_TRUTH.txt\n",
    "ABRF_MGRG_1ng_TRUTH.txt\n",
    "ABRF_MGRG_5ng_TRUTH.txt\n",
    "ABRF_MGRG_Half_TRUTH.txt\n",
    "ABRF_MGRG_Normal_TRUTH.txt\n",
    "ABRF_MGRG_classIplus_TRUTH.txt\n",
    "BMI_bmi_reads_TRUTH.txt\n",
    "BioPool_BioPool_TRUTH.txt\n",
    "BioPool_BioPool_abundances.txt\n",
    "Carma_eval_carma_TRUTH.txt\n",
    "HMP_even_454_SRR072233_TRUTH.txt\n",
    "HMP_even_illum_SRR172902_TRUTH.txt\n",
    "Huttenhower_HC-LC_abundances.txt\n",
    "Huttenhower_HC1_TRUTH.txt\n",
    "Huttenhower_HC2_TRUTH.txt\n",
    "Huttenhower_LC1_TRUTH.txt\n",
    "Huttenhower_LC2_TRUTH.txt\n",
    "Huttenhower_LC3_TRUTH.txt\n",
    "Huttenhower_LC4_TRUTH.txt\n",
    "Huttenhower_LC5_TRUTH.txt\n",
    "Huttenhower_LC6_TRUTH.txt\n",
    "Huttenhower_LC7_TRUTH.txt\n",
    "Huttenhower_LC8_TRUTH.txt\n",
    "JGI_SRR033547_TRUTH.txt\n",
    "JGI_SRR033548_TRUTH.txt\n",
    "JGI_SRR033549_TRUTH.txt\n",
    "Mavromatis_simHC_TRUTH.txt\n",
    "Mavromatis_simLC_TRUTH.txt\n",
    "Mavromatis_simMC_TRUTH.txt\n",
    "Raiphy_eval_RAIphy_TRUTH.txt\n",
    "UnAmbiguouslyMapped_ds.7_TRUTH.txt\n",
    "UnAmbiguouslyMapped_ds.buccal_TRUTH.txt\n",
    "UnAmbiguouslyMapped_ds.cityparks_TRUTH.txt\n",
    "UnAmbiguouslyMapped_ds.gut_TRUTH.txt\n",
    "UnAmbiguouslyMapped_ds.hous1_TRUTH.txt\n",
    "UnAmbiguouslyMapped_ds.hous2_TRUTH.txt\n",
    "UnAmbiguouslyMapped_ds.nycsm_TRUTH.txt\n",
    "UnAmbiguouslyMapped_ds.soil_TRUTH.txt\"\"\"\n",
    "\n",
    "all_truth = all_truth.splitlines()\n",
    "all_truth = [ x[:-10] for x in all_truth ]\n",
    "print(all_truth)"
   ]
  },
  {
   "cell_type": "code",
   "execution_count": 20,
   "metadata": {},
   "outputs": [],
   "source": [
    "triples = []\n",
    "for prefix in all_truth:\n",
    "    truth_file = 'truth_sets/species/{}_TRUTH.txt'.format(prefix)\n",
    "    lca_gather_file = 'output/{}.fasta.gz_reads.scaled10k.k51.lca.gather.matches.csv'.format(prefix)\n",
    "    gather_file = 'output/{}.fasta.gz_reads.scaled10k.k51.gather.matches.csv'.format(prefix)\n",
    "    \n",
    "    if os.path.exists(truth_file) and os.path.exists(lca_gather_file) and os.path.exists(gather_file):\n",
    "        triples.append((truth_file, lca_gather_file, gather_file))"
   ]
  },
  {
   "cell_type": "code",
   "execution_count": 21,
   "metadata": {},
   "outputs": [
    {
     "name": "stdout",
     "output_type": "stream",
     "text": [
      "{'lca_gather': 'output/Huttenhower_HC1.fasta.gz_reads.scaled10k.k51.lca.gather.matches.csv', 'gather': 'output/Huttenhower_HC1.fasta.gz_reads.scaled10k.k51.gather.matches.csv'}\n",
      "truth_sets/species/Huttenhower_HC1_TRUTH.txt\n",
      "{'lca_gather': 'output/Huttenhower_HC2.fasta.gz_reads.scaled10k.k51.lca.gather.matches.csv', 'gather': 'output/Huttenhower_HC2.fasta.gz_reads.scaled10k.k51.gather.matches.csv'}\n",
      "truth_sets/species/Huttenhower_HC2_TRUTH.txt\n",
      "{'lca_gather': 'output/Huttenhower_LC1.fasta.gz_reads.scaled10k.k51.lca.gather.matches.csv', 'gather': 'output/Huttenhower_LC1.fasta.gz_reads.scaled10k.k51.gather.matches.csv'}\n",
      "truth_sets/species/Huttenhower_LC1_TRUTH.txt\n",
      "{'lca_gather': 'output/Huttenhower_LC2.fasta.gz_reads.scaled10k.k51.lca.gather.matches.csv', 'gather': 'output/Huttenhower_LC2.fasta.gz_reads.scaled10k.k51.gather.matches.csv'}\n",
      "truth_sets/species/Huttenhower_LC2_TRUTH.txt\n",
      "{'lca_gather': 'output/Huttenhower_LC3.fasta.gz_reads.scaled10k.k51.lca.gather.matches.csv', 'gather': 'output/Huttenhower_LC3.fasta.gz_reads.scaled10k.k51.gather.matches.csv'}\n",
      "truth_sets/species/Huttenhower_LC3_TRUTH.txt\n",
      "{'lca_gather': 'output/Huttenhower_LC4.fasta.gz_reads.scaled10k.k51.lca.gather.matches.csv', 'gather': 'output/Huttenhower_LC4.fasta.gz_reads.scaled10k.k51.gather.matches.csv'}\n",
      "truth_sets/species/Huttenhower_LC4_TRUTH.txt\n",
      "{'lca_gather': 'output/Huttenhower_LC5.fasta.gz_reads.scaled10k.k51.lca.gather.matches.csv', 'gather': 'output/Huttenhower_LC5.fasta.gz_reads.scaled10k.k51.gather.matches.csv'}\n",
      "truth_sets/species/Huttenhower_LC5_TRUTH.txt\n",
      "{'lca_gather': 'output/Huttenhower_LC6.fasta.gz_reads.scaled10k.k51.lca.gather.matches.csv', 'gather': 'output/Huttenhower_LC6.fasta.gz_reads.scaled10k.k51.gather.matches.csv'}\n",
      "truth_sets/species/Huttenhower_LC6_TRUTH.txt\n",
      "{'lca_gather': 'output/Huttenhower_LC7.fasta.gz_reads.scaled10k.k51.lca.gather.matches.csv', 'gather': 'output/Huttenhower_LC7.fasta.gz_reads.scaled10k.k51.gather.matches.csv'}\n",
      "truth_sets/species/Huttenhower_LC7_TRUTH.txt\n",
      "{'lca_gather': 'output/Huttenhower_LC8.fasta.gz_reads.scaled10k.k51.lca.gather.matches.csv', 'gather': 'output/Huttenhower_LC8.fasta.gz_reads.scaled10k.k51.gather.matches.csv'}\n",
      "truth_sets/species/Huttenhower_LC8_TRUTH.txt\n"
     ]
    }
   ],
   "source": [
    "#make dictionary \n",
    "triple_dict = {}\n",
    "for x in triples: \n",
    "    temp_dict = {}\n",
    "    temp_dict['lca_gather'] = x[1]\n",
    "    temp_dict['gather'] = x[2]\n",
    "    triple_dict[x[0]] = temp_dict\n",
    "\n",
    "\n",
    "#for key in triple_dict.keys(): print (key)\n",
    "\n",
    "for k,v in triple_dict.items(): \n",
    "    print (v)\n",
    "    print (k)"
   ]
  },
  {
   "cell_type": "markdown",
   "metadata": {},
   "source": [
    "Goal: Compare lineages corresponding to gather output to truth set \n"
   ]
  },
  {
   "cell_type": "code",
   "execution_count": 22,
   "metadata": {},
   "outputs": [
    {
     "name": "stdout",
     "output_type": "stream",
     "text": [
      "DISAGREE: ncbi=Clostridioides difficile, truthfile=Peptoclostridium difficile\n",
      "DISAGREE: ncbi=Sediminispirochaeta smaragdinae, truthfile=Spirochaeta smaragdinae\n"
     ]
    },
    {
     "data": {
      "text/plain": [
       "6"
      ]
     },
     "execution_count": 22,
     "metadata": {},
     "output_type": "execute_result"
    }
   ],
   "source": [
    "#Calculate false positives \n",
    "def compare_lca_gather_to_truth_fp(truth_file, gather_csv):\n",
    "    truth = make_truth_lineages(truth_file)\n",
    "    gather = make_lca_gather_lineages(gather_csv)\n",
    "    #print(gather)\n",
    "    \n",
    "    truth_lineages = set([ t[5] for t in truth ])\n",
    "    gather_lineages = set([ row['lineage'] for row in gather ])\n",
    "    \n",
    "    #print(len(truth_lineages))\n",
    "    #print(len(gather_lineages))\n",
    "    #print(len(gather_lineages - truth_lineages))\n",
    "    return len(gather_lineages - truth_lineages)\n",
    "    \n",
    "compare_lca_gather_to_truth_fp('truth_sets/species/Huttenhower_HC1_TRUTH.txt',\n",
    "                        'output/Huttenhower_HC1.fasta.gz_reads.scaled10k.k51.lca.gather.matches.csv')"
   ]
  },
  {
   "cell_type": "code",
   "execution_count": 23,
   "metadata": {},
   "outputs": [
    {
     "name": "stdout",
     "output_type": "stream",
     "text": [
      "DISAGREE: ncbi=Clostridioides difficile, truthfile=Peptoclostridium difficile\n",
      "DISAGREE: ncbi=Sediminispirochaeta smaragdinae, truthfile=Spirochaeta smaragdinae\n"
     ]
    },
    {
     "data": {
      "text/plain": [
       "1"
      ]
     },
     "execution_count": 23,
     "metadata": {},
     "output_type": "execute_result"
    }
   ],
   "source": [
    "#Calculate false positives \n",
    "def compare_gather_to_truth_fp(truth_file, gather_csv):\n",
    "    truth = make_truth_lineages(truth_file)\n",
    "    gather = make_lca_gather_lineages(gather_csv)\n",
    "    #print(gather)\n",
    "    \n",
    "    truth_lineages = set([ t[5] for t in truth ])\n",
    "    gather_lineages = set([ row['lineage'] for row in gather ])\n",
    "    \n",
    "    #print(len(truth_lineages))\n",
    "    #print(len(gather_lineages))\n",
    "    #print(len(gather_lineages - truth_lineages))\n",
    "    return len(gather_lineages - truth_lineages)\n",
    "    \n",
    "compare_gather_to_truth_fp('truth_sets/species/Huttenhower_HC1_TRUTH.txt',\n",
    "                        'output/Huttenhower_HC1.fasta.gz_reads.scaled10k.k51.gather.matches.csv')"
   ]
  },
  {
   "cell_type": "code",
   "execution_count": 24,
   "metadata": {},
   "outputs": [
    {
     "name": "stdout",
     "output_type": "stream",
     "text": [
      "DISAGREE: ncbi=Clostridioides difficile, truthfile=Peptoclostridium difficile\n",
      "DISAGREE: ncbi=Sediminispirochaeta smaragdinae, truthfile=Spirochaeta smaragdinae\n"
     ]
    },
    {
     "data": {
      "text/plain": [
       "97"
      ]
     },
     "execution_count": 24,
     "metadata": {},
     "output_type": "execute_result"
    }
   ],
   "source": [
    "#Calculate true positives \n",
    "#True positives = intersection  of truth set and experimental set \n",
    "\n",
    "def compare_lca_gather_to_truth_tp(truth_file, gather_csv):\n",
    "    truth = make_truth_lineages(truth_file)\n",
    "    gather = make_lca_gather_lineages(gather_csv)\n",
    "    #print(gather)\n",
    "    \n",
    "    truth_lineages = set([ t[5] for t in truth ])\n",
    "    gather_lineages = set([ row['lineage'] for row in gather ])\n",
    "    \n",
    "    #print(len(truth_lineages))\n",
    "    #print(len(gather_lineages))\n",
    "    #print(len(truth_lineages.intersection(gather_lineages)))\n",
    "    #pprint.pprint(truth_lineages - gather_lineages)\n",
    "    #pprint.pprint(gather_lineages)\n",
    "    return len(truth_lineages.intersection(gather_lineages))\n",
    "\n",
    "\n",
    "\n",
    "compare_lca_gather_to_truth_tp('truth_sets/species/Huttenhower_HC1_TRUTH.txt',\n",
    "                        'output/Huttenhower_HC1.fasta.gz_reads.scaled10k.k51.lca.gather.matches.csv')"
   ]
  },
  {
   "cell_type": "code",
   "execution_count": 25,
   "metadata": {},
   "outputs": [
    {
     "name": "stdout",
     "output_type": "stream",
     "text": [
      "DISAGREE: ncbi=Clostridioides difficile, truthfile=Peptoclostridium difficile\n",
      "DISAGREE: ncbi=Sediminispirochaeta smaragdinae, truthfile=Spirochaeta smaragdinae\n",
      "1\n"
     ]
    },
    {
     "data": {
      "text/plain": [
       "0"
      ]
     },
     "execution_count": 25,
     "metadata": {},
     "output_type": "execute_result"
    }
   ],
   "source": [
    "#Calculate true positives \n",
    "#True positives = intersection  of truth set and experimental set \n",
    "\n",
    "def compare_gather_to_truth_tp(truth_file, gather_csv):\n",
    "    truth = make_truth_lineages(truth_file)\n",
    "    gather = make_gather_lineages(gather_csv)\n",
    "    #print(gather)\n",
    "    \n",
    "    truth_lineages = set([ t[5] for t in truth ])\n",
    "    gather_lineages = set([ row['lineage'] for row in gather ])\n",
    "    \n",
    "    #print(len(truth_lineages))\n",
    "    print(len(gather_lineages))\n",
    "    #print(len(truth_lineages.intersection(gather_lineages)))\n",
    "    #pprint.pprint(truth_lineages - gather_lineages)\n",
    "    return len(truth_lineages.intersection(gather_lineages))\n",
    "\n",
    "compare_gather_to_truth_tp('truth_sets/species/Huttenhower_HC1_TRUTH.txt',\n",
    "                        'output/Huttenhower_HC1.fasta.gz_reads.scaled10k.k51.gather.matches.csv')"
   ]
  },
  {
   "cell_type": "code",
   "execution_count": 26,
   "metadata": {},
   "outputs": [
    {
     "name": "stdout",
     "output_type": "stream",
     "text": [
      "DISAGREE: ncbi=Clostridioides difficile, truthfile=Peptoclostridium difficile\n",
      "DISAGREE: ncbi=Sediminispirochaeta smaragdinae, truthfile=Spirochaeta smaragdinae\n"
     ]
    }
   ],
   "source": [
    "#Calculate false negatives\n",
    "#Compare the lists, calculate union, and subtract length of truth_set from length of union \n",
    "import pprint \n",
    "\n",
    "def compare_lca_gather_to_truth_fn(truth_file, gather_csv):\n",
    "    truth = make_truth_lineages(truth_file)\n",
    "    gather = make_lca_gather_lineages(gather_csv)\n",
    "    \n",
    "    #pprint.pprint(truth)\n",
    "    #pprint.pprint(gather)\n",
    "    \n",
    "    truth_lineages = set([ t[5] for t in truth ])\n",
    "    gather_lineages = set([ row['lineage'] for row in gather ])\n",
    "    \n",
    "    #pprint.pprint(len(truth_lineages - gather_lineages))\n",
    "    \n",
    "    return len(truth_lineages - gather_lineages)\n",
    "\n",
    "false_negatives = compare_lca_gather_to_truth_fn('truth_sets/species/Huttenhower_HC1_TRUTH.txt',\n",
    "                        'output/Huttenhower_HC1.fasta.gz_reads.scaled10k.k51.lca.gather.matches.csv')\n"
   ]
  },
  {
   "cell_type": "code",
   "execution_count": 27,
   "metadata": {},
   "outputs": [
    {
     "name": "stdout",
     "output_type": "stream",
     "text": [
      "DISAGREE: ncbi=Clostridioides difficile, truthfile=Peptoclostridium difficile\n",
      "DISAGREE: ncbi=Sediminispirochaeta smaragdinae, truthfile=Spirochaeta smaragdinae\n"
     ]
    }
   ],
   "source": [
    "#Calculate false negatives\n",
    "#Compare the lists, calculate union, and subtract length of truth_set from length of union \n",
    "import pprint \n",
    "\n",
    "def compare_gather_to_truth_fn(truth_file, gather_csv):\n",
    "    truth = make_truth_lineages(truth_file)\n",
    "    gather = make_gather_lineages(gather_csv)\n",
    "    \n",
    "    #pprint.pprint(truth)\n",
    "    #pprint.pprint(gather)\n",
    "    \n",
    "    truth_lineages = set([ t[5] for t in truth ])\n",
    "    gather_lineages = set([ row['lineage'] for row in gather ])\n",
    "    \n",
    "    #pprint.pprint(len(truth_lineages - gather_lineages))\n",
    "    \n",
    "    return len(truth_lineages - gather_lineages)\n",
    "\n",
    "false_negatives = compare_gather_to_truth_fn('truth_sets/species/Huttenhower_HC1_TRUTH.txt',\n",
    "                        'output/Huttenhower_HC1.fasta.gz_reads.scaled10k.k51.gather.matches.csv')"
   ]
  },
  {
   "cell_type": "code",
   "execution_count": 28,
   "metadata": {},
   "outputs": [
    {
     "data": {
      "text/plain": [
       "104"
      ]
     },
     "execution_count": 28,
     "metadata": {},
     "output_type": "execute_result"
    }
   ],
   "source": [
    "len(open('output/Huttenhower_HC1.fasta.gz_reads.scaled10k.k51.lca.gather.matches.csv').readlines())"
   ]
  },
  {
   "cell_type": "code",
   "execution_count": 29,
   "metadata": {},
   "outputs": [
    {
     "data": {
      "text/plain": [
       "100"
      ]
     },
     "execution_count": 29,
     "metadata": {},
     "output_type": "execute_result"
    }
   ],
   "source": [
    "false_negatives"
   ]
  },
  {
   "cell_type": "code",
   "execution_count": 30,
   "metadata": {},
   "outputs": [
    {
     "data": {
      "text/plain": [
       "100"
      ]
     },
     "execution_count": 30,
     "metadata": {},
     "output_type": "execute_result"
    }
   ],
   "source": [
    "len(open(\"truth_sets/species/Huttenhower_HC1_TRUTH.txt\").readlines())"
   ]
  },
  {
   "cell_type": "code",
   "execution_count": 31,
   "metadata": {},
   "outputs": [
    {
     "name": "stdout",
     "output_type": "stream",
     "text": [
      "DISAGREE: ncbi=Clostridioides difficile, truthfile=Peptoclostridium difficile\n",
      "DISAGREE: ncbi=Sediminispirochaeta smaragdinae, truthfile=Spirochaeta smaragdinae\n",
      "DISAGREE: ncbi=Clostridioides difficile, truthfile=Peptoclostridium difficile\n",
      "DISAGREE: ncbi=Sediminispirochaeta smaragdinae, truthfile=Spirochaeta smaragdinae\n",
      "DISAGREE: ncbi=Clostridioides difficile, truthfile=Peptoclostridium difficile\n",
      "DISAGREE: ncbi=Sediminispirochaeta smaragdinae, truthfile=Spirochaeta smaragdinae\n",
      "0.941747572815534 0.97\n"
     ]
    }
   ],
   "source": [
    "def summarize_lca_gather(truth, lca_gather):\n",
    "    \n",
    "    tp = compare_lca_gather_to_truth_tp(truth, lca_gather)\n",
    "    \n",
    "    fp = compare_lca_gather_to_truth_fp(truth, lca_gather)\n",
    "    \n",
    "    fn = compare_lca_gather_to_truth_fn(truth, lca_gather)\n",
    "    \n",
    "    #Precision = true_positve/true positve + false postive \n",
    "\n",
    "    precision = tp/(tp + fp)\n",
    "\n",
    "    #Recall = true_positve/true positve + false negative \n",
    "\n",
    "    recall = tp/(tp + fn)\n",
    "\n",
    "    #print(precision, recall)\n",
    "    return precision, recall\n",
    "p, r = summarize_lca_gather('truth_sets/species/Huttenhower_HC1_TRUTH.txt',\n",
    "                            'output/Huttenhower_HC1.fasta.gz_reads.scaled10k.k51.lca.gather.matches.csv')\n",
    "print(p, r)"
   ]
  },
  {
   "cell_type": "code",
   "execution_count": 32,
   "metadata": {},
   "outputs": [
    {
     "name": "stdout",
     "output_type": "stream",
     "text": [
      "DISAGREE: ncbi=Clostridioides difficile, truthfile=Peptoclostridium difficile\n",
      "DISAGREE: ncbi=Sediminispirochaeta smaragdinae, truthfile=Spirochaeta smaragdinae\n",
      "1\n",
      "DISAGREE: ncbi=Clostridioides difficile, truthfile=Peptoclostridium difficile\n",
      "DISAGREE: ncbi=Sediminispirochaeta smaragdinae, truthfile=Spirochaeta smaragdinae\n",
      "DISAGREE: ncbi=Clostridioides difficile, truthfile=Peptoclostridium difficile\n",
      "DISAGREE: ncbi=Sediminispirochaeta smaragdinae, truthfile=Spirochaeta smaragdinae\n",
      "0.0 0.0\n"
     ]
    }
   ],
   "source": [
    "def summarize_gather(truth, gather):\n",
    "    \n",
    "    tp = compare_gather_to_truth_tp(truth, gather)\n",
    "    \n",
    "    fp = compare_gather_to_truth_fp(truth, gather)\n",
    "    \n",
    "    fn = compare_gather_to_truth_fn(truth, gather)\n",
    "    \n",
    "    #Precision = true_positve/true positve + false postive \n",
    "\n",
    "    precision = tp/(tp + fp)\n",
    "\n",
    "    #Recall = true_positve/true positve + false negative \n",
    "\n",
    "    recall = tp/(tp + fn)\n",
    "\n",
    "    #print(precision, recall)\n",
    "    return precision, recall\n",
    "p, r = summarize_gather('truth_sets/species/Huttenhower_HC1_TRUTH.txt',\n",
    "                            'output/Huttenhower_HC1.fasta.gz_reads.scaled10k.k51.gather.matches.csv')\n",
    "print(p, r)"
   ]
  },
  {
   "cell_type": "code",
   "execution_count": 33,
   "metadata": {},
   "outputs": [
    {
     "name": "stdout",
     "output_type": "stream",
     "text": [
      "DISAGREE: ncbi=Clostridioides difficile, truthfile=Peptoclostridium difficile\n",
      "DISAGREE: ncbi=Sediminispirochaeta smaragdinae, truthfile=Spirochaeta smaragdinae\n",
      "DISAGREE: ncbi=Clostridioides difficile, truthfile=Peptoclostridium difficile\n",
      "DISAGREE: ncbi=Sediminispirochaeta smaragdinae, truthfile=Spirochaeta smaragdinae\n",
      "DISAGREE: ncbi=Clostridioides difficile, truthfile=Peptoclostridium difficile\n",
      "DISAGREE: ncbi=Sediminispirochaeta smaragdinae, truthfile=Spirochaeta smaragdinae\n",
      "0.941747572815534 0.97\n",
      "DISAGREE: ncbi=Clostridioides difficile, truthfile=Peptoclostridium difficile\n",
      "DISAGREE: ncbi=Sediminispirochaeta smaragdinae, truthfile=Spirochaeta smaragdinae\n",
      "1\n",
      "DISAGREE: ncbi=Clostridioides difficile, truthfile=Peptoclostridium difficile\n",
      "DISAGREE: ncbi=Sediminispirochaeta smaragdinae, truthfile=Spirochaeta smaragdinae\n",
      "DISAGREE: ncbi=Clostridioides difficile, truthfile=Peptoclostridium difficile\n",
      "DISAGREE: ncbi=Sediminispirochaeta smaragdinae, truthfile=Spirochaeta smaragdinae\n",
      "0.9134615384615384 0.95\n",
      "1\n",
      "0.7 0.56\n",
      "1\n",
      "DISAGREE: ncbi=Clostridioides difficile, truthfile=Peptoclostridium difficile\n",
      "DISAGREE: ncbi=Clostridioides difficile, truthfile=Peptoclostridium difficile\n",
      "DISAGREE: ncbi=Clostridioides difficile, truthfile=Peptoclostridium difficile\n",
      "0.9166666666666666 0.88\n",
      "DISAGREE: ncbi=Clostridioides difficile, truthfile=Peptoclostridium difficile\n",
      "1\n",
      "DISAGREE: ncbi=Clostridioides difficile, truthfile=Peptoclostridium difficile\n",
      "DISAGREE: ncbi=Clostridioides difficile, truthfile=Peptoclostridium difficile\n",
      "DISAGREE: ncbi=Sediminispirochaeta smaragdinae, truthfile=Spirochaeta smaragdinae\n",
      "DISAGREE: ncbi=Sediminispirochaeta smaragdinae, truthfile=Spirochaeta smaragdinae\n",
      "DISAGREE: ncbi=Sediminispirochaeta smaragdinae, truthfile=Spirochaeta smaragdinae\n",
      "0.8181818181818182 0.72\n",
      "DISAGREE: ncbi=Sediminispirochaeta smaragdinae, truthfile=Spirochaeta smaragdinae\n",
      "1\n",
      "DISAGREE: ncbi=Sediminispirochaeta smaragdinae, truthfile=Spirochaeta smaragdinae\n",
      "DISAGREE: ncbi=Sediminispirochaeta smaragdinae, truthfile=Spirochaeta smaragdinae\n",
      "0.8 0.48\n",
      "1\n",
      "cannot find taxid 1172; quitting.\n",
      "DISAGREE: ncbi=unassigned, truthfile=Anabaena variabilis\n",
      "cannot find taxid 1172; quitting.\n",
      "DISAGREE: ncbi=unassigned, truthfile=Anabaena variabilis\n",
      "cannot find taxid 1172; quitting.\n",
      "DISAGREE: ncbi=unassigned, truthfile=Anabaena variabilis\n",
      "0.5294117647058824 0.36\n",
      "cannot find taxid 1172; quitting.\n",
      "DISAGREE: ncbi=unassigned, truthfile=Anabaena variabilis\n",
      "1\n",
      "cannot find taxid 1172; quitting.\n",
      "DISAGREE: ncbi=unassigned, truthfile=Anabaena variabilis\n",
      "cannot find taxid 1172; quitting.\n",
      "DISAGREE: ncbi=unassigned, truthfile=Anabaena variabilis\n",
      "1.0 0.68\n",
      "1\n",
      "0.8666666666666667 0.52\n",
      "1\n",
      "DISAGREE: ncbi=Methanothrix thermoacetophila, truthfile=Methanosaeta thermophila\n",
      "DISAGREE: ncbi=Methanothrix thermoacetophila, truthfile=Methanosaeta thermophila\n",
      "DISAGREE: ncbi=Methanothrix thermoacetophila, truthfile=Methanosaeta thermophila\n",
      "0.85 0.68\n",
      "DISAGREE: ncbi=Methanothrix thermoacetophila, truthfile=Methanosaeta thermophila\n",
      "1\n",
      "DISAGREE: ncbi=Methanothrix thermoacetophila, truthfile=Methanosaeta thermophila\n",
      "DISAGREE: ncbi=Methanothrix thermoacetophila, truthfile=Methanosaeta thermophila\n"
     ]
    }
   ],
   "source": [
    "results = []\n",
    "\n",
    "for truth, lca_gather, gather in triples: \n",
    "    p, r = summarize_lca_gather(truth, lca_gather)\n",
    "    print(p, r)\n",
    "    \n",
    "    p2, r2 = summarize_gather(truth, gather)\n",
    "    results.append((truth, p, r, p2, r2))"
   ]
  },
  {
   "cell_type": "code",
   "execution_count": 34,
   "metadata": {},
   "outputs": [
    {
     "data": {
      "text/html": [
       "<div>\n",
       "<style scoped>\n",
       "    .dataframe tbody tr th:only-of-type {\n",
       "        vertical-align: middle;\n",
       "    }\n",
       "\n",
       "    .dataframe tbody tr th {\n",
       "        vertical-align: top;\n",
       "    }\n",
       "\n",
       "    .dataframe thead th {\n",
       "        text-align: right;\n",
       "    }\n",
       "</style>\n",
       "<table border=\"1\" class=\"dataframe\">\n",
       "  <thead>\n",
       "    <tr style=\"text-align: right;\">\n",
       "      <th></th>\n",
       "      <th>Dataset</th>\n",
       "      <th>Precision_lca</th>\n",
       "      <th>Recall_lca</th>\n",
       "      <th>Precision_gather</th>\n",
       "      <th>Recall_gather</th>\n",
       "    </tr>\n",
       "  </thead>\n",
       "  <tbody>\n",
       "    <tr>\n",
       "      <th>0</th>\n",
       "      <td>truth_sets/species/Huttenhower_HC1_TRUTH.txt</td>\n",
       "      <td>0.941748</td>\n",
       "      <td>0.97</td>\n",
       "      <td>0.0</td>\n",
       "      <td>0.0</td>\n",
       "    </tr>\n",
       "    <tr>\n",
       "      <th>1</th>\n",
       "      <td>truth_sets/species/Huttenhower_HC2_TRUTH.txt</td>\n",
       "      <td>0.913462</td>\n",
       "      <td>0.95</td>\n",
       "      <td>0.0</td>\n",
       "      <td>0.0</td>\n",
       "    </tr>\n",
       "    <tr>\n",
       "      <th>2</th>\n",
       "      <td>truth_sets/species/Huttenhower_LC1_TRUTH.txt</td>\n",
       "      <td>0.700000</td>\n",
       "      <td>0.56</td>\n",
       "      <td>0.0</td>\n",
       "      <td>0.0</td>\n",
       "    </tr>\n",
       "    <tr>\n",
       "      <th>3</th>\n",
       "      <td>truth_sets/species/Huttenhower_LC2_TRUTH.txt</td>\n",
       "      <td>0.916667</td>\n",
       "      <td>0.88</td>\n",
       "      <td>0.0</td>\n",
       "      <td>0.0</td>\n",
       "    </tr>\n",
       "    <tr>\n",
       "      <th>4</th>\n",
       "      <td>truth_sets/species/Huttenhower_LC3_TRUTH.txt</td>\n",
       "      <td>0.818182</td>\n",
       "      <td>0.72</td>\n",
       "      <td>0.0</td>\n",
       "      <td>0.0</td>\n",
       "    </tr>\n",
       "    <tr>\n",
       "      <th>5</th>\n",
       "      <td>truth_sets/species/Huttenhower_LC4_TRUTH.txt</td>\n",
       "      <td>0.800000</td>\n",
       "      <td>0.48</td>\n",
       "      <td>0.0</td>\n",
       "      <td>0.0</td>\n",
       "    </tr>\n",
       "    <tr>\n",
       "      <th>6</th>\n",
       "      <td>truth_sets/species/Huttenhower_LC5_TRUTH.txt</td>\n",
       "      <td>0.529412</td>\n",
       "      <td>0.36</td>\n",
       "      <td>0.0</td>\n",
       "      <td>0.0</td>\n",
       "    </tr>\n",
       "    <tr>\n",
       "      <th>7</th>\n",
       "      <td>truth_sets/species/Huttenhower_LC6_TRUTH.txt</td>\n",
       "      <td>1.000000</td>\n",
       "      <td>0.68</td>\n",
       "      <td>0.0</td>\n",
       "      <td>0.0</td>\n",
       "    </tr>\n",
       "    <tr>\n",
       "      <th>8</th>\n",
       "      <td>truth_sets/species/Huttenhower_LC7_TRUTH.txt</td>\n",
       "      <td>0.866667</td>\n",
       "      <td>0.52</td>\n",
       "      <td>0.0</td>\n",
       "      <td>0.0</td>\n",
       "    </tr>\n",
       "    <tr>\n",
       "      <th>9</th>\n",
       "      <td>truth_sets/species/Huttenhower_LC8_TRUTH.txt</td>\n",
       "      <td>0.850000</td>\n",
       "      <td>0.68</td>\n",
       "      <td>0.0</td>\n",
       "      <td>0.0</td>\n",
       "    </tr>\n",
       "  </tbody>\n",
       "</table>\n",
       "</div>"
      ],
      "text/plain": [
       "                                        Dataset  Precision_lca  Recall_lca  \\\n",
       "0  truth_sets/species/Huttenhower_HC1_TRUTH.txt       0.941748        0.97   \n",
       "1  truth_sets/species/Huttenhower_HC2_TRUTH.txt       0.913462        0.95   \n",
       "2  truth_sets/species/Huttenhower_LC1_TRUTH.txt       0.700000        0.56   \n",
       "3  truth_sets/species/Huttenhower_LC2_TRUTH.txt       0.916667        0.88   \n",
       "4  truth_sets/species/Huttenhower_LC3_TRUTH.txt       0.818182        0.72   \n",
       "5  truth_sets/species/Huttenhower_LC4_TRUTH.txt       0.800000        0.48   \n",
       "6  truth_sets/species/Huttenhower_LC5_TRUTH.txt       0.529412        0.36   \n",
       "7  truth_sets/species/Huttenhower_LC6_TRUTH.txt       1.000000        0.68   \n",
       "8  truth_sets/species/Huttenhower_LC7_TRUTH.txt       0.866667        0.52   \n",
       "9  truth_sets/species/Huttenhower_LC8_TRUTH.txt       0.850000        0.68   \n",
       "\n",
       "   Precision_gather  Recall_gather  \n",
       "0               0.0            0.0  \n",
       "1               0.0            0.0  \n",
       "2               0.0            0.0  \n",
       "3               0.0            0.0  \n",
       "4               0.0            0.0  \n",
       "5               0.0            0.0  \n",
       "6               0.0            0.0  \n",
       "7               0.0            0.0  \n",
       "8               0.0            0.0  \n",
       "9               0.0            0.0  "
      ]
     },
     "execution_count": 34,
     "metadata": {},
     "output_type": "execute_result"
    }
   ],
   "source": [
    "# Precision and recall for lca gather (p, r) and gather (p2, r2)\n",
    "import pandas as pd \n",
    "df = pd.DataFrame(results)\n",
    "df.columns = ['Dataset', 'Precision_lca', 'Recall_lca', 'Precision_gather', 'Recall_gather']\n",
    "df"
   ]
  },
  {
   "cell_type": "code",
   "execution_count": 35,
   "metadata": {},
   "outputs": [
    {
     "name": "stdout",
     "output_type": "stream",
     "text": [
      "\n"
     ]
    }
   ],
   "source": [
    "print(\"\\n\".join([x.split()[0] for x in notfound]))"
   ]
  },
  {
   "cell_type": "code",
   "execution_count": 40,
   "metadata": {},
   "outputs": [
    {
     "data": {
      "image/png": "[encoded data removed]",
      "text/plain": [
       "<matplotlib.figure.Figure at 0x16573c7f0>"
      ]
     },
     "metadata": {},
     "output_type": "display_data"
    }
   ],
   "source": [
    "import matplotlib.pyplot as plt\n",
    "import seaborn as sns\n",
    "\n",
    "\n",
    "sns.set(style=\"whitegrid\")\n",
    "\n",
    "g = sns.lmplot(x=\"Precision_lca\", y=\"Recall_lca\", hue=\"Dataset\",\n",
    "               truncate=True, size=5, data=df)"
   ]
  },
  {
   "cell_type": "code",
   "execution_count": 37,
   "metadata": {},
   "outputs": [
    {
     "data": {
      "image/png": "[encoded data removed]",
      "text/plain": [
       "<matplotlib.figure.Figure at 0x16565b8d0>"
      ]
     },
     "metadata": {},
     "output_type": "display_data"
    }
   ],
   "source": [
    "#sns.set(style=\"whitegrid\")\n",
    "\n",
    "g = sns.lmplot(x=\"Precision_gather\", y=\"Recall_gather\", hue=\"Dataset\",\n",
    "               truncate=True, size=5, data=df)"
   ]
  },
  {
   "cell_type": "code",
   "execution_count": 38,
   "metadata": {},
   "outputs": [
    {
     "name": "stdout",
     "output_type": "stream",
     "text": [
      "DISAGREE: ncbi=Clostridioides difficile, truthfile=Peptoclostridium difficile\n",
      "DISAGREE: ncbi=Sediminispirochaeta smaragdinae, truthfile=Spirochaeta smaragdinae\n",
      "100\n",
      "1\n",
      "1\n"
     ]
    }
   ],
   "source": [
    "# Calculate false positives \n",
    "def compare_gather_to_truth(truth_file, gather_csv):\n",
    "    truth = make_truth_lineages(truth_file)\n",
    "    gather = make_gather_lineages(gather_csv)\n",
    "    #print(gather)\n",
    "    \n",
    "    truth_lineages = set([ t[5] for t in truth ])\n",
    "    gather_lineages = set([ row['lineage'] for row in gather ])\n",
    "    \n",
    "    print(len(truth_lineages))\n",
    "    print(len(gather_lineages))\n",
    "    print(len(gather_lineages - truth_lineages))\n",
    "    return len(gather_lineages - truth_lineages)\n",
    "\n",
    "false_positives = compare_gather_to_truth('truth_sets/species/Huttenhower_HC1_TRUTH.txt',\n",
    "                        'output/Huttenhower_HC1.fasta.gz_reads.scaled10k.k51.gather.matches.csv')"
   ]
  },
  {
   "cell_type": "code",
   "execution_count": null,
   "metadata": {},
   "outputs": [],
   "source": []
  },
  {
   "cell_type": "code",
   "execution_count": null,
   "metadata": {},
   "outputs": [],
   "source": []
  },
  {
   "cell_type": "code",
   "execution_count": null,
   "metadata": {},
   "outputs": [],
   "source": []
  },
  {
   "cell_type": "code",
   "execution_count": 39,
   "metadata": {},
   "outputs": [
    {
     "data": {
      "text/plain": [
       "1"
      ]
     },
     "execution_count": 39,
     "metadata": {},
     "output_type": "execute_result"
    }
   ],
   "source": []
  },
  {
   "cell_type": "code",
   "execution_count": null,
   "metadata": {},
   "outputs": [],
   "source": []
  }
 ],
 "metadata": {
  "kernelspec": {
   "display_name": "Python 3",
   "language": "python",
   "name": "python3"
  },
  "language_info": {
   "codemirror_mode": {
    "name": "ipython",
    "version": 3
   },
   "file_extension": ".py",
   "mimetype": "text/x-python",
   "name": "python",
   "nbconvert_exporter": "python",
   "pygments_lexer": "ipython3",
   "version": "3.6.4"
  }
 },
 "nbformat": 4,
 "nbformat_minor": 2
}
