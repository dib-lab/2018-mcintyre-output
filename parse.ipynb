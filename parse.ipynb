{
 "cells": [
  {
   "cell_type": "markdown",
   "metadata": {},
   "source": [
    "# Evaluating truth vs sourmash gather and LCA gather"
   ]
  },
  {
   "cell_type": "markdown",
   "metadata": {},
   "source": [
    "***Objectives***\n",
    "- Extract lineages for: \n",
    "    - Sourmash output \n",
    "    - Sourmash lca output\n",
    "    - truth set determined by authors/creators\n",
    "- Compare lineages and calculate statistics \n",
    "    - Precision \n",
    "    - Recall \n",
    "- Create representative figures"
   ]
  },
  {
   "cell_type": "code",
   "execution_count": 2,
   "metadata": {},
   "outputs": [],
   "source": [
    "import csv\n",
    "import sys\n",
    "sys.path.insert(0, '../2018-ncbi-lineages/')\n",
    "import ncbi_taxdump_utils\n",
    "import os\n",
    "from pprint import pprint"
   ]
  },
  {
   "cell_type": "markdown",
   "metadata": {},
   "source": [
    "If you don't already have them you need to retrive a couple of files from ncbi and puth them in the '2018-ncbi-lineages' directory. \n",
    "\n",
    "in ../2018-ncbi-lineages\n",
    "```\n",
    "mkdir genbank\n",
    "\n",
    "cd genbank/\n",
    "\n",
    "curl -L -O ftp://ftp.ncbi.nih.gov/pub/taxonomy//taxdmp.zip\n",
    "unzip taxdmp.zip nodes.dmp names.dmp\n",
    "rm taxdmp.zip\n",
    "```"
   ]
  },
  {
   "cell_type": "code",
   "execution_count": 3,
   "metadata": {},
   "outputs": [],
   "source": [
    "taxfoo = ncbi_taxdump_utils.NCBI_TaxonomyFoo()\n",
    "\n",
    "taxfoo.load_nodes_dmp('../2018-ncbi-lineages/genbank/nodes.dmp')\n",
    "taxfoo.load_names_dmp('../2018-ncbi-lineages/genbank/names.dmp')\n",
    "\n",
    "want_taxonomy = ['superkingdom', 'phylum', 'order', 'class', 'family', 'genus', 'species']"
   ]
  },
  {
   "cell_type": "code",
   "execution_count": 1,
   "metadata": {},
   "outputs": [
    {
     "name": "stderr",
     "output_type": "stream",
     "text": [
      "\r",
      "\u001b[Kexamining spreadsheet headers...\n",
      "\r",
      "\u001b[K** assuming column 'accession' is identifiers in spreadsheet\n"
     ]
    }
   ],
   "source": [
    "import tax_utils\n",
    "\n",
    "tax_utils.load_lineages('gather-lineages.csv')"
   ]
  },
  {
   "cell_type": "code",
   "execution_count": 2,
   "metadata": {},
   "outputs": [],
   "source": [
    "from sourmash.lca import lca_utils, command_index\n",
    "\n",
    "def format_lineage(lineage_tup):\n",
    "    return \";\".join(lca_utils.zip_lineage(lineage_tup))"
   ]
  },
  {
   "cell_type": "markdown",
   "metadata": {},
   "source": [
    "# Sourmash gather: mapping from accession -> lineages\n",
    "This is important for dealing with the CSV output of sourmash gather; sourmash lca gather comes with the taxonomy already in the CSV output."
   ]
  },
  {
   "cell_type": "code",
   "execution_count": 3,
   "metadata": {},
   "outputs": [
    {
     "data": {
      "text/plain": [
       "[OrderedDict([('intersect_bp', '330000'),\n",
       "              ('f_orig_query', '0.008465879938429965'),\n",
       "              ('f_match', '0.03466386554621849'),\n",
       "              ('f_unique_to_query', '0.008465879938429965'),\n",
       "              ('f_unique_weighted', '0.008465879938429965'),\n",
       "              ('average_abund', '1.0'),\n",
       "              ('name',\n",
       "               'NC_013132.1 Chitinophaga pinensis DSM 2588, complete genome'),\n",
       "              ('filename', 'inputs/databases/genbank-k51.sbt.json'),\n",
       "              ('md5:x ', 'd06a405d39c8ebed579540db2994afe8')])]"
      ]
     },
     "execution_count": 3,
     "metadata": {},
     "output_type": "execute_result"
    }
   ],
   "source": [
    "\n",
    "tax_utils.load_sourmash_csv('output/Huttenhower_HC1.fasta.gz_reads.scaled10k.k51.gather.matches.csv')[:1]"
   ]
  },
  {
   "cell_type": "code",
   "execution_count": 4,
   "metadata": {},
   "outputs": [
    {
     "data": {
      "text/plain": [
       "[{'average_abund': '1.0',\n",
       "  'f_match': '0.03466386554621849',\n",
       "  'f_orig_query': '0.008465879938429965',\n",
       "  'f_unique_to_query': '0.008465879938429965',\n",
       "  'f_unique_weighted': '0.008465879938429965',\n",
       "  'filename': 'inputs/databases/genbank-k51.sbt.json',\n",
       "  'intersect_bp': '330000',\n",
       "  'lineage': (LineagePair(rank='superkingdom', name='Bacteria'),\n",
       "   LineagePair(rank='phylum', name='Bacteroidetes'),\n",
       "   LineagePair(rank='class', name='Chitinophagia'),\n",
       "   LineagePair(rank='order', name='Chitinophagales'),\n",
       "   LineagePair(rank='family', name='Chitinophagaceae'),\n",
       "   LineagePair(rank='genus', name='Chitinophaga'),\n",
       "   LineagePair(rank='species', name='Chitinophaga pinensis')),\n",
       "  'md5:x ': 'd06a405d39c8ebed579540db2994afe8',\n",
       "  'name': 'NC_013132.1 Chitinophaga pinensis DSM 2588, complete genome'}]"
      ]
     },
     "execution_count": 4,
     "metadata": {},
     "output_type": "execute_result"
    }
   ],
   "source": [
    "# Extract lineages from sourmash gather results \n",
    "tax_utils.make_gather_lineages('output/Huttenhower_HC1.fasta.gz_reads.scaled10k.k51.gather.matches.csv')[:1]"
   ]
  },
  {
   "cell_type": "markdown",
   "metadata": {},
   "source": [
    "## Truth files: loading in & fleshing out NCBI taxonomy\n",
    "From McIntyre et al. 2018 https://ftp-private.ncbi.nlm.nih.gov/nist-immsa/IMMSA/"
   ]
  },
  {
   "cell_type": "code",
   "execution_count": 9,
   "metadata": {},
   "outputs": [
    {
     "name": "stdout",
     "output_type": "stream",
     "text": [
      "[(84980, '1.00000', '0.01000', 'species', 'Desulfotalea psychrophila'), (1428, '1.00000', '0.01000', 'species', 'Bacillus thuringiensis'), (1496, '1.00000', '0.01000', 'species', 'Peptoclostridium difficile'), (1525, '1.00000', '0.01000', 'species', 'Moorella thermoacetica'), (1423, '1.00000', '0.01000', 'species', 'Bacillus subtilis')]\n"
     ]
    }
   ],
   "source": [
    "# Load truth sets \n",
    "def load_truth_file(filename):\n",
    "    with open(filename, 'rt') as fp:\n",
    "        lines = fp.readlines()\n",
    "        \n",
    "    lines = [ x.strip() for x in lines ]\n",
    "    lines = [ x.split('\\t') for x in lines ]\n",
    "    \n",
    "    rows = []\n",
    "    for x in lines:\n",
    "        taxid, a, b, rank, name = x\n",
    "        taxid = int(taxid)\n",
    "        rows.append((taxid, a, b, rank, name))\n",
    "    return rows\n",
    "    \n",
    "print(load_truth_file('truth_sets/species/Huttenhower_HC1_TRUTH.txt')[:5])"
   ]
  },
  {
   "cell_type": "code",
   "execution_count": 10,
   "metadata": {},
   "outputs": [
    {
     "data": {
      "text/plain": [
       "(LineagePair(rank='superkingdom', name='Bacteria'),\n",
       " LineagePair(rank='phylum', name='Proteobacteria'),\n",
       " LineagePair(rank='class', name='Deltaproteobacteria'),\n",
       " LineagePair(rank='order', name='Desulfobacterales'),\n",
       " LineagePair(rank='family', name='Desulfobulbaceae'),\n",
       " LineagePair(rank='genus', name='Desulfotalea'),\n",
       " LineagePair(rank='species', name='Desulfotalea psychrophila'))"
      ]
     },
     "execution_count": 10,
     "metadata": {},
     "output_type": "execute_result"
    }
   ],
   "source": [
    "def make_lineage_from_taxid(taxid):\n",
    "    lineage_d = taxfoo.get_lineage_as_dict(taxid, want_taxonomy)\n",
    "    \n",
    "    lineage = []\n",
    "    for rank in lca_utils.taxlist():\n",
    "        if rank == 'strain': continue \n",
    "        name = lineage_d.get(rank, 'unassigned')\n",
    "        lineage_pair = lca_utils.LineagePair(rank, name)\n",
    "        lineage.append(lineage_pair)\n",
    "    return tuple(lineage)\n",
    "\n",
    "make_lineage_from_taxid(84980)"
   ]
  },
  {
   "cell_type": "code",
   "execution_count": 11,
   "metadata": {},
   "outputs": [
    {
     "name": "stdout",
     "output_type": "stream",
     "text": [
      "DISAGREE: ncbi=Clostridioides difficile, truthfile=Peptoclostridium difficile\n",
      "DISAGREE: ncbi=Sediminispirochaeta smaragdinae, truthfile=Spirochaeta smaragdinae\n",
      "[(84980, '1.00000', '0.01000', 'species', 'Desulfotalea psychrophila', (LineagePair(rank='superkingdom', name='Bacteria'), LineagePair(rank='phylum', name='Proteobacteria'), LineagePair(rank='class', name='Deltaproteobacteria'), LineagePair(rank='order', name='Desulfobacterales'), LineagePair(rank='family', name='Desulfobulbaceae'), LineagePair(rank='genus', name='Desulfotalea'), LineagePair(rank='species', name='Desulfotalea psychrophila')))]\n"
     ]
    }
   ],
   "source": [
    "# Extract lineages from truth file\n",
    "def make_truth_lineages(filename):\n",
    "    rows = load_truth_file(filename)\n",
    "    \n",
    "    rows2 = []\n",
    "    for (taxid, a, b, rank, name) in rows:\n",
    "        lineage = make_lineage_from_taxid(taxid)\n",
    "        rows2.append((taxid, a, b, rank, name, lineage))\n",
    "        for lintup in lineage:\n",
    "            if lintup.rank == rank:\n",
    "                if lintup.name != name:\n",
    "                    print('DISAGREE: ncbi={}, truthfile={}'.format(lintup.name, name))\n",
    "    return rows2\n",
    "\n",
    "truth_lineages = make_truth_lineages('truth_sets/species/Huttenhower_HC1_TRUTH.txt')\n",
    "print(truth_lineages[:1])"
   ]
  },
  {
   "cell_type": "markdown",
   "metadata": {},
   "source": [
    "## Sourmash gather: mapping from accession -> lineages"
   ]
  },
  {
   "cell_type": "markdown",
   "metadata": {},
   "source": [
    "## Load LCA gather csv files"
   ]
  },
  {
   "cell_type": "code",
   "execution_count": 12,
   "metadata": {},
   "outputs": [
    {
     "data": {
      "text/plain": [
       "[{'average_abund': '1.0',\n",
       "  'f_unique_to_query': '0.013083632632119035',\n",
       "  'f_unique_weighted': '0.013083632632119035',\n",
       "  'intersect_bp': '510000',\n",
       "  'lineage': (LineagePair(rank='superkingdom', name='Bacteria'),\n",
       "   LineagePair(rank='phylum', name='Firmicutes'),\n",
       "   LineagePair(rank='class', name='Bacilli'),\n",
       "   LineagePair(rank='order', name='Bacillales'),\n",
       "   LineagePair(rank='family', name='Bacillaceae'),\n",
       "   LineagePair(rank='genus', name='Bacillus'),\n",
       "   LineagePair(rank='species', name='Bacillus subtilis'))}]"
      ]
     },
     "execution_count": 12,
     "metadata": {},
     "output_type": "execute_result"
    }
   ],
   "source": [
    "# Extract lineages from lca gather results \n",
    "def make_lca_gather_lineages(filename):\n",
    "    rows = load_sourmash_csv(filename)\n",
    "    rows2 = []\n",
    "    for d in rows:\n",
    "        d2 = dict(d)\n",
    "        \n",
    "        lineage = []\n",
    "        for rank in lca_utils.taxlist():\n",
    "            if rank in d2:\n",
    "                name = d2.get(rank)\n",
    "                del d2[rank]\n",
    "                lineage.append((rank, name))\n",
    "                \n",
    "        lineage = [ lca_utils.LineagePair(r, n) for (r, n) in lineage ]\n",
    "        d2['lineage'] = tuple(lineage)\n",
    "        rows2.append(d2)\n",
    "        \n",
    "    return rows2\n",
    "\n",
    "make_lca_gather_lineages('output/Huttenhower_HC1.fasta.gz.scaled10k.k51.lca.gather.matches.csv')[:1]"
   ]
  },
  {
   "cell_type": "code",
   "execution_count": 13,
   "metadata": {},
   "outputs": [
    {
     "name": "stdout",
     "output_type": "stream",
     "text": [
      "DISAGREE: ncbi=Clostridioides difficile, truthfile=Peptoclostridium difficile\n",
      "DISAGREE: ncbi=Sediminispirochaeta smaragdinae, truthfile=Spirochaeta smaragdinae\n",
      "92\n",
      "102\n",
      "100\n",
      "** in gather but not truth:\n",
      "\t Bacteria;Firmicutes;Bacilli;Lactobacillales;Lactobacillaceae;Lactobacillus;Lactobacillus gallinarum;\n",
      "\t Bacteria;Chloroflexi;Chloroflexia;Chloroflexales;Chloroflexaceae;Chloroflexus;Chloroflexus sp. Y-400-fl;\n",
      "\n",
      "** in truth but not gather:\n",
      "\t Bacteria;Tenericutes;Mollicutes;Mycoplasmatales;Mycoplasmataceae;Ureaplasma;Ureaplasma urealyticum;\n",
      "\t Bacteria;Proteobacteria;Alphaproteobacteria;Rickettsiales;Anaplasmataceae;Anaplasma;Anaplasma centrale;\n",
      "\t Archaea;Crenarchaeota;Thermoprotei;Thermoproteales;Thermoproteaceae;Pyrobaculum;Pyrobaculum arsenaticum;\n",
      "\t Bacteria;Chloroflexi;Chloroflexia;Chloroflexales;Chloroflexaceae;Chloroflexus;Chloroflexus aurantiacus;\n",
      "\t Bacteria;Firmicutes;Bacilli;Lactobacillales;Lactobacillaceae;Lactobacillus;Lactobacillus helveticus;\n",
      "\t Bacteria;Tenericutes;Mollicutes;Mycoplasmatales;Mycoplasmataceae;Mycoplasma;Mycoplasma crocodyli;\n",
      "\t Archaea;Euryarchaeota;Methanobacteria;Methanobacteriales;Methanobacteriaceae;Methanosphaera;Methanosphaera stadtmanae;\n",
      "\t Bacteria;Proteobacteria;Gammaproteobacteria;unassigned;unassigned;unassigned;Candidatus Baumannia cicadellinicola;\n"
     ]
    }
   ],
   "source": [
    "# Compare gather results to truth set\n",
    "def compare_gather_to_truth(truth_file, gather_csv):\n",
    "    truth = make_truth_lineages(truth_file)\n",
    "    gather = make_gather_lineages(gather_csv)\n",
    "    \n",
    "    truth_lineages = set([ t[5] for t in truth ])\n",
    "    gather_lineages = set([ row['lineage'] for row in gather ])\n",
    "\n",
    "    # Print intersection and union     \n",
    "    print(len(truth_lineages.intersection(gather_lineages)))\n",
    "    print(len(truth_lineages.union(gather_lineages)))\n",
    "    \n",
    "    print(len(truth_lineages))\n",
    "    \n",
    "    # Compare gather to truth and print 'in gather but not truth' and 'in truth but not gather'\n",
    "    print('** in gather but not truth:')\n",
    "    for diff in gather_lineages - truth_lineages:\n",
    "        print('\\t', format_lineage(diff))\n",
    "    \n",
    "    print('\\n** in truth but not gather:')\n",
    "    for diff in truth_lineages - gather_lineages:\n",
    "        print('\\t', format_lineage(diff))\n",
    "compare_gather_to_truth('truth_sets/species/Huttenhower_HC1_TRUTH.txt',\n",
    "                        'output/Huttenhower_HC1.fasta.gz_reads.scaled10k.k51.gather.matches.csv')"
   ]
  },
  {
   "cell_type": "code",
   "execution_count": 14,
   "metadata": {},
   "outputs": [
    {
     "name": "stdout",
     "output_type": "stream",
     "text": [
      "DISAGREE: ncbi=Clostridioides difficile, truthfile=Peptoclostridium difficile\n",
      "DISAGREE: ncbi=Sediminispirochaeta smaragdinae, truthfile=Spirochaeta smaragdinae\n",
      "97\n",
      "106\n",
      "100\n",
      "** in gather but not truth:\n",
      "\t Bacteria;Firmicutes;Bacilli;Bacillales;Bacillaceae;Bacillus;Bacillus sp. GZT;\n",
      "\t Bacteria;Firmicutes;Bacilli;Lactobacillales;Lactobacillaceae;Lactobacillus;Lactobacillus gallinarum;\n",
      "\t Bacteria;Proteobacteria;Betaproteobacteria;Rhodocyclales;Rhodocyclaceae;Dechloromonas;Dechloromonas aromatica;\n",
      "\t Bacteria;Proteobacteria;Epsilonproteobacteria;Campylobacterales;Helicobacteraceae;Helicobacter;Helicobacter pylori;\n",
      "\t Bacteria;Proteobacteria;Gammaproteobacteria;Vibrionales;Vibrionaceae;Vibrio;Vibrio hyugaensis;\n",
      "\t Bacteria;Proteobacteria;Gammaproteobacteria;Enterobacterales;Hafniaceae;Edwardsiella;Edwardsiella piscicida;\n",
      "\n",
      "** in truth but not gather:\n",
      "\t Bacteria;Firmicutes;Bacilli;Bacillales;Bacillaceae;Bacillus;Bacillus atrophaeus;\n",
      "\t Bacteria;Proteobacteria;Gammaproteobacteria;Enterobacterales;Hafniaceae;Edwardsiella;Edwardsiella tarda;\n",
      "\t Bacteria;Proteobacteria;Betaproteobacteria;Rhodocyclales;Azonexaceae;Dechloromonas;Dechloromonas aromatica;\n"
     ]
    }
   ],
   "source": [
    "# Compare lca gather results to truth set\n",
    "def compare_lca_gather_to_truth(truth_file, gather_csv):\n",
    "    truth = make_truth_lineages(truth_file)\n",
    "    gather = make_lca_gather_lineages(gather_csv)\n",
    "    \n",
    "    truth_lineages = set([ t[5] for t in truth ])\n",
    "    gather_lineages = set([ row['lineage'] for row in gather ])\n",
    "\n",
    "    # Print intersection and union     \n",
    "    print(len(truth_lineages.intersection(gather_lineages)))\n",
    "    print(len(truth_lineages.union(gather_lineages)))\n",
    "    \n",
    "    print(len(truth_lineages))\n",
    "    \n",
    "    # Compare gather to truth and print 'in gather but not truth' and 'in truth but not gather'\n",
    "    print('** in gather but not truth:')\n",
    "    for diff in gather_lineages - truth_lineages:\n",
    "        print('\\t', format_lineage(diff))\n",
    "    \n",
    "    print('\\n** in truth but not gather:')\n",
    "    for diff in truth_lineages - gather_lineages:\n",
    "        print('\\t', format_lineage(diff))\n",
    "    \n",
    "compare_lca_gather_to_truth('truth_sets/species/Huttenhower_HC1_TRUTH.txt',\n",
    "                        'output/Huttenhower_HC1.fasta.gz_reads.scaled10k.k51.lca.gather.matches.csv')\n"
   ]
  },
  {
   "cell_type": "code",
   "execution_count": 15,
   "metadata": {},
   "outputs": [
    {
     "name": "stdout",
     "output_type": "stream",
     "text": [
      "90\n",
      "107\n",
      "** in lca_gather but not reg gather:\n",
      "\t Bacteria;Tenericutes;Mollicutes;Mycoplasmatales;Mycoplasmataceae;Ureaplasma;Ureaplasma urealyticum;\n",
      "\t Bacteria;Firmicutes;Bacilli;Bacillales;Bacillaceae;Bacillus;Bacillus sp. GZT;\n",
      "\t Bacteria;Proteobacteria;Alphaproteobacteria;Rickettsiales;Anaplasmataceae;Anaplasma;Anaplasma centrale;\n",
      "\t Archaea;Crenarchaeota;Thermoprotei;Thermoproteales;Thermoproteaceae;Pyrobaculum;Pyrobaculum arsenaticum;\n",
      "\t Bacteria;Proteobacteria;Betaproteobacteria;Rhodocyclales;Rhodocyclaceae;Dechloromonas;Dechloromonas aromatica;\n",
      "\t Bacteria;Chloroflexi;Chloroflexia;Chloroflexales;Chloroflexaceae;Chloroflexus;Chloroflexus aurantiacus;\n",
      "\t Bacteria;Proteobacteria;Epsilonproteobacteria;Campylobacterales;Helicobacteraceae;Helicobacter;Helicobacter pylori;\n",
      "\t Bacteria;Proteobacteria;Gammaproteobacteria;Vibrionales;Vibrionaceae;Vibrio;Vibrio hyugaensis;\n",
      "\t Bacteria;Proteobacteria;Gammaproteobacteria;Enterobacterales;Hafniaceae;Edwardsiella;Edwardsiella piscicida;\n",
      "\t Bacteria;Firmicutes;Bacilli;Lactobacillales;Lactobacillaceae;Lactobacillus;Lactobacillus helveticus;\n",
      "\t Bacteria;Tenericutes;Mollicutes;Mycoplasmatales;Mycoplasmataceae;Mycoplasma;Mycoplasma crocodyli;\n",
      "\t Archaea;Euryarchaeota;Methanobacteria;Methanobacteriales;Methanobacteriaceae;Methanosphaera;Methanosphaera stadtmanae;\n",
      "\t Bacteria;Proteobacteria;Gammaproteobacteria;unassigned;unassigned;unassigned;Candidatus Baumannia cicadellinicola;\n",
      "\n",
      "** in gather but not lca gather:\n",
      "\t Bacteria;Firmicutes;Bacilli;Bacillales;Bacillaceae;Bacillus;Bacillus atrophaeus;\n",
      "\t Bacteria;Chloroflexi;Chloroflexia;Chloroflexales;Chloroflexaceae;Chloroflexus;Chloroflexus sp. Y-400-fl;\n",
      "\t Bacteria;Proteobacteria;Gammaproteobacteria;Enterobacterales;Hafniaceae;Edwardsiella;Edwardsiella tarda;\n",
      "\t Bacteria;Proteobacteria;Betaproteobacteria;Rhodocyclales;Azonexaceae;Dechloromonas;Dechloromonas aromatica;\n"
     ]
    }
   ],
   "source": [
    "# Compare lca gather results to gather\n",
    "def compare_lca_gather_to_gather(lca_gather_csv, gather_csv):\n",
    "    reg_gather = make_gather_lineages(gather_csv)\n",
    "    lca_gather = make_lca_gather_lineages(lca_gather_csv)\n",
    "    \n",
    "    reg_gather_lineages = set([ row['lineage'] for row in reg_gather ])\n",
    "    lca_gather_lineages = set([ row['lineage'] for row in lca_gather ])\n",
    "    \n",
    "    print(len(lca_gather_lineages.intersection(reg_gather_lineages)))\n",
    "    print(len(lca_gather_lineages.union(reg_gather_lineages)))\n",
    "        \n",
    "    print('** in lca_gather but not reg gather:')\n",
    "    for diff in lca_gather_lineages - reg_gather_lineages:\n",
    "        print('\\t', format_lineage(diff))\n",
    "    \n",
    "    print('\\n** in gather but not lca gather:')\n",
    "    for diff in reg_gather_lineages - lca_gather_lineages:\n",
    "        print('\\t', format_lineage(diff))\n",
    "    \n",
    "compare_lca_gather_to_gather('output/Huttenhower_HC1.fasta.gz_reads.scaled10k.k51.lca.gather.matches.csv',\n",
    "                            'output/Huttenhower_HC1.fasta.gz_reads.scaled10k.k51.gather.matches.csv')\n"
   ]
  },
  {
   "cell_type": "code",
   "execution_count": 16,
   "metadata": {},
   "outputs": [
    {
     "name": "stdout",
     "output_type": "stream",
     "text": [
      "['ABRF_MGRG_10ng', 'ABRF_MGRG_1ng', 'ABRF_MGRG_5ng', 'ABRF_MGRG_Half', 'ABRF_MGRG_Normal', 'ABRF_MGRG_classIplus', 'BMI_bmi_reads', 'BioPool_BioPool', 'BioPool_BioPool_abun', 'Carma_eval_carma', 'HMP_even_454_SRR072233', 'HMP_even_illum_SRR172902', 'Huttenhower_HC-LC_abun', 'Huttenhower_HC1', 'Huttenhower_HC2', 'Huttenhower_LC1', 'Huttenhower_LC2', 'Huttenhower_LC3', 'Huttenhower_LC4', 'Huttenhower_LC5', 'Huttenhower_LC6', 'Huttenhower_LC7', 'Huttenhower_LC8', 'JGI_SRR033547', 'JGI_SRR033548', 'JGI_SRR033549', 'Mavromatis_simHC', 'Mavromatis_simLC', 'Mavromatis_simMC', 'Raiphy_eval_RAIphy', 'UnAmbiguouslyMapped_ds.7', 'UnAmbiguouslyMapped_ds.buccal', 'UnAmbiguouslyMapped_ds.cityparks', 'UnAmbiguouslyMapped_ds.gut', 'UnAmbiguouslyMapped_ds.hous1', 'UnAmbiguouslyMapped_ds.hous2', 'UnAmbiguouslyMapped_ds.nycsm', 'UnAmbiguouslyMapped_ds.soil']\n"
     ]
    }
   ],
   "source": [
    "# Define the truth files to extract file prefixes for use in subsequent functions\n",
    "all_truth = \"\"\"ABRF_MGRG_10ng_TRUTH.txt\n",
    "ABRF_MGRG_1ng_TRUTH.txt\n",
    "ABRF_MGRG_5ng_TRUTH.txt\n",
    "ABRF_MGRG_Half_TRUTH.txt\n",
    "ABRF_MGRG_Normal_TRUTH.txt\n",
    "ABRF_MGRG_classIplus_TRUTH.txt\n",
    "BMI_bmi_reads_TRUTH.txt\n",
    "BioPool_BioPool_TRUTH.txt\n",
    "BioPool_BioPool_abundances.txt\n",
    "Carma_eval_carma_TRUTH.txt\n",
    "HMP_even_454_SRR072233_TRUTH.txt\n",
    "HMP_even_illum_SRR172902_TRUTH.txt\n",
    "Huttenhower_HC-LC_abundances.txt\n",
    "Huttenhower_HC1_TRUTH.txt\n",
    "Huttenhower_HC2_TRUTH.txt\n",
    "Huttenhower_LC1_TRUTH.txt\n",
    "Huttenhower_LC2_TRUTH.txt\n",
    "Huttenhower_LC3_TRUTH.txt\n",
    "Huttenhower_LC4_TRUTH.txt\n",
    "Huttenhower_LC5_TRUTH.txt\n",
    "Huttenhower_LC6_TRUTH.txt\n",
    "Huttenhower_LC7_TRUTH.txt\n",
    "Huttenhower_LC8_TRUTH.txt\n",
    "JGI_SRR033547_TRUTH.txt\n",
    "JGI_SRR033548_TRUTH.txt\n",
    "JGI_SRR033549_TRUTH.txt\n",
    "Mavromatis_simHC_TRUTH.txt\n",
    "Mavromatis_simLC_TRUTH.txt\n",
    "Mavromatis_simMC_TRUTH.txt\n",
    "Raiphy_eval_RAIphy_TRUTH.txt\n",
    "UnAmbiguouslyMapped_ds.7_TRUTH.txt\n",
    "UnAmbiguouslyMapped_ds.buccal_TRUTH.txt\n",
    "UnAmbiguouslyMapped_ds.cityparks_TRUTH.txt\n",
    "UnAmbiguouslyMapped_ds.gut_TRUTH.txt\n",
    "UnAmbiguouslyMapped_ds.hous1_TRUTH.txt\n",
    "UnAmbiguouslyMapped_ds.hous2_TRUTH.txt\n",
    "UnAmbiguouslyMapped_ds.nycsm_TRUTH.txt\n",
    "UnAmbiguouslyMapped_ds.soil_TRUTH.txt\"\"\"\n",
    "\n",
    "all_truth = all_truth.splitlines()\n",
    "all_truth = [ x[:-10] for x in all_truth ]\n",
    "print(all_truth)"
   ]
  },
  {
   "cell_type": "code",
   "execution_count": 17,
   "metadata": {},
   "outputs": [],
   "source": [
    "# Create empy set 'triples'\n",
    "triples = []\n",
    "for prefix in all_truth:\n",
    "    truth_file = 'truth_sets/species/{}_TRUTH.txt'.format(prefix)\n",
    "    \n",
    "    # Identify possible lca gather results files with 'all_truth' prefix and either \n",
    "    # fasta or fq file type\n",
    "    possible_lca_gather_files = ['output/{}.f{}.gz_reads.scaled10k.k51.lca.gather.matches.csv'.format(prefix, fast_type)\n",
    "                       for fast_type in ('asta', 'q')]\n",
    "    \n",
    "    # If path to 'possible_lca' file exists keep it and assign it to the variable \n",
    "    # lca_gather_file\n",
    "    lca_gather_file = ''\n",
    "    for possible_lca in possible_lca_gather_files:\n",
    "        if os.path.exists(possible_lca):\n",
    "            lca_gather_file = possible_lca\n",
    "    \n",
    "    # Identify possible gather results files with 'all_truth' prefix and either \n",
    "    # fasta or fq file type  \n",
    "    possible_gather_files = ['output/{}.f{}.gz_reads.scaled10k.k51.gather.matches.csv'.format(prefix, fast_type)\n",
    "                        for fast_type in ('asta', 'q')]\n",
    "    \n",
    "    # If path to 'possible_lca' file exists keep it and assign it to the variable \n",
    "    # lca_gather_file\n",
    "    gather_file = ''\n",
    "    for possible_gather in possible_gather_files:\n",
    "        if os.path.exists(possible_gather):\n",
    "            gather_file = possible_gather\n",
    "    \n",
    "    # If the path truth_file, lca_gather_file, and gather_file exist append to triples\n",
    "    if os.path.exists(truth_file) and os.path.exists(lca_gather_file) and os.path.exists(gather_file):\n",
    "        triples.append((truth_file, lca_gather_file, gather_file))\n",
    "\n",
    "#Print names of lca gather and gather files\n",
    "#pprint(triples)"
   ]
  },
  {
   "cell_type": "code",
   "execution_count": 18,
   "metadata": {},
   "outputs": [],
   "source": [
    "#make dictionary \n",
    "#triple_dict = {}\n",
    "#for x in triples: \n",
    "#    temp_dict = {}\n",
    "#    temp_dict['lca_gather'] = x[1]\n",
    "#    temp_dict['gather'] = x[2]\n",
    "#   triple_dict[x[0]] = temp_dict\n",
    "\n",
    "\n",
    "#for key in triple_dict.keys(): print (key)\n",
    "\n",
    "#for k,v in triple_dict.items(): \n",
    "#    print (v)\n",
    "#    print (k)"
   ]
  },
  {
   "cell_type": "markdown",
   "metadata": {},
   "source": [
    "# Compare lineages corresponding to sourmash gather and lca gather to truth set "
   ]
  },
  {
   "cell_type": "code",
   "execution_count": 19,
   "metadata": {},
   "outputs": [
    {
     "name": "stdout",
     "output_type": "stream",
     "text": [
      "DISAGREE: ncbi=Clostridioides difficile, truthfile=Peptoclostridium difficile\n",
      "DISAGREE: ncbi=Sediminispirochaeta smaragdinae, truthfile=Spirochaeta smaragdinae\n"
     ]
    },
    {
     "data": {
      "text/plain": [
       "6"
      ]
     },
     "execution_count": 19,
     "metadata": {},
     "output_type": "execute_result"
    }
   ],
   "source": [
    "#Calculate false positives \n",
    "def compare_lca_gather_reads_to_truth_fp(truth_file, gather_csv):\n",
    "    truth = make_truth_lineages(truth_file)\n",
    "    gather = make_lca_gather_lineages(gather_csv)\n",
    "    #print(gather)\n",
    "    \n",
    "    truth_lineages = set([ t[5] for t in truth ])\n",
    "    gather_lineages = set([ row['lineage'] for row in gather ])\n",
    "    \n",
    "    #print(len(truth_lineages))\n",
    "    #print(len(gather_lineages))\n",
    "    #print(len(gather_lineages - truth_lineages))\n",
    "    return len(gather_lineages - truth_lineages)\n",
    "    \n",
    "compare_lca_gather_reads_to_truth_fp('truth_sets/species/Huttenhower_HC1_TRUTH.txt',\n",
    "                        'output/Huttenhower_HC1.fasta.gz_reads.scaled10k.k51.lca.gather.matches.csv')"
   ]
  },
  {
   "cell_type": "code",
   "execution_count": 20,
   "metadata": {},
   "outputs": [
    {
     "name": "stdout",
     "output_type": "stream",
     "text": [
      "DISAGREE: ncbi=Clostridioides difficile, truthfile=Peptoclostridium difficile\n",
      "DISAGREE: ncbi=Sediminispirochaeta smaragdinae, truthfile=Spirochaeta smaragdinae\n"
     ]
    },
    {
     "data": {
      "text/plain": [
       "1"
      ]
     },
     "execution_count": 20,
     "metadata": {},
     "output_type": "execute_result"
    }
   ],
   "source": [
    "#Calculate false positives \n",
    "def compare_gather_reads_to_truth_fp(truth_file, gather_csv):\n",
    "    truth = make_truth_lineages(truth_file)\n",
    "    gather = make_lca_gather_lineages(gather_csv)\n",
    "    #print(gather)\n",
    "    \n",
    "    truth_lineages = set([ t[5] for t in truth ])\n",
    "    gather_lineages = set([ row['lineage'] for row in gather ])\n",
    "    \n",
    "    #print(len(truth_lineages))\n",
    "    #print(len(gather_lineages))\n",
    "    #pprint(len(gather_lineages - truth_lineages))\n",
    "    return len(gather_lineages - truth_lineages)\n",
    "    \n",
    "compare_gather_reads_to_truth_fp('truth_sets/species/Huttenhower_HC1_TRUTH.txt',\n",
    "                        'output/Huttenhower_HC1.fasta.gz_reads.scaled10k.k51.gather.matches.csv')"
   ]
  },
  {
   "cell_type": "code",
   "execution_count": 21,
   "metadata": {},
   "outputs": [
    {
     "name": "stdout",
     "output_type": "stream",
     "text": [
      "DISAGREE: ncbi=Clostridioides difficile, truthfile=Peptoclostridium difficile\n",
      "DISAGREE: ncbi=Sediminispirochaeta smaragdinae, truthfile=Spirochaeta smaragdinae\n"
     ]
    },
    {
     "data": {
      "text/plain": [
       "2"
      ]
     },
     "execution_count": 21,
     "metadata": {},
     "output_type": "execute_result"
    }
   ],
   "source": [
    "#Calculate false positives \n",
    "def compare_lca_gather_contigs_to_truth_fp(truth_file, gather_csv):\n",
    "    truth = make_truth_lineages(truth_file)\n",
    "    gather = make_lca_gather_lineages(gather_csv)\n",
    "    #print(gather)\n",
    "    \n",
    "    truth_lineages = set([ t[5] for t in truth ])\n",
    "    gather_lineages = set([ row['lineage'] for row in gather ])\n",
    "    \n",
    "    #print(len(truth_lineages))\n",
    "    #print(len(gather_lineages))\n",
    "    #print(len(gather_lineages - truth_lineages))\n",
    "    return len(gather_lineages - truth_lineages)\n",
    "    \n",
    "compare_lca_gather_contigs_to_truth_fp('truth_sets/species/Huttenhower_HC1_TRUTH.txt',\n",
    "                        'output/Huttenhower_HC1.fasta.gz_contigs.scaled10k.k51.lca.gather.matches.csv')"
   ]
  },
  {
   "cell_type": "code",
   "execution_count": 22,
   "metadata": {},
   "outputs": [
    {
     "name": "stdout",
     "output_type": "stream",
     "text": [
      "DISAGREE: ncbi=Clostridioides difficile, truthfile=Peptoclostridium difficile\n",
      "DISAGREE: ncbi=Sediminispirochaeta smaragdinae, truthfile=Spirochaeta smaragdinae\n"
     ]
    },
    {
     "data": {
      "text/plain": [
       "97"
      ]
     },
     "execution_count": 22,
     "metadata": {},
     "output_type": "execute_result"
    }
   ],
   "source": [
    "#Calculate true positives \n",
    "#True positives = intersection  of truth set and experimental set \n",
    "\n",
    "def compare_lca_gather_reads_to_truth_tp(truth_file, gather_csv):\n",
    "    truth = make_truth_lineages(truth_file)\n",
    "    gather = make_lca_gather_lineages(gather_csv)\n",
    "    #print(gather)\n",
    "    \n",
    "    truth_lineages = set([ t[5] for t in truth ])\n",
    "    gather_lineages = set([ row['lineage'] for row in gather ])\n",
    "    \n",
    "    #print(len(truth_lineages))\n",
    "    #print(len(gather_lineages))\n",
    "    #print(len(truth_lineages.intersection(gather_lineages)))\n",
    "    #pprint.pprint(truth_lineages - gather_lineages)\n",
    "    #pprint.pprint(gather_lineages)\n",
    "    return len(truth_lineages.intersection(gather_lineages))\n",
    "\n",
    "\n",
    "\n",
    "compare_lca_gather_reads_to_truth_tp('truth_sets/species/Huttenhower_HC1_TRUTH.txt',\n",
    "                        'output/Huttenhower_HC1.fasta.gz_reads.scaled10k.k51.lca.gather.matches.csv')"
   ]
  },
  {
   "cell_type": "code",
   "execution_count": 23,
   "metadata": {},
   "outputs": [
    {
     "name": "stdout",
     "output_type": "stream",
     "text": [
      "DISAGREE: ncbi=Clostridioides difficile, truthfile=Peptoclostridium difficile\n",
      "DISAGREE: ncbi=Sediminispirochaeta smaragdinae, truthfile=Spirochaeta smaragdinae\n"
     ]
    },
    {
     "data": {
      "text/plain": [
       "92"
      ]
     },
     "execution_count": 23,
     "metadata": {},
     "output_type": "execute_result"
    }
   ],
   "source": [
    "#Calculate true positives \n",
    "#True positives = intersection  of truth set and experimental set \n",
    "\n",
    "def compare_gather_reads_to_truth_tp(truth_file, gather_csv):\n",
    "    truth = make_truth_lineages(truth_file)\n",
    "    gather = make_gather_lineages(gather_csv)\n",
    "    #print(gather)\n",
    "    \n",
    "    truth_lineages = set([ t[5] for t in truth ])\n",
    "    gather_lineages = set([ row['lineage'] for row in gather ])\n",
    "    \n",
    "    #print(len(truth_lineages))\n",
    "    #print(len(gather_lineages))\n",
    "    #print(len(truth_lineages.intersection(gather_lineages)))\n",
    "    #pprint.pprint(truth_lineages - gather_lineages)\n",
    "    return len(truth_lineages.intersection(gather_lineages))\n",
    "\n",
    "compare_gather_reads_to_truth_tp('truth_sets/species/Huttenhower_HC1_TRUTH.txt',\n",
    "                        'output/Huttenhower_HC1.fasta.gz_reads.scaled10k.k51.gather.matches.csv')"
   ]
  },
  {
   "cell_type": "code",
   "execution_count": 24,
   "metadata": {},
   "outputs": [
    {
     "name": "stdout",
     "output_type": "stream",
     "text": [
      "DISAGREE: ncbi=Clostridioides difficile, truthfile=Peptoclostridium difficile\n",
      "DISAGREE: ncbi=Sediminispirochaeta smaragdinae, truthfile=Spirochaeta smaragdinae\n"
     ]
    },
    {
     "data": {
      "text/plain": [
       "0"
      ]
     },
     "execution_count": 24,
     "metadata": {},
     "output_type": "execute_result"
    }
   ],
   "source": [
    "#Calculate true positives \n",
    "#True positives = intersection  of truth set and experimental set \n",
    "\n",
    "def compare_lca_gather_contigs_to_truth_tp(truth_file, gather_csv):\n",
    "    truth = make_truth_lineages(truth_file)\n",
    "    gather = make_lca_gather_lineages(gather_csv)\n",
    "    #print(gather)\n",
    "    \n",
    "    truth_lineages = set([ t[5] for t in truth ])\n",
    "    gather_lineages = set([ row['lineage'] for row in gather ])\n",
    "    \n",
    "    #print(len(truth_lineages))\n",
    "    #print(len(gather_lineages))\n",
    "    #print(len(truth_lineages.intersection(gather_lineages)))\n",
    "    #pprint.pprint(truth_lineages - gather_lineages)\n",
    "    #pprint.pprint(gather_lineages)\n",
    "    return len(truth_lineages.intersection(gather_lineages))\n",
    "\n",
    "\n",
    "\n",
    "compare_lca_gather_contigs_to_truth_tp('truth_sets/species/Huttenhower_HC1_TRUTH.txt',\n",
    "                        'output/Huttenhower_HC1.fasta.gz_contigs.scaled10k.k51.lca.gather.matches.csv')"
   ]
  },
  {
   "cell_type": "code",
   "execution_count": 25,
   "metadata": {},
   "outputs": [
    {
     "name": "stdout",
     "output_type": "stream",
     "text": [
      "DISAGREE: ncbi=Clostridioides difficile, truthfile=Peptoclostridium difficile\n",
      "DISAGREE: ncbi=Sediminispirochaeta smaragdinae, truthfile=Spirochaeta smaragdinae\n"
     ]
    }
   ],
   "source": [
    "#Calculate false negatives\n",
    "#Compare the lists, calculate union, and subtract length of truth_set from length of union \n",
    "\n",
    "def compare_lca_gather_reads_to_truth_fn(truth_file, gather_csv):\n",
    "    truth = make_truth_lineages(truth_file)\n",
    "    gather = make_lca_gather_lineages(gather_csv)\n",
    "    \n",
    "    #pprint.pprint(truth)\n",
    "    #pprint.pprint(gather)\n",
    "    \n",
    "    truth_lineages = set([ t[5] for t in truth ])\n",
    "    gather_lineages = set([ row['lineage'] for row in gather ])\n",
    "    \n",
    "    #pprint(len(truth_lineages) - len(truth_lineages.intersection(gather_lineages)))\n",
    "    \n",
    "    return len((truth_lineages) - (truth_lineages.intersection(gather_lineages)))\n",
    "\n",
    "false_negatives = compare_lca_gather_reads_to_truth_fn('truth_sets/species/Huttenhower_HC1_TRUTH.txt',\n",
    "                        'output/Huttenhower_HC1.fasta.gz_reads.scaled10k.k51.lca.gather.matches.csv')"
   ]
  },
  {
   "cell_type": "code",
   "execution_count": 26,
   "metadata": {},
   "outputs": [
    {
     "name": "stdout",
     "output_type": "stream",
     "text": [
      "DISAGREE: ncbi=Clostridioides difficile, truthfile=Peptoclostridium difficile\n",
      "DISAGREE: ncbi=Sediminispirochaeta smaragdinae, truthfile=Spirochaeta smaragdinae\n"
     ]
    }
   ],
   "source": [
    "#Calculate false negatives\n",
    "#Compare the lists, calculate union, and subtract length of truth_set from length of union \n",
    "\n",
    "def compare_lca_gather_contigs_to_truth_fn(truth_file, gather_csv):\n",
    "    truth = make_truth_lineages(truth_file)\n",
    "    gather = make_lca_gather_lineages(gather_csv)\n",
    "    \n",
    "    #pprint.pprint(truth)\n",
    "    #pprint.pprint(gather)\n",
    "    \n",
    "    truth_lineages = set([ t[5] for t in truth ])\n",
    "    gather_lineages = set([ row['lineage'] for row in gather ])\n",
    "    \n",
    "    #pprint(len(truth_lineages) - len(truth_lineages.intersection(gather_lineages)))\n",
    "    \n",
    "    return len((truth_lineages) - (truth_lineages.intersection(gather_lineages)))\n",
    "\n",
    "false_negatives = compare_lca_gather_contigs_to_truth_fn('truth_sets/species/Huttenhower_HC1_TRUTH.txt',\n",
    "                        'output/Huttenhower_HC1.fasta.gz_contigs.scaled10k.k51.lca.gather.matches.csv')"
   ]
  },
  {
   "cell_type": "code",
   "execution_count": 27,
   "metadata": {},
   "outputs": [
    {
     "name": "stdout",
     "output_type": "stream",
     "text": [
      "DISAGREE: ncbi=Clostridioides difficile, truthfile=Peptoclostridium difficile\n",
      "DISAGREE: ncbi=Sediminispirochaeta smaragdinae, truthfile=Spirochaeta smaragdinae\n"
     ]
    }
   ],
   "source": [
    "#Calculate false negatives\n",
    "#Compare the lists, calculate intersection, and subtract length of truth_set from length of intersection \n",
    "\n",
    "def compare_gather_reads_to_truth_fn(truth_file, gather_csv):\n",
    "    truth = make_truth_lineages(truth_file)\n",
    "    gather = make_gather_lineages(gather_csv)\n",
    "    \n",
    "    #pprint.pprint(truth)\n",
    "    #pprint.pprint(gather)\n",
    "    \n",
    "    truth_lineages = set([ t[5] for t in truth ])\n",
    "    gather_lineages = set([ row['lineage'] for row in gather ])\n",
    "    #pprint(len(truth_lineages) - len(truth_lineages.intersection(gather_lineages)))\n",
    "    \n",
    "    return len(truth_lineages - gather_lineages)\n",
    "\n",
    "false_negatives = compare_gather_reads_to_truth_fn('truth_sets/species/Huttenhower_HC1_TRUTH.txt',\n",
    "                        'output/Huttenhower_HC1.fasta.gz_reads.scaled10k.k51.gather.matches.csv')\n",
    "#print(false_negatives)"
   ]
  },
  {
   "cell_type": "code",
   "execution_count": 28,
   "metadata": {},
   "outputs": [
    {
     "data": {
      "text/plain": [
       "104"
      ]
     },
     "execution_count": 28,
     "metadata": {},
     "output_type": "execute_result"
    }
   ],
   "source": [
    "len(open('output/Huttenhower_HC1.fasta.gz_reads.scaled10k.k51.lca.gather.matches.csv').readlines())"
   ]
  },
  {
   "cell_type": "code",
   "execution_count": 29,
   "metadata": {},
   "outputs": [
    {
     "data": {
      "text/plain": [
       "8"
      ]
     },
     "execution_count": 29,
     "metadata": {},
     "output_type": "execute_result"
    }
   ],
   "source": [
    "false_negatives"
   ]
  },
  {
   "cell_type": "code",
   "execution_count": 30,
   "metadata": {},
   "outputs": [
    {
     "data": {
      "text/plain": [
       "100"
      ]
     },
     "execution_count": 30,
     "metadata": {},
     "output_type": "execute_result"
    }
   ],
   "source": [
    "len(open(\"truth_sets/species/Huttenhower_HC1_TRUTH.txt\").readlines())"
   ]
  },
  {
   "cell_type": "code",
   "execution_count": 31,
   "metadata": {},
   "outputs": [
    {
     "name": "stdout",
     "output_type": "stream",
     "text": [
      "DISAGREE: ncbi=Clostridioides difficile, truthfile=Peptoclostridium difficile\n",
      "DISAGREE: ncbi=Sediminispirochaeta smaragdinae, truthfile=Spirochaeta smaragdinae\n",
      "DISAGREE: ncbi=Clostridioides difficile, truthfile=Peptoclostridium difficile\n",
      "DISAGREE: ncbi=Sediminispirochaeta smaragdinae, truthfile=Spirochaeta smaragdinae\n",
      "DISAGREE: ncbi=Clostridioides difficile, truthfile=Peptoclostridium difficile\n",
      "DISAGREE: ncbi=Sediminispirochaeta smaragdinae, truthfile=Spirochaeta smaragdinae\n"
     ]
    }
   ],
   "source": [
    "def summarize_lca_gather_reads(truth, lca_gather):\n",
    "    \n",
    "    tp = compare_lca_gather_reads_to_truth_tp(truth, lca_gather)\n",
    "    \n",
    "    fp = compare_lca_gather_reads_to_truth_fp(truth, lca_gather)\n",
    "    \n",
    "    fn = compare_lca_gather_reads_to_truth_fn(truth, lca_gather)\n",
    "    \n",
    "    #Precision = true_positve/true positve + false postive \n",
    "\n",
    "    precision = tp/(tp + fp)\n",
    "\n",
    "    #Recall = true_positve/true positve + false negative \n",
    "\n",
    "    recall = tp/(tp + fn)\n",
    "\n",
    "    #print(precision, recall)\n",
    "    return precision, recall\n",
    "p, r = summarize_lca_gather_reads('truth_sets/species/Huttenhower_HC1_TRUTH.txt',\n",
    "                            'output/Huttenhower_HC1.fasta.gz_reads.scaled10k.k51.lca.gather.matches.csv')\n",
    "#print(p, r)"
   ]
  },
  {
   "cell_type": "code",
   "execution_count": 32,
   "metadata": {},
   "outputs": [
    {
     "name": "stdout",
     "output_type": "stream",
     "text": [
      "DISAGREE: ncbi=Clostridioides difficile, truthfile=Peptoclostridium difficile\n",
      "DISAGREE: ncbi=Sediminispirochaeta smaragdinae, truthfile=Spirochaeta smaragdinae\n",
      "DISAGREE: ncbi=Clostridioides difficile, truthfile=Peptoclostridium difficile\n",
      "DISAGREE: ncbi=Sediminispirochaeta smaragdinae, truthfile=Spirochaeta smaragdinae\n",
      "DISAGREE: ncbi=Clostridioides difficile, truthfile=Peptoclostridium difficile\n",
      "DISAGREE: ncbi=Sediminispirochaeta smaragdinae, truthfile=Spirochaeta smaragdinae\n"
     ]
    }
   ],
   "source": [
    "def summarize_lca_gather_contigs(truth, lca_gather):\n",
    "    \n",
    "    tp = compare_lca_gather_contigs_to_truth_tp(truth, lca_gather)\n",
    "    \n",
    "    fp = compare_lca_gather_contigs_to_truth_fp(truth, lca_gather)\n",
    "    \n",
    "    fn = compare_lca_gather_contigs_to_truth_fn(truth, lca_gather)\n",
    "    \n",
    "    #Precision = true_positve/true positve + false postive \n",
    "\n",
    "    precision = tp/(tp + fp)\n",
    "\n",
    "    #Recall = true_positve/true positve + false negative \n",
    "\n",
    "    recall = tp/(tp + fn)\n",
    "\n",
    "    #print(precision, recall)\n",
    "    return precision, recall\n",
    "p, r = summarize_lca_gather_contigs('truth_sets/species/Huttenhower_HC1_TRUTH.txt',\n",
    "                            'output/Huttenhower_HC1.fasta.gz_contigs.scaled10k.k51.lca.gather.matches.csv')\n",
    "#print(p, r)"
   ]
  },
  {
   "cell_type": "code",
   "execution_count": 33,
   "metadata": {},
   "outputs": [
    {
     "name": "stdout",
     "output_type": "stream",
     "text": [
      "DISAGREE: ncbi=Clostridioides difficile, truthfile=Peptoclostridium difficile\n",
      "DISAGREE: ncbi=Sediminispirochaeta smaragdinae, truthfile=Spirochaeta smaragdinae\n",
      "DISAGREE: ncbi=Clostridioides difficile, truthfile=Peptoclostridium difficile\n",
      "DISAGREE: ncbi=Sediminispirochaeta smaragdinae, truthfile=Spirochaeta smaragdinae\n",
      "DISAGREE: ncbi=Clostridioides difficile, truthfile=Peptoclostridium difficile\n",
      "DISAGREE: ncbi=Sediminispirochaeta smaragdinae, truthfile=Spirochaeta smaragdinae\n"
     ]
    }
   ],
   "source": [
    "def summarize_gather_reads(truth, gather):\n",
    "    \n",
    "    tp = compare_gather_reads_to_truth_tp(truth, gather)\n",
    "    \n",
    "    fp = compare_gather_reads_to_truth_fp(truth, gather)\n",
    "    \n",
    "    fn = compare_gather_reads_to_truth_fn(truth, gather)\n",
    "    \n",
    "    #Precision = true_positve/true positve + false postive \n",
    "\n",
    "    precision = tp/(tp + fp)\n",
    "\n",
    "    #Recall = true_positve/true positve + false negative \n",
    "\n",
    "    recall = tp/(tp + fn)\n",
    "    \n",
    "    #F1 score = 2 * ((precision * recall)/(precision + recall) =)\n",
    "    \n",
    "    f1 = 2 * ((precision * recall)/(precision + recall))\n",
    "\n",
    "    #print(precision, recall)\n",
    "    return precision, recall\n",
    "\n",
    "p, r = summarize_gather_reads('truth_sets/species/Huttenhower_HC1_TRUTH.txt',\n",
    "                        'output/Huttenhower_HC1.fasta.gz_reads.scaled10k.k51.gather.matches.csv')\n",
    "#print(p, r)"
   ]
  },
  {
   "cell_type": "code",
   "execution_count": 34,
   "metadata": {},
   "outputs": [
    {
     "name": "stdout",
     "output_type": "stream",
     "text": [
      "DISAGREE: ncbi=Clostridioides difficile, truthfile=Peptoclostridium difficile\n",
      "DISAGREE: ncbi=Sediminispirochaeta smaragdinae, truthfile=Spirochaeta smaragdinae\n",
      "DISAGREE: ncbi=Clostridioides difficile, truthfile=Peptoclostridium difficile\n",
      "DISAGREE: ncbi=Sediminispirochaeta smaragdinae, truthfile=Spirochaeta smaragdinae\n",
      "DISAGREE: ncbi=Clostridioides difficile, truthfile=Peptoclostridium difficile\n",
      "DISAGREE: ncbi=Sediminispirochaeta smaragdinae, truthfile=Spirochaeta smaragdinae\n",
      "DISAGREE: ncbi=Clostridioides difficile, truthfile=Peptoclostridium difficile\n",
      "DISAGREE: ncbi=Sediminispirochaeta smaragdinae, truthfile=Spirochaeta smaragdinae\n",
      "DISAGREE: ncbi=Clostridioides difficile, truthfile=Peptoclostridium difficile\n",
      "DISAGREE: ncbi=Sediminispirochaeta smaragdinae, truthfile=Spirochaeta smaragdinae\n",
      "DISAGREE: ncbi=Clostridioides difficile, truthfile=Peptoclostridium difficile\n",
      "DISAGREE: ncbi=Sediminispirochaeta smaragdinae, truthfile=Spirochaeta smaragdinae\n",
      "DISAGREE: ncbi=Clostridioides difficile, truthfile=Peptoclostridium difficile\n",
      "DISAGREE: ncbi=Sediminispirochaeta smaragdinae, truthfile=Spirochaeta smaragdinae\n",
      "DISAGREE: ncbi=Clostridioides difficile, truthfile=Peptoclostridium difficile\n",
      "DISAGREE: ncbi=Sediminispirochaeta smaragdinae, truthfile=Spirochaeta smaragdinae\n",
      "DISAGREE: ncbi=Clostridioides difficile, truthfile=Peptoclostridium difficile\n",
      "DISAGREE: ncbi=Sediminispirochaeta smaragdinae, truthfile=Spirochaeta smaragdinae\n",
      "DISAGREE: ncbi=Clostridioides difficile, truthfile=Peptoclostridium difficile\n",
      "DISAGREE: ncbi=Clostridioides difficile, truthfile=Peptoclostridium difficile\n",
      "DISAGREE: ncbi=Clostridioides difficile, truthfile=Peptoclostridium difficile\n",
      "DISAGREE: ncbi=Clostridioides difficile, truthfile=Peptoclostridium difficile\n",
      "DISAGREE: ncbi=Clostridioides difficile, truthfile=Peptoclostridium difficile\n",
      "DISAGREE: ncbi=Clostridioides difficile, truthfile=Peptoclostridium difficile\n",
      "DISAGREE: ncbi=Clostridioides difficile, truthfile=Peptoclostridium difficile\n",
      "DISAGREE: ncbi=Clostridioides difficile, truthfile=Peptoclostridium difficile\n",
      "DISAGREE: ncbi=Clostridioides difficile, truthfile=Peptoclostridium difficile\n",
      "DISAGREE: ncbi=Sediminispirochaeta smaragdinae, truthfile=Spirochaeta smaragdinae\n",
      "DISAGREE: ncbi=Sediminispirochaeta smaragdinae, truthfile=Spirochaeta smaragdinae\n",
      "DISAGREE: ncbi=Sediminispirochaeta smaragdinae, truthfile=Spirochaeta smaragdinae\n",
      "DISAGREE: ncbi=Sediminispirochaeta smaragdinae, truthfile=Spirochaeta smaragdinae\n",
      "DISAGREE: ncbi=Sediminispirochaeta smaragdinae, truthfile=Spirochaeta smaragdinae\n",
      "DISAGREE: ncbi=Sediminispirochaeta smaragdinae, truthfile=Spirochaeta smaragdinae\n",
      "DISAGREE: ncbi=Sediminispirochaeta smaragdinae, truthfile=Spirochaeta smaragdinae\n",
      "DISAGREE: ncbi=Sediminispirochaeta smaragdinae, truthfile=Spirochaeta smaragdinae\n",
      "DISAGREE: ncbi=Sediminispirochaeta smaragdinae, truthfile=Spirochaeta smaragdinae\n",
      "cannot find taxid 1172; quitting.\n",
      "DISAGREE: ncbi=unassigned, truthfile=Anabaena variabilis\n",
      "cannot find taxid 1172; quitting.\n",
      "DISAGREE: ncbi=unassigned, truthfile=Anabaena variabilis\n",
      "cannot find taxid 1172; quitting.\n",
      "DISAGREE: ncbi=unassigned, truthfile=Anabaena variabilis\n",
      "cannot find taxid 1172; quitting.\n",
      "DISAGREE: ncbi=unassigned, truthfile=Anabaena variabilis\n",
      "cannot find taxid 1172; quitting.\n",
      "DISAGREE: ncbi=unassigned, truthfile=Anabaena variabilis\n",
      "cannot find taxid 1172; quitting.\n",
      "DISAGREE: ncbi=unassigned, truthfile=Anabaena variabilis\n",
      "cannot find taxid 1172; quitting.\n",
      "DISAGREE: ncbi=unassigned, truthfile=Anabaena variabilis\n",
      "cannot find taxid 1172; quitting.\n",
      "DISAGREE: ncbi=unassigned, truthfile=Anabaena variabilis\n",
      "cannot find taxid 1172; quitting.\n",
      "DISAGREE: ncbi=unassigned, truthfile=Anabaena variabilis\n",
      "DISAGREE: ncbi=Methanothrix thermoacetophila, truthfile=Methanosaeta thermophila\n",
      "DISAGREE: ncbi=Methanothrix thermoacetophila, truthfile=Methanosaeta thermophila\n",
      "DISAGREE: ncbi=Methanothrix thermoacetophila, truthfile=Methanosaeta thermophila\n",
      "DISAGREE: ncbi=Methanothrix thermoacetophila, truthfile=Methanosaeta thermophila\n",
      "DISAGREE: ncbi=Methanothrix thermoacetophila, truthfile=Methanosaeta thermophila\n",
      "DISAGREE: ncbi=Methanothrix thermoacetophila, truthfile=Methanosaeta thermophila\n",
      "DISAGREE: ncbi=Methanothrix thermoacetophila, truthfile=Methanosaeta thermophila\n",
      "DISAGREE: ncbi=Methanothrix thermoacetophila, truthfile=Methanosaeta thermophila\n",
      "DISAGREE: ncbi=Methanothrix thermoacetophila, truthfile=Methanosaeta thermophila\n",
      "DISAGREE: ncbi=Methanothrix soehngenii, truthfile=Methanosaeta concilii\n",
      "DISAGREE: ncbi=Pseudodesulfovibrio aespoeensis, truthfile=Desulfovibrio aespoeensis\n",
      "DISAGREE: ncbi=Rhodococcus hoagii, truthfile=Rhodococcus equi\n",
      "DISAGREE: ncbi=Sediminispirochaeta smaragdinae, truthfile=Spirochaeta smaragdinae\n",
      "DISAGREE: ncbi=Alteromonas naphthalenivorans, truthfile=Alteromonas sp. SN2\n",
      "cannot find taxid 228748; quitting.\n",
      "DISAGREE: ncbi=unassigned, truthfile=Desulfurococcus fermentans\n",
      "DISAGREE: ncbi=Acetoanaerobium sticklandii, truthfile=[Clostridium] sticklandii\n",
      "cannot find taxid 117575; quitting.\n",
      "DISAGREE: ncbi=unassigned, truthfile=Chlamydia pneumoniae phage CPAR39\n",
      "cannot find taxid 477693; quitting.\n",
      "DISAGREE: ncbi=unassigned, truthfile=Desulfurococcus kamchatkensis\n",
      "DISAGREE: ncbi=Methanothrix soehngenii, truthfile=Methanosaeta concilii\n",
      "DISAGREE: ncbi=Pseudodesulfovibrio aespoeensis, truthfile=Desulfovibrio aespoeensis\n",
      "DISAGREE: ncbi=Rhodococcus hoagii, truthfile=Rhodococcus equi\n",
      "DISAGREE: ncbi=Sediminispirochaeta smaragdinae, truthfile=Spirochaeta smaragdinae\n",
      "DISAGREE: ncbi=Alteromonas naphthalenivorans, truthfile=Alteromonas sp. SN2\n",
      "cannot find taxid 228748; quitting.\n",
      "DISAGREE: ncbi=unassigned, truthfile=Desulfurococcus fermentans\n",
      "DISAGREE: ncbi=Acetoanaerobium sticklandii, truthfile=[Clostridium] sticklandii\n",
      "cannot find taxid 117575; quitting.\n",
      "DISAGREE: ncbi=unassigned, truthfile=Chlamydia pneumoniae phage CPAR39\n",
      "cannot find taxid 477693; quitting.\n",
      "DISAGREE: ncbi=unassigned, truthfile=Desulfurococcus kamchatkensis\n",
      "DISAGREE: ncbi=Methanothrix soehngenii, truthfile=Methanosaeta concilii\n",
      "DISAGREE: ncbi=Pseudodesulfovibrio aespoeensis, truthfile=Desulfovibrio aespoeensis\n",
      "DISAGREE: ncbi=Rhodococcus hoagii, truthfile=Rhodococcus equi\n",
      "DISAGREE: ncbi=Sediminispirochaeta smaragdinae, truthfile=Spirochaeta smaragdinae\n",
      "DISAGREE: ncbi=Alteromonas naphthalenivorans, truthfile=Alteromonas sp. SN2\n",
      "cannot find taxid 228748; quitting.\n",
      "DISAGREE: ncbi=unassigned, truthfile=Desulfurococcus fermentans\n",
      "DISAGREE: ncbi=Acetoanaerobium sticklandii, truthfile=[Clostridium] sticklandii\n",
      "cannot find taxid 117575; quitting.\n",
      "DISAGREE: ncbi=unassigned, truthfile=Chlamydia pneumoniae phage CPAR39\n",
      "cannot find taxid 477693; quitting.\n",
      "DISAGREE: ncbi=unassigned, truthfile=Desulfurococcus kamchatkensis\n",
      "DISAGREE: ncbi=Methanothrix soehngenii, truthfile=Methanosaeta concilii\n",
      "DISAGREE: ncbi=Pseudodesulfovibrio aespoeensis, truthfile=Desulfovibrio aespoeensis\n",
      "DISAGREE: ncbi=Rhodococcus hoagii, truthfile=Rhodococcus equi\n",
      "DISAGREE: ncbi=Sediminispirochaeta smaragdinae, truthfile=Spirochaeta smaragdinae\n",
      "DISAGREE: ncbi=Alteromonas naphthalenivorans, truthfile=Alteromonas sp. SN2\n",
      "cannot find taxid 228748; quitting.\n",
      "DISAGREE: ncbi=unassigned, truthfile=Desulfurococcus fermentans\n",
      "DISAGREE: ncbi=Acetoanaerobium sticklandii, truthfile=[Clostridium] sticklandii\n",
      "cannot find taxid 117575; quitting.\n",
      "DISAGREE: ncbi=unassigned, truthfile=Chlamydia pneumoniae phage CPAR39\n",
      "cannot find taxid 477693; quitting.\n",
      "DISAGREE: ncbi=unassigned, truthfile=Desulfurococcus kamchatkensis\n",
      "DISAGREE: ncbi=Methanothrix soehngenii, truthfile=Methanosaeta concilii\n",
      "DISAGREE: ncbi=Pseudodesulfovibrio aespoeensis, truthfile=Desulfovibrio aespoeensis\n",
      "DISAGREE: ncbi=Rhodococcus hoagii, truthfile=Rhodococcus equi\n",
      "DISAGREE: ncbi=Sediminispirochaeta smaragdinae, truthfile=Spirochaeta smaragdinae\n",
      "DISAGREE: ncbi=Alteromonas naphthalenivorans, truthfile=Alteromonas sp. SN2\n",
      "cannot find taxid 228748; quitting.\n",
      "DISAGREE: ncbi=unassigned, truthfile=Desulfurococcus fermentans\n",
      "DISAGREE: ncbi=Acetoanaerobium sticklandii, truthfile=[Clostridium] sticklandii\n",
      "cannot find taxid 117575; quitting.\n",
      "DISAGREE: ncbi=unassigned, truthfile=Chlamydia pneumoniae phage CPAR39\n",
      "cannot find taxid 477693; quitting.\n",
      "DISAGREE: ncbi=unassigned, truthfile=Desulfurococcus kamchatkensis\n",
      "DISAGREE: ncbi=Methanothrix soehngenii, truthfile=Methanosaeta concilii\n",
      "DISAGREE: ncbi=Pseudodesulfovibrio aespoeensis, truthfile=Desulfovibrio aespoeensis\n",
      "DISAGREE: ncbi=Rhodococcus hoagii, truthfile=Rhodococcus equi\n",
      "DISAGREE: ncbi=Sediminispirochaeta smaragdinae, truthfile=Spirochaeta smaragdinae\n",
      "DISAGREE: ncbi=Alteromonas naphthalenivorans, truthfile=Alteromonas sp. SN2\n",
      "cannot find taxid 228748; quitting.\n",
      "DISAGREE: ncbi=unassigned, truthfile=Desulfurococcus fermentans\n",
      "DISAGREE: ncbi=Acetoanaerobium sticklandii, truthfile=[Clostridium] sticklandii\n",
      "cannot find taxid 117575; quitting.\n",
      "DISAGREE: ncbi=unassigned, truthfile=Chlamydia pneumoniae phage CPAR39\n",
      "cannot find taxid 477693; quitting.\n",
      "DISAGREE: ncbi=unassigned, truthfile=Desulfurococcus kamchatkensis\n",
      "DISAGREE: ncbi=Methanothrix soehngenii, truthfile=Methanosaeta concilii\n",
      "DISAGREE: ncbi=Pseudodesulfovibrio aespoeensis, truthfile=Desulfovibrio aespoeensis\n",
      "DISAGREE: ncbi=Rhodococcus hoagii, truthfile=Rhodococcus equi\n",
      "DISAGREE: ncbi=Sediminispirochaeta smaragdinae, truthfile=Spirochaeta smaragdinae\n",
      "DISAGREE: ncbi=Alteromonas naphthalenivorans, truthfile=Alteromonas sp. SN2\n",
      "cannot find taxid 228748; quitting.\n",
      "DISAGREE: ncbi=unassigned, truthfile=Desulfurococcus fermentans\n",
      "DISAGREE: ncbi=Acetoanaerobium sticklandii, truthfile=[Clostridium] sticklandii\n",
      "cannot find taxid 117575; quitting.\n",
      "DISAGREE: ncbi=unassigned, truthfile=Chlamydia pneumoniae phage CPAR39\n",
      "cannot find taxid 477693; quitting.\n",
      "DISAGREE: ncbi=unassigned, truthfile=Desulfurococcus kamchatkensis\n",
      "ZZZ found no lineage for NC_014972.1 Desulfobulbus propionicus DSM 2032, complete genome\n",
      "ZZZ found no lineage for CP003388.1 Riemerella anatipestifer ATCC 11845 = DSM 15868, complete genome\n",
      "DISAGREE: ncbi=Methanothrix soehngenii, truthfile=Methanosaeta concilii\n",
      "DISAGREE: ncbi=Pseudodesulfovibrio aespoeensis, truthfile=Desulfovibrio aespoeensis\n",
      "DISAGREE: ncbi=Rhodococcus hoagii, truthfile=Rhodococcus equi\n",
      "DISAGREE: ncbi=Sediminispirochaeta smaragdinae, truthfile=Spirochaeta smaragdinae\n",
      "DISAGREE: ncbi=Alteromonas naphthalenivorans, truthfile=Alteromonas sp. SN2\n",
      "cannot find taxid 228748; quitting.\n",
      "DISAGREE: ncbi=unassigned, truthfile=Desulfurococcus fermentans\n",
      "DISAGREE: ncbi=Acetoanaerobium sticklandii, truthfile=[Clostridium] sticklandii\n",
      "cannot find taxid 117575; quitting.\n",
      "DISAGREE: ncbi=unassigned, truthfile=Chlamydia pneumoniae phage CPAR39\n",
      "cannot find taxid 477693; quitting.\n",
      "DISAGREE: ncbi=unassigned, truthfile=Desulfurococcus kamchatkensis\n",
      "DISAGREE: ncbi=Methanothrix soehngenii, truthfile=Methanosaeta concilii\n",
      "DISAGREE: ncbi=Pseudodesulfovibrio aespoeensis, truthfile=Desulfovibrio aespoeensis\n",
      "DISAGREE: ncbi=Rhodococcus hoagii, truthfile=Rhodococcus equi\n",
      "DISAGREE: ncbi=Sediminispirochaeta smaragdinae, truthfile=Spirochaeta smaragdinae\n",
      "DISAGREE: ncbi=Alteromonas naphthalenivorans, truthfile=Alteromonas sp. SN2\n",
      "cannot find taxid 228748; quitting.\n",
      "DISAGREE: ncbi=unassigned, truthfile=Desulfurococcus fermentans\n",
      "DISAGREE: ncbi=Acetoanaerobium sticklandii, truthfile=[Clostridium] sticklandii\n",
      "cannot find taxid 117575; quitting.\n",
      "DISAGREE: ncbi=unassigned, truthfile=Chlamydia pneumoniae phage CPAR39\n",
      "cannot find taxid 477693; quitting.\n",
      "DISAGREE: ncbi=unassigned, truthfile=Desulfurococcus kamchatkensis\n",
      "ZZZ found no lineage for NC_014972.1 Desulfobulbus propionicus DSM 2032, complete genome\n",
      "ZZZ found no lineage for CP003388.1 Riemerella anatipestifer ATCC 11845 = DSM 15868, complete genome\n",
      "DISAGREE: ncbi=Cutibacterium acnes, truthfile=Propionibacterium acnes\n",
      "DISAGREE: ncbi=Cutibacterium acnes, truthfile=Propionibacterium acnes\n",
      "DISAGREE: ncbi=Cutibacterium acnes, truthfile=Propionibacterium acnes\n",
      "DISAGREE: ncbi=Cutibacterium acnes, truthfile=Propionibacterium acnes\n",
      "DISAGREE: ncbi=Cutibacterium acnes, truthfile=Propionibacterium acnes\n",
      "DISAGREE: ncbi=Cutibacterium acnes, truthfile=Propionibacterium acnes\n",
      "DISAGREE: ncbi=Cutibacterium acnes, truthfile=Propionibacterium acnes\n",
      "DISAGREE: ncbi=Cutibacterium acnes, truthfile=Propionibacterium acnes\n",
      "DISAGREE: ncbi=Cutibacterium acnes, truthfile=Propionibacterium acnes\n",
      "ZZZ found no lineage for NZ_FR854362.1 Lactobacillus reuteri ATCC 53608 annotated genomic scaffold, lreu_v1_TGAC_scaffold_02, whole genome shotgun sequence\n",
      "ZZZ found no lineage for NZ_FR854362.1 Lactobacillus reuteri ATCC 53608 annotated genomic scaffold, lreu_v1_TGAC_scaffold_02, whole genome shotgun sequence\n",
      "DISAGREE: ncbi=Cutibacterium acnes, truthfile=Propionibacterium acnes\n",
      "DISAGREE: ncbi=Cutibacterium acnes, truthfile=Propionibacterium acnes\n",
      "DISAGREE: ncbi=Cutibacterium acnes, truthfile=Propionibacterium acnes\n",
      "DISAGREE: ncbi=Cutibacterium acnes, truthfile=Propionibacterium acnes\n",
      "DISAGREE: ncbi=Cutibacterium acnes, truthfile=Propionibacterium acnes\n",
      "DISAGREE: ncbi=Cutibacterium acnes, truthfile=Propionibacterium acnes\n",
      "DISAGREE: ncbi=Cutibacterium acnes, truthfile=Propionibacterium acnes\n",
      "DISAGREE: ncbi=Cutibacterium acnes, truthfile=Propionibacterium acnes\n",
      "DISAGREE: ncbi=Cutibacterium acnes, truthfile=Propionibacterium acnes\n",
      "DISAGREE: ncbi=Klebsiella aerogenes, truthfile=Enterobacter aerogenes\n",
      "DISAGREE: ncbi=Klebsiella aerogenes, truthfile=Enterobacter aerogenes\n",
      "DISAGREE: ncbi=Klebsiella aerogenes, truthfile=Enterobacter aerogenes\n",
      "DISAGREE: ncbi=Klebsiella aerogenes, truthfile=Enterobacter aerogenes\n",
      "DISAGREE: ncbi=Klebsiella aerogenes, truthfile=Enterobacter aerogenes\n",
      "DISAGREE: ncbi=Klebsiella aerogenes, truthfile=Enterobacter aerogenes\n",
      "DISAGREE: ncbi=Klebsiella aerogenes, truthfile=Enterobacter aerogenes\n",
      "DISAGREE: ncbi=Klebsiella aerogenes, truthfile=Enterobacter aerogenes\n",
      "DISAGREE: ncbi=Klebsiella aerogenes, truthfile=Enterobacter aerogenes\n"
     ]
    }
   ],
   "source": [
    "results = []\n",
    "\n",
    "for truth, lca_gather, gather in triples: \n",
    "    p, r = summarize_lca_gather_reads(truth, lca_gather)\n",
    "    \n",
    "    p2, r2 = summarize_lca_gather_contigs(truth, lca_gather)\n",
    "    results.append(( truth, p, r, p2, r2))\n",
    "  \n",
    "    p3, r3 = summarize_gather_reads(truth, gather)\n",
    "    results.append((truth, p, r, p2, r2, p3, r3))\n",
    "    \n"
   ]
  },
  {
   "cell_type": "code",
   "execution_count": 45,
   "metadata": {},
   "outputs": [
    {
     "name": "stdout",
     "output_type": "stream",
     "text": [
      "DISAGREE: ncbi=Methanothrix soehngenii, truthfile=Methanosaeta concilii\n",
      "DISAGREE: ncbi=Pseudodesulfovibrio aespoeensis, truthfile=Desulfovibrio aespoeensis\n",
      "DISAGREE: ncbi=Rhodococcus hoagii, truthfile=Rhodococcus equi\n",
      "DISAGREE: ncbi=Sediminispirochaeta smaragdinae, truthfile=Spirochaeta smaragdinae\n",
      "DISAGREE: ncbi=Alteromonas naphthalenivorans, truthfile=Alteromonas sp. SN2\n",
      "cannot find taxid 228748; quitting.\n",
      "DISAGREE: ncbi=unassigned, truthfile=Desulfurococcus fermentans\n",
      "DISAGREE: ncbi=Acetoanaerobium sticklandii, truthfile=[Clostridium] sticklandii\n",
      "cannot find taxid 117575; quitting.\n",
      "DISAGREE: ncbi=unassigned, truthfile=Chlamydia pneumoniae phage CPAR39\n",
      "cannot find taxid 477693; quitting.\n",
      "DISAGREE: ncbi=unassigned, truthfile=Desulfurococcus kamchatkensis\n",
      "DISAGREE: ncbi=Methanothrix soehngenii, truthfile=Methanosaeta concilii\n",
      "DISAGREE: ncbi=Pseudodesulfovibrio aespoeensis, truthfile=Desulfovibrio aespoeensis\n",
      "DISAGREE: ncbi=Rhodococcus hoagii, truthfile=Rhodococcus equi\n",
      "DISAGREE: ncbi=Sediminispirochaeta smaragdinae, truthfile=Spirochaeta smaragdinae\n",
      "DISAGREE: ncbi=Alteromonas naphthalenivorans, truthfile=Alteromonas sp. SN2\n",
      "cannot find taxid 228748; quitting.\n",
      "DISAGREE: ncbi=unassigned, truthfile=Desulfurococcus fermentans\n",
      "DISAGREE: ncbi=Acetoanaerobium sticklandii, truthfile=[Clostridium] sticklandii\n",
      "cannot find taxid 117575; quitting.\n",
      "DISAGREE: ncbi=unassigned, truthfile=Chlamydia pneumoniae phage CPAR39\n",
      "cannot find taxid 477693; quitting.\n",
      "DISAGREE: ncbi=unassigned, truthfile=Desulfurococcus kamchatkensis\n",
      "DISAGREE: ncbi=Methanothrix soehngenii, truthfile=Methanosaeta concilii\n",
      "DISAGREE: ncbi=Pseudodesulfovibrio aespoeensis, truthfile=Desulfovibrio aespoeensis\n",
      "DISAGREE: ncbi=Rhodococcus hoagii, truthfile=Rhodococcus equi\n",
      "DISAGREE: ncbi=Sediminispirochaeta smaragdinae, truthfile=Spirochaeta smaragdinae\n",
      "DISAGREE: ncbi=Alteromonas naphthalenivorans, truthfile=Alteromonas sp. SN2\n",
      "cannot find taxid 228748; quitting.\n",
      "DISAGREE: ncbi=unassigned, truthfile=Desulfurococcus fermentans\n",
      "DISAGREE: ncbi=Acetoanaerobium sticklandii, truthfile=[Clostridium] sticklandii\n",
      "cannot find taxid 117575; quitting.\n",
      "DISAGREE: ncbi=unassigned, truthfile=Chlamydia pneumoniae phage CPAR39\n",
      "cannot find taxid 477693; quitting.\n",
      "DISAGREE: ncbi=unassigned, truthfile=Desulfurococcus kamchatkensis\n",
      "DISAGREE: ncbi=Methanothrix soehngenii, truthfile=Methanosaeta concilii\n",
      "DISAGREE: ncbi=Pseudodesulfovibrio aespoeensis, truthfile=Desulfovibrio aespoeensis\n",
      "DISAGREE: ncbi=Rhodococcus hoagii, truthfile=Rhodococcus equi\n",
      "DISAGREE: ncbi=Sediminispirochaeta smaragdinae, truthfile=Spirochaeta smaragdinae\n",
      "DISAGREE: ncbi=Alteromonas naphthalenivorans, truthfile=Alteromonas sp. SN2\n",
      "cannot find taxid 228748; quitting.\n",
      "DISAGREE: ncbi=unassigned, truthfile=Desulfurococcus fermentans\n",
      "DISAGREE: ncbi=Acetoanaerobium sticklandii, truthfile=[Clostridium] sticklandii\n",
      "cannot find taxid 117575; quitting.\n",
      "DISAGREE: ncbi=unassigned, truthfile=Chlamydia pneumoniae phage CPAR39\n",
      "cannot find taxid 477693; quitting.\n",
      "DISAGREE: ncbi=unassigned, truthfile=Desulfurococcus kamchatkensis\n",
      "DISAGREE: ncbi=Methanothrix soehngenii, truthfile=Methanosaeta concilii\n",
      "DISAGREE: ncbi=Pseudodesulfovibrio aespoeensis, truthfile=Desulfovibrio aespoeensis\n",
      "DISAGREE: ncbi=Rhodococcus hoagii, truthfile=Rhodococcus equi\n",
      "DISAGREE: ncbi=Sediminispirochaeta smaragdinae, truthfile=Spirochaeta smaragdinae\n",
      "DISAGREE: ncbi=Alteromonas naphthalenivorans, truthfile=Alteromonas sp. SN2\n",
      "cannot find taxid 228748; quitting.\n",
      "DISAGREE: ncbi=unassigned, truthfile=Desulfurococcus fermentans\n",
      "DISAGREE: ncbi=Acetoanaerobium sticklandii, truthfile=[Clostridium] sticklandii\n",
      "cannot find taxid 117575; quitting.\n",
      "DISAGREE: ncbi=unassigned, truthfile=Chlamydia pneumoniae phage CPAR39\n",
      "cannot find taxid 477693; quitting.\n",
      "DISAGREE: ncbi=unassigned, truthfile=Desulfurococcus kamchatkensis\n",
      "DISAGREE: ncbi=Methanothrix soehngenii, truthfile=Methanosaeta concilii\n",
      "DISAGREE: ncbi=Pseudodesulfovibrio aespoeensis, truthfile=Desulfovibrio aespoeensis\n",
      "DISAGREE: ncbi=Rhodococcus hoagii, truthfile=Rhodococcus equi\n",
      "DISAGREE: ncbi=Sediminispirochaeta smaragdinae, truthfile=Spirochaeta smaragdinae\n",
      "DISAGREE: ncbi=Alteromonas naphthalenivorans, truthfile=Alteromonas sp. SN2\n",
      "cannot find taxid 228748; quitting.\n",
      "DISAGREE: ncbi=unassigned, truthfile=Desulfurococcus fermentans\n",
      "DISAGREE: ncbi=Acetoanaerobium sticklandii, truthfile=[Clostridium] sticklandii\n",
      "cannot find taxid 117575; quitting.\n",
      "DISAGREE: ncbi=unassigned, truthfile=Chlamydia pneumoniae phage CPAR39\n",
      "cannot find taxid 477693; quitting.\n",
      "DISAGREE: ncbi=unassigned, truthfile=Desulfurococcus kamchatkensis\n",
      "DISAGREE: ncbi=Methanothrix soehngenii, truthfile=Methanosaeta concilii\n",
      "DISAGREE: ncbi=Pseudodesulfovibrio aespoeensis, truthfile=Desulfovibrio aespoeensis\n",
      "DISAGREE: ncbi=Rhodococcus hoagii, truthfile=Rhodococcus equi\n",
      "DISAGREE: ncbi=Sediminispirochaeta smaragdinae, truthfile=Spirochaeta smaragdinae\n",
      "DISAGREE: ncbi=Alteromonas naphthalenivorans, truthfile=Alteromonas sp. SN2\n",
      "cannot find taxid 228748; quitting.\n",
      "DISAGREE: ncbi=unassigned, truthfile=Desulfurococcus fermentans\n",
      "DISAGREE: ncbi=Acetoanaerobium sticklandii, truthfile=[Clostridium] sticklandii\n",
      "cannot find taxid 117575; quitting.\n",
      "DISAGREE: ncbi=unassigned, truthfile=Chlamydia pneumoniae phage CPAR39\n",
      "cannot find taxid 477693; quitting.\n",
      "DISAGREE: ncbi=unassigned, truthfile=Desulfurococcus kamchatkensis\n",
      "ZZZ found no lineage for NC_014972.1 Desulfobulbus propionicus DSM 2032, complete genome\n",
      "ZZZ found no lineage for CP003388.1 Riemerella anatipestifer ATCC 11845 = DSM 15868, complete genome\n",
      "DISAGREE: ncbi=Methanothrix soehngenii, truthfile=Methanosaeta concilii\n",
      "DISAGREE: ncbi=Pseudodesulfovibrio aespoeensis, truthfile=Desulfovibrio aespoeensis\n",
      "DISAGREE: ncbi=Rhodococcus hoagii, truthfile=Rhodococcus equi\n",
      "DISAGREE: ncbi=Sediminispirochaeta smaragdinae, truthfile=Spirochaeta smaragdinae\n",
      "DISAGREE: ncbi=Alteromonas naphthalenivorans, truthfile=Alteromonas sp. SN2\n",
      "cannot find taxid 228748; quitting.\n",
      "DISAGREE: ncbi=unassigned, truthfile=Desulfurococcus fermentans\n",
      "DISAGREE: ncbi=Acetoanaerobium sticklandii, truthfile=[Clostridium] sticklandii\n",
      "cannot find taxid 117575; quitting.\n",
      "DISAGREE: ncbi=unassigned, truthfile=Chlamydia pneumoniae phage CPAR39\n",
      "cannot find taxid 477693; quitting.\n",
      "DISAGREE: ncbi=unassigned, truthfile=Desulfurococcus kamchatkensis\n",
      "DISAGREE: ncbi=Methanothrix soehngenii, truthfile=Methanosaeta concilii\n",
      "DISAGREE: ncbi=Pseudodesulfovibrio aespoeensis, truthfile=Desulfovibrio aespoeensis\n",
      "DISAGREE: ncbi=Rhodococcus hoagii, truthfile=Rhodococcus equi\n",
      "DISAGREE: ncbi=Sediminispirochaeta smaragdinae, truthfile=Spirochaeta smaragdinae\n",
      "DISAGREE: ncbi=Alteromonas naphthalenivorans, truthfile=Alteromonas sp. SN2\n",
      "cannot find taxid 228748; quitting.\n",
      "DISAGREE: ncbi=unassigned, truthfile=Desulfurococcus fermentans\n",
      "DISAGREE: ncbi=Acetoanaerobium sticklandii, truthfile=[Clostridium] sticklandii\n",
      "cannot find taxid 117575; quitting.\n",
      "DISAGREE: ncbi=unassigned, truthfile=Chlamydia pneumoniae phage CPAR39\n",
      "cannot find taxid 477693; quitting.\n",
      "DISAGREE: ncbi=unassigned, truthfile=Desulfurococcus kamchatkensis\n",
      "ZZZ found no lineage for NC_014972.1 Desulfobulbus propionicus DSM 2032, complete genome\n",
      "ZZZ found no lineage for CP003388.1 Riemerella anatipestifer ATCC 11845 = DSM 15868, complete genome\n",
      "[('truth_sets/species/UnAmbiguouslyMapped_ds.7_TRUTH.txt', 0.9662698412698413, 0.9347408829174664, 0.9662698412698413, 0.9347408829174664), ('truth_sets/species/UnAmbiguouslyMapped_ds.7_TRUTH.txt', 0.9662698412698413, 0.9347408829174664, 0.9662698412698413, 0.9347408829174664, 0.9978632478632479, 0.8963531669865643)]\n"
     ]
    }
   ],
   "source": [
    "triples_2 =[('truth_sets/species/UnAmbiguouslyMapped_ds.7_TRUTH.txt','output/UnAmbiguouslyMapped_ds.7.fq.gz_reads.scaled10k.k51.lca.gather.matches.csv',\n",
    "  'output/UnAmbiguouslyMapped_ds.7.fq.gz_reads.scaled10k.k51.gather.matches.csv')]\n",
    "\n",
    "results = []\n",
    "\n",
    "for truth, lca_gather, gather in triples_2: \n",
    "    p, r = summarize_lca_gather_reads(truth, lca_gather)\n",
    "    \n",
    "    p2, r2 = summarize_lca_gather_contigs(truth, lca_gather)\n",
    "    results.append(( truth, p, r, p2, r2))\n",
    "  \n",
    "    p3, r3 = summarize_gather_reads(truth, gather)\n",
    "    results.append((truth, p, r, p2, r2, p3, r3))\n",
    "    \n",
    "print(results)"
   ]
  },
  {
   "cell_type": "code",
   "execution_count": 40,
   "metadata": {},
   "outputs": [
    {
     "data": {
      "text/plain": [
       "[('truth_sets/species/Huttenhower_HC1_TRUTH.txt',\n",
       "  'output/Huttenhower_HC1.fasta.gz_reads.scaled10k.k51.lca.gather.matches.csv',\n",
       "  'output/Huttenhower_HC1.fasta.gz_reads.scaled10k.k51.gather.matches.csv'),\n",
       " ('truth_sets/species/Huttenhower_HC2_TRUTH.txt',\n",
       "  'output/Huttenhower_HC2.fasta.gz_reads.scaled10k.k51.lca.gather.matches.csv',\n",
       "  'output/Huttenhower_HC2.fasta.gz_reads.scaled10k.k51.gather.matches.csv'),\n",
       " ('truth_sets/species/Huttenhower_LC1_TRUTH.txt',\n",
       "  'output/Huttenhower_LC1.fasta.gz_reads.scaled10k.k51.lca.gather.matches.csv',\n",
       "  'output/Huttenhower_LC1.fasta.gz_reads.scaled10k.k51.gather.matches.csv'),\n",
       " ('truth_sets/species/Huttenhower_LC2_TRUTH.txt',\n",
       "  'output/Huttenhower_LC2.fasta.gz_reads.scaled10k.k51.lca.gather.matches.csv',\n",
       "  'output/Huttenhower_LC2.fasta.gz_reads.scaled10k.k51.gather.matches.csv'),\n",
       " ('truth_sets/species/Huttenhower_LC3_TRUTH.txt',\n",
       "  'output/Huttenhower_LC3.fasta.gz_reads.scaled10k.k51.lca.gather.matches.csv',\n",
       "  'output/Huttenhower_LC3.fasta.gz_reads.scaled10k.k51.gather.matches.csv'),\n",
       " ('truth_sets/species/Huttenhower_LC4_TRUTH.txt',\n",
       "  'output/Huttenhower_LC4.fasta.gz_reads.scaled10k.k51.lca.gather.matches.csv',\n",
       "  'output/Huttenhower_LC4.fasta.gz_reads.scaled10k.k51.gather.matches.csv'),\n",
       " ('truth_sets/species/Huttenhower_LC5_TRUTH.txt',\n",
       "  'output/Huttenhower_LC5.fasta.gz_reads.scaled10k.k51.lca.gather.matches.csv',\n",
       "  'output/Huttenhower_LC5.fasta.gz_reads.scaled10k.k51.gather.matches.csv'),\n",
       " ('truth_sets/species/Huttenhower_LC6_TRUTH.txt',\n",
       "  'output/Huttenhower_LC6.fasta.gz_reads.scaled10k.k51.lca.gather.matches.csv',\n",
       "  'output/Huttenhower_LC6.fasta.gz_reads.scaled10k.k51.gather.matches.csv'),\n",
       " ('truth_sets/species/Huttenhower_LC7_TRUTH.txt',\n",
       "  'output/Huttenhower_LC7.fasta.gz_reads.scaled10k.k51.lca.gather.matches.csv',\n",
       "  'output/Huttenhower_LC7.fasta.gz_reads.scaled10k.k51.gather.matches.csv'),\n",
       " ('truth_sets/species/Huttenhower_LC8_TRUTH.txt',\n",
       "  'output/Huttenhower_LC8.fasta.gz_reads.scaled10k.k51.lca.gather.matches.csv',\n",
       "  'output/Huttenhower_LC8.fasta.gz_reads.scaled10k.k51.gather.matches.csv'),\n",
       " ('truth_sets/species/UnAmbiguouslyMapped_ds.7_TRUTH.txt',\n",
       "  'output/UnAmbiguouslyMapped_ds.7.fq.gz_reads.scaled10k.k51.lca.gather.matches.csv',\n",
       "  'output/UnAmbiguouslyMapped_ds.7.fq.gz_reads.scaled10k.k51.gather.matches.csv'),\n",
       " ('truth_sets/species/UnAmbiguouslyMapped_ds.buccal_TRUTH.txt',\n",
       "  'output/UnAmbiguouslyMapped_ds.buccal.fq.gz_reads.scaled10k.k51.lca.gather.matches.csv',\n",
       "  'output/UnAmbiguouslyMapped_ds.buccal.fq.gz_reads.scaled10k.k51.gather.matches.csv'),\n",
       " ('truth_sets/species/UnAmbiguouslyMapped_ds.cityparks_TRUTH.txt',\n",
       "  'output/UnAmbiguouslyMapped_ds.cityparks.fq.gz_reads.scaled10k.k51.lca.gather.matches.csv',\n",
       "  'output/UnAmbiguouslyMapped_ds.cityparks.fq.gz_reads.scaled10k.k51.gather.matches.csv'),\n",
       " ('truth_sets/species/UnAmbiguouslyMapped_ds.gut_TRUTH.txt',\n",
       "  'output/UnAmbiguouslyMapped_ds.gut.fq.gz_reads.scaled10k.k51.lca.gather.matches.csv',\n",
       "  'output/UnAmbiguouslyMapped_ds.gut.fq.gz_reads.scaled10k.k51.gather.matches.csv'),\n",
       " ('truth_sets/species/UnAmbiguouslyMapped_ds.hous1_TRUTH.txt',\n",
       "  'output/UnAmbiguouslyMapped_ds.hous1.fq.gz_reads.scaled10k.k51.lca.gather.matches.csv',\n",
       "  'output/UnAmbiguouslyMapped_ds.hous1.fq.gz_reads.scaled10k.k51.gather.matches.csv'),\n",
       " ('truth_sets/species/UnAmbiguouslyMapped_ds.hous2_TRUTH.txt',\n",
       "  'output/UnAmbiguouslyMapped_ds.hous2.fq.gz_reads.scaled10k.k51.lca.gather.matches.csv',\n",
       "  'output/UnAmbiguouslyMapped_ds.hous2.fq.gz_reads.scaled10k.k51.gather.matches.csv'),\n",
       " ('truth_sets/species/UnAmbiguouslyMapped_ds.nycsm_TRUTH.txt',\n",
       "  'output/UnAmbiguouslyMapped_ds.nycsm.fq.gz_reads.scaled10k.k51.lca.gather.matches.csv',\n",
       "  'output/UnAmbiguouslyMapped_ds.nycsm.fq.gz_reads.scaled10k.k51.gather.matches.csv'),\n",
       " ('truth_sets/species/UnAmbiguouslyMapped_ds.soil_TRUTH.txt',\n",
       "  'output/UnAmbiguouslyMapped_ds.soil.fq.gz_reads.scaled10k.k51.lca.gather.matches.csv',\n",
       "  'output/UnAmbiguouslyMapped_ds.soil.fq.gz_reads.scaled10k.k51.gather.matches.csv')]"
      ]
     },
     "execution_count": 40,
     "metadata": {},
     "output_type": "execute_result"
    }
   ],
   "source": [
    "triples"
   ]
  },
  {
   "cell_type": "code",
   "execution_count": null,
   "metadata": {},
   "outputs": [],
   "source": []
  },
  {
   "cell_type": "code",
   "execution_count": 35,
   "metadata": {},
   "outputs": [
    {
     "data": {
      "text/html": [
       "<div>\n",
       "<style scoped>\n",
       "    .dataframe tbody tr th:only-of-type {\n",
       "        vertical-align: middle;\n",
       "    }\n",
       "\n",
       "    .dataframe tbody tr th {\n",
       "        vertical-align: top;\n",
       "    }\n",
       "\n",
       "    .dataframe thead th {\n",
       "        text-align: right;\n",
       "    }\n",
       "</style>\n",
       "<table border=\"1\" class=\"dataframe\">\n",
       "  <thead>\n",
       "    <tr style=\"text-align: right;\">\n",
       "      <th></th>\n",
       "      <th>Dataset</th>\n",
       "      <th>Precision_lca_reads</th>\n",
       "      <th>Recall_lca_reads</th>\n",
       "      <th>Precision_lca_contigs</th>\n",
       "      <th>Recall_lca_contigs</th>\n",
       "      <th>Precision_gather_reads</th>\n",
       "      <th>Recall_gather_reads</th>\n",
       "    </tr>\n",
       "  </thead>\n",
       "  <tbody>\n",
       "    <tr>\n",
       "      <th>0</th>\n",
       "      <td>truth_sets/species/Huttenhower_HC1_TRUTH.txt</td>\n",
       "      <td>0.941748</td>\n",
       "      <td>0.970000</td>\n",
       "      <td>0.941748</td>\n",
       "      <td>0.970000</td>\n",
       "      <td>NaN</td>\n",
       "      <td>NaN</td>\n",
       "    </tr>\n",
       "    <tr>\n",
       "      <th>1</th>\n",
       "      <td>truth_sets/species/Huttenhower_HC1_TRUTH.txt</td>\n",
       "      <td>0.941748</td>\n",
       "      <td>0.970000</td>\n",
       "      <td>0.941748</td>\n",
       "      <td>0.970000</td>\n",
       "      <td>0.989247</td>\n",
       "      <td>0.920000</td>\n",
       "    </tr>\n",
       "    <tr>\n",
       "      <th>2</th>\n",
       "      <td>truth_sets/species/Huttenhower_HC2_TRUTH.txt</td>\n",
       "      <td>0.913462</td>\n",
       "      <td>0.950000</td>\n",
       "      <td>0.913462</td>\n",
       "      <td>0.950000</td>\n",
       "      <td>NaN</td>\n",
       "      <td>NaN</td>\n",
       "    </tr>\n",
       "    <tr>\n",
       "      <th>3</th>\n",
       "      <td>truth_sets/species/Huttenhower_HC2_TRUTH.txt</td>\n",
       "      <td>0.913462</td>\n",
       "      <td>0.950000</td>\n",
       "      <td>0.913462</td>\n",
       "      <td>0.950000</td>\n",
       "      <td>0.988372</td>\n",
       "      <td>0.850000</td>\n",
       "    </tr>\n",
       "    <tr>\n",
       "      <th>4</th>\n",
       "      <td>truth_sets/species/Huttenhower_LC1_TRUTH.txt</td>\n",
       "      <td>0.700000</td>\n",
       "      <td>0.560000</td>\n",
       "      <td>0.700000</td>\n",
       "      <td>0.560000</td>\n",
       "      <td>NaN</td>\n",
       "      <td>NaN</td>\n",
       "    </tr>\n",
       "    <tr>\n",
       "      <th>5</th>\n",
       "      <td>truth_sets/species/Huttenhower_LC1_TRUTH.txt</td>\n",
       "      <td>0.700000</td>\n",
       "      <td>0.560000</td>\n",
       "      <td>0.700000</td>\n",
       "      <td>0.560000</td>\n",
       "      <td>0.900000</td>\n",
       "      <td>0.360000</td>\n",
       "    </tr>\n",
       "    <tr>\n",
       "      <th>6</th>\n",
       "      <td>truth_sets/species/Huttenhower_LC2_TRUTH.txt</td>\n",
       "      <td>0.916667</td>\n",
       "      <td>0.880000</td>\n",
       "      <td>0.916667</td>\n",
       "      <td>0.880000</td>\n",
       "      <td>NaN</td>\n",
       "      <td>NaN</td>\n",
       "    </tr>\n",
       "    <tr>\n",
       "      <th>7</th>\n",
       "      <td>truth_sets/species/Huttenhower_LC2_TRUTH.txt</td>\n",
       "      <td>0.916667</td>\n",
       "      <td>0.880000</td>\n",
       "      <td>0.916667</td>\n",
       "      <td>0.880000</td>\n",
       "      <td>0.941176</td>\n",
       "      <td>0.640000</td>\n",
       "    </tr>\n",
       "    <tr>\n",
       "      <th>8</th>\n",
       "      <td>truth_sets/species/Huttenhower_LC3_TRUTH.txt</td>\n",
       "      <td>0.818182</td>\n",
       "      <td>0.720000</td>\n",
       "      <td>0.818182</td>\n",
       "      <td>0.720000</td>\n",
       "      <td>NaN</td>\n",
       "      <td>NaN</td>\n",
       "    </tr>\n",
       "    <tr>\n",
       "      <th>9</th>\n",
       "      <td>truth_sets/species/Huttenhower_LC3_TRUTH.txt</td>\n",
       "      <td>0.818182</td>\n",
       "      <td>0.720000</td>\n",
       "      <td>0.818182</td>\n",
       "      <td>0.720000</td>\n",
       "      <td>0.909091</td>\n",
       "      <td>0.400000</td>\n",
       "    </tr>\n",
       "    <tr>\n",
       "      <th>10</th>\n",
       "      <td>truth_sets/species/Huttenhower_LC4_TRUTH.txt</td>\n",
       "      <td>0.800000</td>\n",
       "      <td>0.480000</td>\n",
       "      <td>0.800000</td>\n",
       "      <td>0.480000</td>\n",
       "      <td>NaN</td>\n",
       "      <td>NaN</td>\n",
       "    </tr>\n",
       "    <tr>\n",
       "      <th>11</th>\n",
       "      <td>truth_sets/species/Huttenhower_LC4_TRUTH.txt</td>\n",
       "      <td>0.800000</td>\n",
       "      <td>0.480000</td>\n",
       "      <td>0.800000</td>\n",
       "      <td>0.480000</td>\n",
       "      <td>0.833333</td>\n",
       "      <td>0.200000</td>\n",
       "    </tr>\n",
       "    <tr>\n",
       "      <th>12</th>\n",
       "      <td>truth_sets/species/Huttenhower_LC5_TRUTH.txt</td>\n",
       "      <td>0.529412</td>\n",
       "      <td>0.360000</td>\n",
       "      <td>0.529412</td>\n",
       "      <td>0.360000</td>\n",
       "      <td>NaN</td>\n",
       "      <td>NaN</td>\n",
       "    </tr>\n",
       "    <tr>\n",
       "      <th>13</th>\n",
       "      <td>truth_sets/species/Huttenhower_LC5_TRUTH.txt</td>\n",
       "      <td>0.529412</td>\n",
       "      <td>0.360000</td>\n",
       "      <td>0.529412</td>\n",
       "      <td>0.360000</td>\n",
       "      <td>0.875000</td>\n",
       "      <td>0.280000</td>\n",
       "    </tr>\n",
       "    <tr>\n",
       "      <th>14</th>\n",
       "      <td>truth_sets/species/Huttenhower_LC6_TRUTH.txt</td>\n",
       "      <td>1.000000</td>\n",
       "      <td>0.680000</td>\n",
       "      <td>1.000000</td>\n",
       "      <td>0.680000</td>\n",
       "      <td>NaN</td>\n",
       "      <td>NaN</td>\n",
       "    </tr>\n",
       "    <tr>\n",
       "      <th>15</th>\n",
       "      <td>truth_sets/species/Huttenhower_LC6_TRUTH.txt</td>\n",
       "      <td>1.000000</td>\n",
       "      <td>0.680000</td>\n",
       "      <td>1.000000</td>\n",
       "      <td>0.680000</td>\n",
       "      <td>0.916667</td>\n",
       "      <td>0.440000</td>\n",
       "    </tr>\n",
       "    <tr>\n",
       "      <th>16</th>\n",
       "      <td>truth_sets/species/Huttenhower_LC7_TRUTH.txt</td>\n",
       "      <td>0.866667</td>\n",
       "      <td>0.520000</td>\n",
       "      <td>0.866667</td>\n",
       "      <td>0.520000</td>\n",
       "      <td>NaN</td>\n",
       "      <td>NaN</td>\n",
       "    </tr>\n",
       "    <tr>\n",
       "      <th>17</th>\n",
       "      <td>truth_sets/species/Huttenhower_LC7_TRUTH.txt</td>\n",
       "      <td>0.866667</td>\n",
       "      <td>0.520000</td>\n",
       "      <td>0.866667</td>\n",
       "      <td>0.520000</td>\n",
       "      <td>0.888889</td>\n",
       "      <td>0.320000</td>\n",
       "    </tr>\n",
       "    <tr>\n",
       "      <th>18</th>\n",
       "      <td>truth_sets/species/Huttenhower_LC8_TRUTH.txt</td>\n",
       "      <td>0.850000</td>\n",
       "      <td>0.680000</td>\n",
       "      <td>0.850000</td>\n",
       "      <td>0.680000</td>\n",
       "      <td>NaN</td>\n",
       "      <td>NaN</td>\n",
       "    </tr>\n",
       "    <tr>\n",
       "      <th>19</th>\n",
       "      <td>truth_sets/species/Huttenhower_LC8_TRUTH.txt</td>\n",
       "      <td>0.850000</td>\n",
       "      <td>0.680000</td>\n",
       "      <td>0.850000</td>\n",
       "      <td>0.680000</td>\n",
       "      <td>0.900000</td>\n",
       "      <td>0.360000</td>\n",
       "    </tr>\n",
       "    <tr>\n",
       "      <th>20</th>\n",
       "      <td>truth_sets/species/UnAmbiguouslyMapped_ds.7_TR...</td>\n",
       "      <td>0.966270</td>\n",
       "      <td>0.934741</td>\n",
       "      <td>0.966270</td>\n",
       "      <td>0.934741</td>\n",
       "      <td>NaN</td>\n",
       "      <td>NaN</td>\n",
       "    </tr>\n",
       "    <tr>\n",
       "      <th>21</th>\n",
       "      <td>truth_sets/species/UnAmbiguouslyMapped_ds.7_TR...</td>\n",
       "      <td>0.966270</td>\n",
       "      <td>0.934741</td>\n",
       "      <td>0.966270</td>\n",
       "      <td>0.934741</td>\n",
       "      <td>0.997863</td>\n",
       "      <td>0.896353</td>\n",
       "    </tr>\n",
       "    <tr>\n",
       "      <th>22</th>\n",
       "      <td>truth_sets/species/UnAmbiguouslyMapped_ds.bucc...</td>\n",
       "      <td>1.000000</td>\n",
       "      <td>1.000000</td>\n",
       "      <td>1.000000</td>\n",
       "      <td>1.000000</td>\n",
       "      <td>NaN</td>\n",
       "      <td>NaN</td>\n",
       "    </tr>\n",
       "    <tr>\n",
       "      <th>23</th>\n",
       "      <td>truth_sets/species/UnAmbiguouslyMapped_ds.bucc...</td>\n",
       "      <td>1.000000</td>\n",
       "      <td>1.000000</td>\n",
       "      <td>1.000000</td>\n",
       "      <td>1.000000</td>\n",
       "      <td>0.923077</td>\n",
       "      <td>1.000000</td>\n",
       "    </tr>\n",
       "    <tr>\n",
       "      <th>24</th>\n",
       "      <td>truth_sets/species/UnAmbiguouslyMapped_ds.city...</td>\n",
       "      <td>0.979167</td>\n",
       "      <td>0.979167</td>\n",
       "      <td>0.979167</td>\n",
       "      <td>0.979167</td>\n",
       "      <td>NaN</td>\n",
       "      <td>NaN</td>\n",
       "    </tr>\n",
       "    <tr>\n",
       "      <th>25</th>\n",
       "      <td>truth_sets/species/UnAmbiguouslyMapped_ds.city...</td>\n",
       "      <td>0.979167</td>\n",
       "      <td>0.979167</td>\n",
       "      <td>0.979167</td>\n",
       "      <td>0.979167</td>\n",
       "      <td>0.979592</td>\n",
       "      <td>1.000000</td>\n",
       "    </tr>\n",
       "    <tr>\n",
       "      <th>26</th>\n",
       "      <td>truth_sets/species/UnAmbiguouslyMapped_ds.gut_...</td>\n",
       "      <td>1.000000</td>\n",
       "      <td>1.000000</td>\n",
       "      <td>1.000000</td>\n",
       "      <td>1.000000</td>\n",
       "      <td>NaN</td>\n",
       "      <td>NaN</td>\n",
       "    </tr>\n",
       "    <tr>\n",
       "      <th>27</th>\n",
       "      <td>truth_sets/species/UnAmbiguouslyMapped_ds.gut_...</td>\n",
       "      <td>1.000000</td>\n",
       "      <td>1.000000</td>\n",
       "      <td>1.000000</td>\n",
       "      <td>1.000000</td>\n",
       "      <td>0.952381</td>\n",
       "      <td>1.000000</td>\n",
       "    </tr>\n",
       "    <tr>\n",
       "      <th>28</th>\n",
       "      <td>truth_sets/species/UnAmbiguouslyMapped_ds.hous...</td>\n",
       "      <td>0.933333</td>\n",
       "      <td>0.933333</td>\n",
       "      <td>0.933333</td>\n",
       "      <td>0.933333</td>\n",
       "      <td>NaN</td>\n",
       "      <td>NaN</td>\n",
       "    </tr>\n",
       "    <tr>\n",
       "      <th>29</th>\n",
       "      <td>truth_sets/species/UnAmbiguouslyMapped_ds.hous...</td>\n",
       "      <td>0.933333</td>\n",
       "      <td>0.933333</td>\n",
       "      <td>0.933333</td>\n",
       "      <td>0.933333</td>\n",
       "      <td>0.964286</td>\n",
       "      <td>0.900000</td>\n",
       "    </tr>\n",
       "    <tr>\n",
       "      <th>30</th>\n",
       "      <td>truth_sets/species/UnAmbiguouslyMapped_ds.hous...</td>\n",
       "      <td>0.947368</td>\n",
       "      <td>0.900000</td>\n",
       "      <td>0.947368</td>\n",
       "      <td>0.900000</td>\n",
       "      <td>NaN</td>\n",
       "      <td>NaN</td>\n",
       "    </tr>\n",
       "    <tr>\n",
       "      <th>31</th>\n",
       "      <td>truth_sets/species/UnAmbiguouslyMapped_ds.hous...</td>\n",
       "      <td>0.947368</td>\n",
       "      <td>0.900000</td>\n",
       "      <td>0.947368</td>\n",
       "      <td>0.900000</td>\n",
       "      <td>0.950000</td>\n",
       "      <td>0.950000</td>\n",
       "    </tr>\n",
       "    <tr>\n",
       "      <th>32</th>\n",
       "      <td>truth_sets/species/UnAmbiguouslyMapped_ds.nycs...</td>\n",
       "      <td>0.950000</td>\n",
       "      <td>0.950000</td>\n",
       "      <td>0.950000</td>\n",
       "      <td>0.950000</td>\n",
       "      <td>NaN</td>\n",
       "      <td>NaN</td>\n",
       "    </tr>\n",
       "    <tr>\n",
       "      <th>33</th>\n",
       "      <td>truth_sets/species/UnAmbiguouslyMapped_ds.nycs...</td>\n",
       "      <td>0.950000</td>\n",
       "      <td>0.950000</td>\n",
       "      <td>0.950000</td>\n",
       "      <td>0.950000</td>\n",
       "      <td>0.950000</td>\n",
       "      <td>0.950000</td>\n",
       "    </tr>\n",
       "    <tr>\n",
       "      <th>34</th>\n",
       "      <td>truth_sets/species/UnAmbiguouslyMapped_ds.soil...</td>\n",
       "      <td>0.980000</td>\n",
       "      <td>0.980000</td>\n",
       "      <td>0.980000</td>\n",
       "      <td>0.980000</td>\n",
       "      <td>NaN</td>\n",
       "      <td>NaN</td>\n",
       "    </tr>\n",
       "    <tr>\n",
       "      <th>35</th>\n",
       "      <td>truth_sets/species/UnAmbiguouslyMapped_ds.soil...</td>\n",
       "      <td>0.980000</td>\n",
       "      <td>0.980000</td>\n",
       "      <td>0.980000</td>\n",
       "      <td>0.980000</td>\n",
       "      <td>0.980392</td>\n",
       "      <td>1.000000</td>\n",
       "    </tr>\n",
       "  </tbody>\n",
       "</table>\n",
       "</div>"
      ],
      "text/plain": [
       "                                              Dataset  Precision_lca_reads  \\\n",
       "0        truth_sets/species/Huttenhower_HC1_TRUTH.txt             0.941748   \n",
       "1        truth_sets/species/Huttenhower_HC1_TRUTH.txt             0.941748   \n",
       "2        truth_sets/species/Huttenhower_HC2_TRUTH.txt             0.913462   \n",
       "3        truth_sets/species/Huttenhower_HC2_TRUTH.txt             0.913462   \n",
       "4        truth_sets/species/Huttenhower_LC1_TRUTH.txt             0.700000   \n",
       "5        truth_sets/species/Huttenhower_LC1_TRUTH.txt             0.700000   \n",
       "6        truth_sets/species/Huttenhower_LC2_TRUTH.txt             0.916667   \n",
       "7        truth_sets/species/Huttenhower_LC2_TRUTH.txt             0.916667   \n",
       "8        truth_sets/species/Huttenhower_LC3_TRUTH.txt             0.818182   \n",
       "9        truth_sets/species/Huttenhower_LC3_TRUTH.txt             0.818182   \n",
       "10       truth_sets/species/Huttenhower_LC4_TRUTH.txt             0.800000   \n",
       "11       truth_sets/species/Huttenhower_LC4_TRUTH.txt             0.800000   \n",
       "12       truth_sets/species/Huttenhower_LC5_TRUTH.txt             0.529412   \n",
       "13       truth_sets/species/Huttenhower_LC5_TRUTH.txt             0.529412   \n",
       "14       truth_sets/species/Huttenhower_LC6_TRUTH.txt             1.000000   \n",
       "15       truth_sets/species/Huttenhower_LC6_TRUTH.txt             1.000000   \n",
       "16       truth_sets/species/Huttenhower_LC7_TRUTH.txt             0.866667   \n",
       "17       truth_sets/species/Huttenhower_LC7_TRUTH.txt             0.866667   \n",
       "18       truth_sets/species/Huttenhower_LC8_TRUTH.txt             0.850000   \n",
       "19       truth_sets/species/Huttenhower_LC8_TRUTH.txt             0.850000   \n",
       "20  truth_sets/species/UnAmbiguouslyMapped_ds.7_TR...             0.966270   \n",
       "21  truth_sets/species/UnAmbiguouslyMapped_ds.7_TR...             0.966270   \n",
       "22  truth_sets/species/UnAmbiguouslyMapped_ds.bucc...             1.000000   \n",
       "23  truth_sets/species/UnAmbiguouslyMapped_ds.bucc...             1.000000   \n",
       "24  truth_sets/species/UnAmbiguouslyMapped_ds.city...             0.979167   \n",
       "25  truth_sets/species/UnAmbiguouslyMapped_ds.city...             0.979167   \n",
       "26  truth_sets/species/UnAmbiguouslyMapped_ds.gut_...             1.000000   \n",
       "27  truth_sets/species/UnAmbiguouslyMapped_ds.gut_...             1.000000   \n",
       "28  truth_sets/species/UnAmbiguouslyMapped_ds.hous...             0.933333   \n",
       "29  truth_sets/species/UnAmbiguouslyMapped_ds.hous...             0.933333   \n",
       "30  truth_sets/species/UnAmbiguouslyMapped_ds.hous...             0.947368   \n",
       "31  truth_sets/species/UnAmbiguouslyMapped_ds.hous...             0.947368   \n",
       "32  truth_sets/species/UnAmbiguouslyMapped_ds.nycs...             0.950000   \n",
       "33  truth_sets/species/UnAmbiguouslyMapped_ds.nycs...             0.950000   \n",
       "34  truth_sets/species/UnAmbiguouslyMapped_ds.soil...             0.980000   \n",
       "35  truth_sets/species/UnAmbiguouslyMapped_ds.soil...             0.980000   \n",
       "\n",
       "    Recall_lca_reads  Precision_lca_contigs  Recall_lca_contigs  \\\n",
       "0           0.970000               0.941748            0.970000   \n",
       "1           0.970000               0.941748            0.970000   \n",
       "2           0.950000               0.913462            0.950000   \n",
       "3           0.950000               0.913462            0.950000   \n",
       "4           0.560000               0.700000            0.560000   \n",
       "5           0.560000               0.700000            0.560000   \n",
       "6           0.880000               0.916667            0.880000   \n",
       "7           0.880000               0.916667            0.880000   \n",
       "8           0.720000               0.818182            0.720000   \n",
       "9           0.720000               0.818182            0.720000   \n",
       "10          0.480000               0.800000            0.480000   \n",
       "11          0.480000               0.800000            0.480000   \n",
       "12          0.360000               0.529412            0.360000   \n",
       "13          0.360000               0.529412            0.360000   \n",
       "14          0.680000               1.000000            0.680000   \n",
       "15          0.680000               1.000000            0.680000   \n",
       "16          0.520000               0.866667            0.520000   \n",
       "17          0.520000               0.866667            0.520000   \n",
       "18          0.680000               0.850000            0.680000   \n",
       "19          0.680000               0.850000            0.680000   \n",
       "20          0.934741               0.966270            0.934741   \n",
       "21          0.934741               0.966270            0.934741   \n",
       "22          1.000000               1.000000            1.000000   \n",
       "23          1.000000               1.000000            1.000000   \n",
       "24          0.979167               0.979167            0.979167   \n",
       "25          0.979167               0.979167            0.979167   \n",
       "26          1.000000               1.000000            1.000000   \n",
       "27          1.000000               1.000000            1.000000   \n",
       "28          0.933333               0.933333            0.933333   \n",
       "29          0.933333               0.933333            0.933333   \n",
       "30          0.900000               0.947368            0.900000   \n",
       "31          0.900000               0.947368            0.900000   \n",
       "32          0.950000               0.950000            0.950000   \n",
       "33          0.950000               0.950000            0.950000   \n",
       "34          0.980000               0.980000            0.980000   \n",
       "35          0.980000               0.980000            0.980000   \n",
       "\n",
       "    Precision_gather_reads  Recall_gather_reads  \n",
       "0                      NaN                  NaN  \n",
       "1                 0.989247             0.920000  \n",
       "2                      NaN                  NaN  \n",
       "3                 0.988372             0.850000  \n",
       "4                      NaN                  NaN  \n",
       "5                 0.900000             0.360000  \n",
       "6                      NaN                  NaN  \n",
       "7                 0.941176             0.640000  \n",
       "8                      NaN                  NaN  \n",
       "9                 0.909091             0.400000  \n",
       "10                     NaN                  NaN  \n",
       "11                0.833333             0.200000  \n",
       "12                     NaN                  NaN  \n",
       "13                0.875000             0.280000  \n",
       "14                     NaN                  NaN  \n",
       "15                0.916667             0.440000  \n",
       "16                     NaN                  NaN  \n",
       "17                0.888889             0.320000  \n",
       "18                     NaN                  NaN  \n",
       "19                0.900000             0.360000  \n",
       "20                     NaN                  NaN  \n",
       "21                0.997863             0.896353  \n",
       "22                     NaN                  NaN  \n",
       "23                0.923077             1.000000  \n",
       "24                     NaN                  NaN  \n",
       "25                0.979592             1.000000  \n",
       "26                     NaN                  NaN  \n",
       "27                0.952381             1.000000  \n",
       "28                     NaN                  NaN  \n",
       "29                0.964286             0.900000  \n",
       "30                     NaN                  NaN  \n",
       "31                0.950000             0.950000  \n",
       "32                     NaN                  NaN  \n",
       "33                0.950000             0.950000  \n",
       "34                     NaN                  NaN  \n",
       "35                0.980392             1.000000  "
      ]
     },
     "execution_count": 35,
     "metadata": {},
     "output_type": "execute_result"
    }
   ],
   "source": [
    "# Precision and recall for lca gather (p, r) and gather (p2, r2)\n",
    "import pandas as pd \n",
    "df = pd.DataFrame(results)\n",
    "df.columns = ['Dataset', 'Precision_lca_reads', 'Recall_lca_reads','Precision_lca_contigs', 'Recall_lca_contigs', 'Precision_gather_reads', 'Recall_gather_reads']\n",
    "df"
   ]
  },
  {
   "cell_type": "code",
   "execution_count": 36,
   "metadata": {},
   "outputs": [
    {
     "name": "stdout",
     "output_type": "stream",
     "text": [
      "NZ_FR854362.1\n",
      "NC_014972.1\n",
      "CP003388.1\n"
     ]
    }
   ],
   "source": [
    "# NZ_FR854362.1 is no longer in the NCBI database \n",
    "# Lineages for CP003388.1 and NC_014972.1 we added to gather-lineages.csv; however this did \n",
    "# not result in detection of their lineages\n",
    "print(\"\\n\".join([x.split()[0] for x in notfound]))"
   ]
  },
  {
   "cell_type": "markdown",
   "metadata": {},
   "source": [
    "CP003388.1 693978\n",
    "cellular organisms; Bacteria; FCB group; Bacteroidetes/Chlorobi group; Bacteroidetes; Flavobacteriia; Flavobacteriales; Flavobacteriaceae; Riemerella; Riemerella anatipestifer\n",
    "\n",
    "NZ_FR854362.1\n",
    "\n",
    "\n",
    "NC_014972.1 577650\n",
    "Bacteria; Proteobacteria; delta/epsilon subdivisions; Deltaproteobacteria; Desulfobacterales; Desulfobulbaceae; Desulfobulbus; Desulfobulbus propionicus"
   ]
  },
  {
   "cell_type": "code",
   "execution_count": 37,
   "metadata": {},
   "outputs": [],
   "source": [
    "# Plot precision and recall for sourmash lca gather run on reads \n",
    "import matplotlib.pyplot as plt\n",
    "import seaborn as sns\n",
    "\n",
    "\n",
    "sns.set(style=\"whitegrid\")\n",
    "\n",
    "g = sns.lmplot(x=\"Precision_lca_reads\", y=\"Recall_lca_reads\", hue=\"Dataset\",\n",
    "               truncate=True, size=5, data=df)"
   ]
  },
  {
   "cell_type": "code",
   "execution_count": 38,
   "metadata": {},
   "outputs": [
    {
     "data": {
      "image/png": "[encoded data removed]",
      "text/plain": [
       "<matplotlib.figure.Figure at 0x1093ef4e0>"
      ]
     },
     "metadata": {},
     "output_type": "display_data"
    }
   ],
   "source": [
    "# Plot precision and recall for sourmash lca gather run on contigs \n",
    "g = sns.lmplot(x=\"Precision_lca_contigs\", y=\"Recall_lca_contigs\", hue=\"Dataset\",\n",
    "               truncate=True, size=5, data=df)"
   ]
  },
  {
   "cell_type": "code",
   "execution_count": 39,
   "metadata": {},
   "outputs": [
    {
     "data": {
      "image/png": "[encoded data removed]",
      "text/plain": [
       "<matplotlib.figure.Figure at 0x166ee4d68>"
      ]
     },
     "metadata": {},
     "output_type": "display_data"
    }
   ],
   "source": [
    "# Plot precision and recall for the sourmash gather run on reads \n",
    "g = sns.lmplot(x=\"Precision_gather_reads\", y=\"Recall_gather_reads\", hue=\"Dataset\",\n",
    "               truncate=True, size=5, data=df)"
   ]
  },
  {
   "cell_type": "code",
   "execution_count": null,
   "metadata": {},
   "outputs": [],
   "source": []
  }
 ],
 "metadata": {
  "kernelspec": {
   "display_name": "Python 3",
   "language": "python",
   "name": "python3"
  },
  "language_info": {
   "codemirror_mode": {
    "name": "ipython",
    "version": 3
   },
   "file_extension": ".py",
   "mimetype": "text/x-python",
   "name": "python",
   "nbconvert_exporter": "python",
   "pygments_lexer": "ipython3",
   "version": "3.6.4"
  }
 },
 "nbformat": 4,
 "nbformat_minor": 2
}
