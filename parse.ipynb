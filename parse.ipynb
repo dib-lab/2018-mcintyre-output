{
 "cells": [
  {
   "cell_type": "markdown",
   "metadata": {},
   "source": [
    "# Evaluating truth vs sourmash gather\n",
    "\n"
   ]
  },
  {
   "cell_type": "code",
   "execution_count": 55,
   "metadata": {},
   "outputs": [],
   "source": [
    "import csv\n",
    "import sys\n",
    "sys.path.insert(0, '../2018-ncbi-lineages/')\n",
    "import ncbi_taxdump_utils\n",
    "import os"
   ]
  },
  {
   "cell_type": "code",
   "execution_count": 23,
   "metadata": {},
   "outputs": [],
   "source": [
    "taxfoo = ncbi_taxdump_utils.NCBI_TaxonomyFoo()\n",
    "\n",
    "taxfoo.load_nodes_dmp('../2018-ncbi-lineages/genbank/nodes.dmp.gz')\n",
    "taxfoo.load_names_dmp('../2018-ncbi-lineages/genbank/names.dmp.gz')\n",
    "\n",
    "want_taxonomy = ['superkingdom', 'phylum', 'order', 'class', 'family', 'genus', 'species']"
   ]
  },
  {
   "cell_type": "code",
   "execution_count": 24,
   "metadata": {},
   "outputs": [],
   "source": [
    "from sourmash_lib.lca import lca_utils, command_index\n",
    "\n",
    "def format_lineage(lineage_tup):\n",
    "    return \";\".join(lca_utils.zip_lineage(lineage_tup))"
   ]
  },
  {
   "cell_type": "markdown",
   "metadata": {},
   "source": [
    "## Sourmash gather: mapping from accession -> lineages\n",
    "\n",
    "This is important for dealing with the CSV output of `sourmash gather`; `sourmash lca gather`\n",
    "comes with the taxonomy already in the CSV output."
   ]
  },
  {
   "cell_type": "code",
   "execution_count": 25,
   "metadata": {},
   "outputs": [
    {
     "name": "stdout",
     "output_type": "stream",
     "text": [
      "loaded 798 rows\n"
     ]
    },
    {
     "name": "stderr",
     "output_type": "stream",
     "text": [
      "examining spreadsheet headers...\n",
      "** assuming column 'accession' is identifiers in spreadsheet\n"
     ]
    }
   ],
   "source": [
    "acc_to_lineage, num_rows = command_index.load_taxonomy_assignments('gather-lineages.csv', start_column=3)\n",
    "print('loaded {} rows'.format(num_rows))"
   ]
  },
  {
   "cell_type": "code",
   "execution_count": 26,
   "metadata": {},
   "outputs": [],
   "source": [
    "def get_lineage_by_acc(acc):\n",
    "    acc = acc.split(' ')[0].split('.')[0]\n",
    "    return acc_to_lineage.get(acc, None)\n",
    "\n",
    "# example for 'get_lineage_by_acc'\n",
    "#lineage = get_lineage_by_acc('NC_000917')\n",
    "#print(lineage)\n",
    "#print(format_lineage(lineage))"
   ]
  },
  {
   "cell_type": "code",
   "execution_count": 27,
   "metadata": {},
   "outputs": [],
   "source": [
    "def load_sourmash_csv(filename):\n",
    "    with open(filename, 'rt') as fp:\n",
    "        r = csv.DictReader(fp)\n",
    "        rows = list(r)\n",
    "    return rows\n",
    "\n",
    "#load_sourmash_csv('output/Huttenhower_HC1.fasta.gz.scaled10k.k51.gather.matches.csv')[:1]"
   ]
  },
  {
   "cell_type": "code",
   "execution_count": 28,
   "metadata": {},
   "outputs": [
    {
     "data": {
      "text/plain": [
       "[{'f_match': '0.03466386554621849',\n",
       "  'f_orig_query': '0.008465879938429965',\n",
       "  'f_unique_to_query': '0.008465879938429965',\n",
       "  'filename': 'inputs/databases/genbank-k51.sbt.json',\n",
       "  'intersect_bp': '330000',\n",
       "  'lineage': (LineagePair(rank='superkingdom', name='Bacteria'),\n",
       "   LineagePair(rank='phylum', name='Bacteroidetes'),\n",
       "   LineagePair(rank='class', name='Chitinophagia'),\n",
       "   LineagePair(rank='order', name='Chitinophagales'),\n",
       "   LineagePair(rank='family', name='Chitinophagaceae'),\n",
       "   LineagePair(rank='genus', name='Chitinophaga'),\n",
       "   LineagePair(rank='species', name='Chitinophaga pinensis')),\n",
       "  'md5': 'd06a405d39c8ebed579540db2994afe8',\n",
       "  'name': 'NC_013132.1 Chitinophaga pinensis DSM 2588, complete genome'}]"
      ]
     },
     "execution_count": 28,
     "metadata": {},
     "output_type": "execute_result"
    }
   ],
   "source": [
    "def make_gather_lineages(filename):\n",
    "    rows = load_sourmash_csv(filename)\n",
    "    rows2 = []\n",
    "    for d in rows:\n",
    "        name = d['name']\n",
    "        lineage = get_lineage_by_acc(name)\n",
    "        if lineage is None:\n",
    "            print('ZZZ found no lineage for {}'.format(name))\n",
    "        d2 = dict(d)\n",
    "        d2['lineage'] = lineage\n",
    "        rows2.append(d2)\n",
    "        \n",
    "    return rows2\n",
    "\n",
    "make_gather_lineages('output/Huttenhower_HC1.fasta.gz.scaled10k.k51.gather.matches.csv')[:1]"
   ]
  },
  {
   "cell_type": "markdown",
   "metadata": {},
   "source": [
    "## Truth files: loading in & fleshing out NCBI taxonomy\n",
    "\n",
    "Also needed :)."
   ]
  },
  {
   "cell_type": "code",
   "execution_count": 29,
   "metadata": {},
   "outputs": [
    {
     "name": "stdout",
     "output_type": "stream",
     "text": [
      "[(84980, '1.00000', '0.01000', 'species', 'Desulfotalea psychrophila'), (1428, '1.00000', '0.01000', 'species', 'Bacillus thuringiensis'), (1496, '1.00000', '0.01000', 'species', 'Peptoclostridium difficile'), (1525, '1.00000', '0.01000', 'species', 'Moorella thermoacetica'), (1423, '1.00000', '0.01000', 'species', 'Bacillus subtilis')]\n"
     ]
    }
   ],
   "source": [
    "def load_truth_file(filename):\n",
    "    with open(filename, 'rt') as fp:\n",
    "        lines = fp.readlines()\n",
    "        \n",
    "    lines = [ x.strip() for x in lines ]\n",
    "    lines = [ x.split('\\t') for x in lines ]\n",
    "    \n",
    "    rows = []\n",
    "    for x in lines:\n",
    "        taxid, a, b, rank, name = x\n",
    "        taxid = int(taxid)\n",
    "        rows.append((taxid, a, b, rank, name))\n",
    "    return rows\n",
    "    \n",
    "print(load_truth_file('truth_sets/species/Huttenhower_HC1_TRUTH.txt')[:5])"
   ]
  },
  {
   "cell_type": "code",
   "execution_count": 38,
   "metadata": {},
   "outputs": [
    {
     "data": {
      "text/plain": [
       "(LineagePair(rank='superkingdom', name='Bacteria'),\n",
       " LineagePair(rank='phylum', name='Proteobacteria'),\n",
       " LineagePair(rank='class', name='Deltaproteobacteria'),\n",
       " LineagePair(rank='order', name='Desulfobacterales'),\n",
       " LineagePair(rank='family', name='Desulfobulbaceae'),\n",
       " LineagePair(rank='genus', name='Desulfotalea'),\n",
       " LineagePair(rank='species', name='Desulfotalea psychrophila'))"
      ]
     },
     "execution_count": 38,
     "metadata": {},
     "output_type": "execute_result"
    }
   ],
   "source": [
    "def make_lineage_from_taxid(taxid):\n",
    "    lineage_d = taxfoo.get_lineage_as_dict(taxid, want_taxonomy)\n",
    "    \n",
    "    lineage = []\n",
    "    for rank in lca_utils.taxlist():\n",
    "        name = lineage_d.get(rank, 'unassigned')\n",
    "        lineage_pair = lca_utils.LineagePair(rank, name)\n",
    "        lineage.append(lineage_pair)\n",
    "    return tuple(lineage)\n",
    "\n",
    "make_lineage_from_taxid(84980)"
   ]
  },
  {
   "cell_type": "code",
   "execution_count": 39,
   "metadata": {},
   "outputs": [
    {
     "name": "stdout",
     "output_type": "stream",
     "text": [
      "DISAGREE: ncbi=Clostridioides difficile, truthfile=Peptoclostridium difficile\n",
      "DISAGREE: ncbi=Sediminispirochaeta smaragdinae, truthfile=Spirochaeta smaragdinae\n",
      "[(84980, '1.00000', '0.01000', 'species', 'Desulfotalea psychrophila', (LineagePair(rank='superkingdom', name='Bacteria'), LineagePair(rank='phylum', name='Proteobacteria'), LineagePair(rank='class', name='Deltaproteobacteria'), LineagePair(rank='order', name='Desulfobacterales'), LineagePair(rank='family', name='Desulfobulbaceae'), LineagePair(rank='genus', name='Desulfotalea'), LineagePair(rank='species', name='Desulfotalea psychrophila')))]\n"
     ]
    }
   ],
   "source": [
    "def make_truth_lineages(filename):\n",
    "    rows = load_truth_file(filename)\n",
    "    \n",
    "    rows2 = []\n",
    "    for (taxid, a, b, rank, name) in rows:\n",
    "        lineage = make_lineage_from_taxid(taxid)\n",
    "        rows2.append((taxid, a, b, rank, name, lineage))\n",
    "        for lintup in lineage:\n",
    "            if lintup.rank == rank:\n",
    "                if lintup.name != name:\n",
    "                    print('DISAGREE: ncbi={}, truthfile={}'.format(lintup.name, name))\n",
    "    return rows2\n",
    "\n",
    "truth_lineages = make_truth_lineages('truth_sets/species/Huttenhower_HC1_TRUTH.txt')\n",
    "print(truth_lineages[:1])"
   ]
  },
  {
   "cell_type": "markdown",
   "metadata": {},
   "source": [
    "## Load LCA gather csv files"
   ]
  },
  {
   "cell_type": "code",
   "execution_count": 32,
   "metadata": {},
   "outputs": [
    {
     "data": {
      "text/plain": [
       "[{'average_abund': '1.0',\n",
       "  'f_unique_to_query': '0.013083632632119035',\n",
       "  'f_unique_weighted': '0.013083632632119035',\n",
       "  'intersect_bp': '510000',\n",
       "  'lineage': (LineagePair(rank='superkingdom', name='Bacteria'),\n",
       "   LineagePair(rank='phylum', name='Firmicutes'),\n",
       "   LineagePair(rank='class', name='Bacilli'),\n",
       "   LineagePair(rank='order', name='Bacillales'),\n",
       "   LineagePair(rank='family', name='Bacillaceae'),\n",
       "   LineagePair(rank='genus', name='Bacillus'),\n",
       "   LineagePair(rank='species', name='Bacillus subtilis'))}]"
      ]
     },
     "execution_count": 32,
     "metadata": {},
     "output_type": "execute_result"
    }
   ],
   "source": [
    "def make_lca_gather_lineages(filename):\n",
    "    rows = load_sourmash_csv(filename)\n",
    "    rows2 = []\n",
    "    for d in rows:\n",
    "        d2 = dict(d)\n",
    "        \n",
    "        lineage = []\n",
    "        for rank in lca_utils.taxlist():\n",
    "            if rank in d2:\n",
    "                name = d2.get(rank)\n",
    "                del d2[rank]\n",
    "                lineage.append((rank, name))\n",
    "                \n",
    "        lineage = [ lca_utils.LineagePair(r, n) for (r, n) in lineage ]\n",
    "        d2['lineage'] = tuple(lineage)\n",
    "        rows2.append(d2)\n",
    "        \n",
    "    return rows2\n",
    "\n",
    "make_lca_gather_lineages('output/Huttenhower_HC1.fasta.gz.scaled10k.k51.lca.gather.matches.csv')[:1]"
   ]
  },
  {
   "cell_type": "code",
   "execution_count": 33,
   "metadata": {},
   "outputs": [
    {
     "name": "stdout",
     "output_type": "stream",
     "text": [
      "Dataset_descriptions.xlsx     \u001b[31mget-names-from-gather-csv.py\u001b[m\u001b[m*\r\n",
      "README.md                     \u001b[34moutput\u001b[m\u001b[m/\r\n",
      "gather-accessions.txt         output.zip\r\n",
      "gather-accessions.txt.taxid   parse.ipynb\r\n",
      "gather-lineages.csv           \u001b[34mtruth_sets\u001b[m\u001b[m/\r\n",
      "genbank-lineages.csv\r\n"
     ]
    }
   ],
   "source": [
    "ls"
   ]
  },
  {
   "cell_type": "code",
   "execution_count": 34,
   "metadata": {},
   "outputs": [
    {
     "name": "stdout",
     "output_type": "stream",
     "text": [
      "output/Huttenhower_HC1.fasta.gz.scaled10k.k51.gather.matches.csv\r\n",
      "output/Huttenhower_HC1.fasta.gz.scaled10k.k51.lca.gather.matches.csv\r\n",
      "output/Huttenhower_HC1.fasta.gz_contigs.scaled10k.k51.gather.matches.csv\r\n",
      "output/Huttenhower_HC1.fasta.gz_contigs.scaled10k.k51.lca.gather.matches.csv\r\n",
      "output/Huttenhower_HC1.fasta.gz_reads.scaled10k.k51.gather.matches.csv\r\n",
      "output/Huttenhower_HC1.fasta.gz_reads.scaled10k.k51.lca.gather.matches.csv\r\n"
     ]
    }
   ],
   "source": [
    "ls output/Huttenhower_HC1*"
   ]
  },
  {
   "cell_type": "code",
   "execution_count": 35,
   "metadata": {},
   "outputs": [
    {
     "name": "stdout",
     "output_type": "stream",
     "text": [
      "truth_sets/species/Huttenhower_HC1_TRUTH.txt\r\n"
     ]
    }
   ],
   "source": [
    "ls truth_sets/species/Huttenhower_HC1*\n"
   ]
  },
  {
   "cell_type": "code",
   "execution_count": 48,
   "metadata": {},
   "outputs": [
    {
     "name": "stdout",
     "output_type": "stream",
     "text": [
      "DISAGREE: ncbi=Clostridioides difficile, truthfile=Peptoclostridium difficile\n",
      "DISAGREE: ncbi=Sediminispirochaeta smaragdinae, truthfile=Spirochaeta smaragdinae\n",
      "93\n",
      "101\n",
      "100\n",
      "** in gather but not truth:\n",
      "\t Bacteria;Chloroflexi;Chloroflexia;Chloroflexales;Chloroflexaceae;Chloroflexus;Chloroflexus sp. Y-400-fl\n",
      "\n",
      "** in truth but not gather:\n",
      "\t Bacteria;Proteobacteria;Alphaproteobacteria;Rickettsiales;Anaplasmataceae;Anaplasma;Anaplasma centrale\n",
      "\t Bacteria;Chloroflexi;Chloroflexia;Chloroflexales;Chloroflexaceae;Chloroflexus;Chloroflexus aurantiacus\n",
      "\t Bacteria;Tenericutes;Mollicutes;Mycoplasmatales;Mycoplasmataceae;Mycoplasma;Mycoplasma crocodyli\n",
      "\t Archaea;Crenarchaeota;Thermoprotei;Thermoproteales;Thermoproteaceae;Pyrobaculum;Pyrobaculum arsenaticum\n",
      "\t Bacteria;Tenericutes;Mollicutes;Mycoplasmatales;Mycoplasmataceae;Ureaplasma;Ureaplasma urealyticum\n",
      "\t Archaea;Euryarchaeota;Methanobacteria;Methanobacteriales;Methanobacteriaceae;Methanosphaera;Methanosphaera stadtmanae\n",
      "\t Bacteria;Proteobacteria;Gammaproteobacteria;unassigned;unassigned;unassigned;Candidatus Baumannia cicadellinicola\n"
     ]
    }
   ],
   "source": [
    "def compare_gather_to_truth(truth_file, gather_csv):\n",
    "    truth = make_truth_lineages(truth_file)\n",
    "    gather = make_gather_lineages(gather_csv)\n",
    "    \n",
    "    truth_lineages = set([ t[5] for t in truth ])\n",
    "    gather_lineages = set([ row['lineage'] for row in gather ])\n",
    "    \n",
    "    print(len(truth_lineages.intersection(gather_lineages)))\n",
    "    print(len(truth_lineages.union(gather_lineages)))\n",
    "    \n",
    "    print(len(truth_lineages))\n",
    "    \n",
    "    print('** in gather but not truth:')\n",
    "    for diff in gather_lineages - truth_lineages:\n",
    "        print('\\t', format_lineage(diff))\n",
    "    \n",
    "    print('\\n** in truth but not gather:')\n",
    "    for diff in truth_lineages - gather_lineages:\n",
    "        print('\\t', format_lineage(diff))\n",
    "    \n",
    "compare_gather_to_truth('truth_sets/species/Huttenhower_HC1_TRUTH.txt',\n",
    "                        'output/Huttenhower_HC1.fasta.gz_reads.scaled10k.k51.gather.matches.csv')\n"
   ]
  },
  {
   "cell_type": "code",
   "execution_count": 49,
   "metadata": {},
   "outputs": [
    {
     "name": "stdout",
     "output_type": "stream",
     "text": [
      "DISAGREE: ncbi=Clostridioides difficile, truthfile=Peptoclostridium difficile\n",
      "DISAGREE: ncbi=Sediminispirochaeta smaragdinae, truthfile=Spirochaeta smaragdinae\n",
      "98\n",
      "105\n",
      "100\n",
      "** in gather but not truth:\n",
      "\t Bacteria;Firmicutes;Bacilli;Lactobacillales;Lactobacillaceae;Lactobacillus;Lactobacillus gallinarum\n",
      "\t Bacteria;Firmicutes;Bacilli;Bacillales;Bacillaceae;Bacillus;Bacillus sp. GZT\n",
      "\t Bacteria;Proteobacteria;Gammaproteobacteria;Vibrionales;Vibrionaceae;Vibrio;Vibrio hyugaensis\n",
      "\t Bacteria;Proteobacteria;Epsilonproteobacteria;Campylobacterales;Helicobacteraceae;Helicobacter;Helicobacter pylori\n",
      "\t Bacteria;Proteobacteria;Gammaproteobacteria;Enterobacterales;Hafniaceae;Edwardsiella;Edwardsiella piscicida\n",
      "\n",
      "** in truth but not gather:\n",
      "\t Bacteria;Firmicutes;Bacilli;Bacillales;Bacillaceae;Bacillus;Bacillus atrophaeus\n",
      "\t Bacteria;Proteobacteria;Gammaproteobacteria;Enterobacterales;Hafniaceae;Edwardsiella;Edwardsiella tarda\n"
     ]
    }
   ],
   "source": [
    "def compare_lca_gather_to_truth(truth_file, gather_csv):\n",
    "    truth = make_truth_lineages(truth_file)\n",
    "    gather = make_lca_gather_lineages(gather_csv)\n",
    "    \n",
    "    truth_lineages = set([ t[5] for t in truth ])\n",
    "    gather_lineages = set([ row['lineage'] for row in gather ])\n",
    "    \n",
    "    print(len(truth_lineages.intersection(gather_lineages)))\n",
    "    print(len(truth_lineages.union(gather_lineages)))\n",
    "    \n",
    "    print(len(truth_lineages))\n",
    "    \n",
    "    print('** in gather but not truth:')\n",
    "    for diff in gather_lineages - truth_lineages:\n",
    "        print('\\t', format_lineage(diff))\n",
    "    \n",
    "    print('\\n** in truth but not gather:')\n",
    "    for diff in truth_lineages - gather_lineages:\n",
    "        print('\\t', format_lineage(diff))\n",
    "    \n",
    "compare_lca_gather_to_truth('truth_sets/species/Huttenhower_HC1_TRUTH.txt',\n",
    "                        'output/Huttenhower_HC1.fasta.gz_reads.scaled10k.k51.lca.gather.matches.csv')\n"
   ]
  },
  {
   "cell_type": "code",
   "execution_count": 51,
   "metadata": {},
   "outputs": [
    {
     "name": "stdout",
     "output_type": "stream",
     "text": [
      "91\n",
      "106\n",
      "** in lca_gather but not reg gather:\n",
      "\t Bacteria;Firmicutes;Bacilli;Lactobacillales;Lactobacillaceae;Lactobacillus;Lactobacillus gallinarum\n",
      "\t Bacteria;Proteobacteria;Alphaproteobacteria;Rickettsiales;Anaplasmataceae;Anaplasma;Anaplasma centrale\n",
      "\t Bacteria;Firmicutes;Bacilli;Bacillales;Bacillaceae;Bacillus;Bacillus sp. GZT\n",
      "\t Bacteria;Chloroflexi;Chloroflexia;Chloroflexales;Chloroflexaceae;Chloroflexus;Chloroflexus aurantiacus\n",
      "\t Bacteria;Tenericutes;Mollicutes;Mycoplasmatales;Mycoplasmataceae;Mycoplasma;Mycoplasma crocodyli\n",
      "\t Archaea;Crenarchaeota;Thermoprotei;Thermoproteales;Thermoproteaceae;Pyrobaculum;Pyrobaculum arsenaticum\n",
      "\t Bacteria;Tenericutes;Mollicutes;Mycoplasmatales;Mycoplasmataceae;Ureaplasma;Ureaplasma urealyticum\n",
      "\t Bacteria;Proteobacteria;Gammaproteobacteria;Vibrionales;Vibrionaceae;Vibrio;Vibrio hyugaensis\n",
      "\t Archaea;Euryarchaeota;Methanobacteria;Methanobacteriales;Methanobacteriaceae;Methanosphaera;Methanosphaera stadtmanae\n",
      "\t Bacteria;Proteobacteria;Epsilonproteobacteria;Campylobacterales;Helicobacteraceae;Helicobacter;Helicobacter pylori\n",
      "\t Bacteria;Proteobacteria;Gammaproteobacteria;Enterobacterales;Hafniaceae;Edwardsiella;Edwardsiella piscicida\n",
      "\t Bacteria;Proteobacteria;Gammaproteobacteria;unassigned;unassigned;unassigned;Candidatus Baumannia cicadellinicola\n",
      "\n",
      "** in gather but not lca gather:\n",
      "\t Bacteria;Firmicutes;Bacilli;Bacillales;Bacillaceae;Bacillus;Bacillus atrophaeus\n",
      "\t Bacteria;Proteobacteria;Gammaproteobacteria;Enterobacterales;Hafniaceae;Edwardsiella;Edwardsiella tarda\n",
      "\t Bacteria;Chloroflexi;Chloroflexia;Chloroflexales;Chloroflexaceae;Chloroflexus;Chloroflexus sp. Y-400-fl\n"
     ]
    }
   ],
   "source": [
    "def compare_lca_gather_to_gather(lca_gather_csv, gather_csv):\n",
    "    reg_gather = make_gather_lineages(gather_csv)\n",
    "    lca_gather = make_lca_gather_lineages(lca_gather_csv)\n",
    "    \n",
    "    reg_gather_lineages = set([ row['lineage'] for row in reg_gather ])\n",
    "    lca_gather_lineages = set([ row['lineage'] for row in lca_gather ])\n",
    "    \n",
    "    print(len(lca_gather_lineages.intersection(reg_gather_lineages)))\n",
    "    print(len(lca_gather_lineages.union(reg_gather_lineages)))\n",
    "        \n",
    "    print('** in lca_gather but not reg gather:')\n",
    "    for diff in lca_gather_lineages - reg_gather_lineages:\n",
    "        print('\\t', format_lineage(diff))\n",
    "    \n",
    "    print('\\n** in gather but not lca gather:')\n",
    "    for diff in reg_gather_lineages - lca_gather_lineages:\n",
    "        print('\\t', format_lineage(diff))\n",
    "    \n",
    "compare_lca_gather_to_gather('output/Huttenhower_HC1.fasta.gz_reads.scaled10k.k51.lca.gather.matches.csv',\n",
    "                            'output/Huttenhower_HC1.fasta.gz_reads.scaled10k.k51.gather.matches.csv')\n"
   ]
  },
  {
   "cell_type": "code",
   "execution_count": 53,
   "metadata": {},
   "outputs": [
    {
     "name": "stdout",
     "output_type": "stream",
     "text": [
      "['ABRF_MGRG_10ng', 'ABRF_MGRG_1ng', 'ABRF_MGRG_5ng', 'ABRF_MGRG_Half', 'ABRF_MGRG_Normal', 'ABRF_MGRG_classIplus', 'BMI_bmi_reads', 'BioPool_BioPool', 'BioPool_BioPool_abun', 'Carma_eval_carma', 'HMP_even_454_SRR072233', 'HMP_even_illum_SRR172902', 'Huttenhower_HC-LC_abun', 'Huttenhower_HC1', 'Huttenhower_HC2', 'Huttenhower_LC1', 'Huttenhower_LC2', 'Huttenhower_LC3', 'Huttenhower_LC4', 'Huttenhower_LC5', 'Huttenhower_LC6', 'Huttenhower_LC7', 'Huttenhower_LC8', 'JGI_SRR033547', 'JGI_SRR033548', 'JGI_SRR033549', 'Mavromatis_simHC', 'Mavromatis_simLC', 'Mavromatis_simMC', 'Raiphy_eval_RAIphy', 'UnAmbiguouslyMapped_ds.7', 'UnAmbiguouslyMapped_ds.buccal', 'UnAmbiguouslyMapped_ds.cityparks', 'UnAmbiguouslyMapped_ds.gut', 'UnAmbiguouslyMapped_ds.hous1', 'UnAmbiguouslyMapped_ds.hous2', 'UnAmbiguouslyMapped_ds.nycsm', 'UnAmbiguouslyMapped_ds.soil']\n"
     ]
    }
   ],
   "source": [
    "all_truth = \"\"\"ABRF_MGRG_10ng_TRUTH.txt\n",
    "ABRF_MGRG_1ng_TRUTH.txt\n",
    "ABRF_MGRG_5ng_TRUTH.txt\n",
    "ABRF_MGRG_Half_TRUTH.txt\n",
    "ABRF_MGRG_Normal_TRUTH.txt\n",
    "ABRF_MGRG_classIplus_TRUTH.txt\n",
    "BMI_bmi_reads_TRUTH.txt\n",
    "BioPool_BioPool_TRUTH.txt\n",
    "BioPool_BioPool_abundances.txt\n",
    "Carma_eval_carma_TRUTH.txt\n",
    "HMP_even_454_SRR072233_TRUTH.txt\n",
    "HMP_even_illum_SRR172902_TRUTH.txt\n",
    "Huttenhower_HC-LC_abundances.txt\n",
    "Huttenhower_HC1_TRUTH.txt\n",
    "Huttenhower_HC2_TRUTH.txt\n",
    "Huttenhower_LC1_TRUTH.txt\n",
    "Huttenhower_LC2_TRUTH.txt\n",
    "Huttenhower_LC3_TRUTH.txt\n",
    "Huttenhower_LC4_TRUTH.txt\n",
    "Huttenhower_LC5_TRUTH.txt\n",
    "Huttenhower_LC6_TRUTH.txt\n",
    "Huttenhower_LC7_TRUTH.txt\n",
    "Huttenhower_LC8_TRUTH.txt\n",
    "JGI_SRR033547_TRUTH.txt\n",
    "JGI_SRR033548_TRUTH.txt\n",
    "JGI_SRR033549_TRUTH.txt\n",
    "Mavromatis_simHC_TRUTH.txt\n",
    "Mavromatis_simLC_TRUTH.txt\n",
    "Mavromatis_simMC_TRUTH.txt\n",
    "Raiphy_eval_RAIphy_TRUTH.txt\n",
    "UnAmbiguouslyMapped_ds.7_TRUTH.txt\n",
    "UnAmbiguouslyMapped_ds.buccal_TRUTH.txt\n",
    "UnAmbiguouslyMapped_ds.cityparks_TRUTH.txt\n",
    "UnAmbiguouslyMapped_ds.gut_TRUTH.txt\n",
    "UnAmbiguouslyMapped_ds.hous1_TRUTH.txt\n",
    "UnAmbiguouslyMapped_ds.hous2_TRUTH.txt\n",
    "UnAmbiguouslyMapped_ds.nycsm_TRUTH.txt\n",
    "UnAmbiguouslyMapped_ds.soil_TRUTH.txt\"\"\"\n",
    "\n",
    "all_truth = all_truth.splitlines()\n",
    "all_truth = [ x[:-10] for x in all_truth ]\n",
    "print(all_truth)"
   ]
  },
  {
   "cell_type": "code",
   "execution_count": 57,
   "metadata": {},
   "outputs": [],
   "source": [
    "triples = []\n",
    "for prefix in all_truth:\n",
    "    truth_file = 'truth_sets/species/{}_TRUTH.txt'.format(prefix)\n",
    "    lca_gather_file = 'output/{}.fasta.gz_reads.scaled10k.k51.lca.gather.matches.csv'.format(prefix)\n",
    "    gather_file = 'output/{}.fasta.gz_reads.scaled10k.k51.gather.matches.csv'.format(prefix)\n",
    "    \n",
    "    if os.path.exists(truth_file) and os.path.exists(lca_gather_file) and os.path.exists(gather_file):\n",
    "        triples.append((truth_file, lca_gather_file, gather_file))\n",
    "    "
   ]
  },
  {
   "cell_type": "code",
   "execution_count": 58,
   "metadata": {},
   "outputs": [
    {
     "data": {
      "text/plain": [
       "[('truth_sets/species/Huttenhower_HC1_TRUTH.txt',\n",
       "  'output/Huttenhower_HC1.fasta.gz_reads.scaled10k.k51.lca.gather.matches.csv',\n",
       "  'output/Huttenhower_HC1.fasta.gz_reads.scaled10k.k51.gather.matches.csv'),\n",
       " ('truth_sets/species/Huttenhower_HC2_TRUTH.txt',\n",
       "  'output/Huttenhower_HC2.fasta.gz_reads.scaled10k.k51.lca.gather.matches.csv',\n",
       "  'output/Huttenhower_HC2.fasta.gz_reads.scaled10k.k51.gather.matches.csv'),\n",
       " ('truth_sets/species/Huttenhower_LC1_TRUTH.txt',\n",
       "  'output/Huttenhower_LC1.fasta.gz_reads.scaled10k.k51.lca.gather.matches.csv',\n",
       "  'output/Huttenhower_LC1.fasta.gz_reads.scaled10k.k51.gather.matches.csv'),\n",
       " ('truth_sets/species/Huttenhower_LC2_TRUTH.txt',\n",
       "  'output/Huttenhower_LC2.fasta.gz_reads.scaled10k.k51.lca.gather.matches.csv',\n",
       "  'output/Huttenhower_LC2.fasta.gz_reads.scaled10k.k51.gather.matches.csv'),\n",
       " ('truth_sets/species/Huttenhower_LC3_TRUTH.txt',\n",
       "  'output/Huttenhower_LC3.fasta.gz_reads.scaled10k.k51.lca.gather.matches.csv',\n",
       "  'output/Huttenhower_LC3.fasta.gz_reads.scaled10k.k51.gather.matches.csv'),\n",
       " ('truth_sets/species/Huttenhower_LC4_TRUTH.txt',\n",
       "  'output/Huttenhower_LC4.fasta.gz_reads.scaled10k.k51.lca.gather.matches.csv',\n",
       "  'output/Huttenhower_LC4.fasta.gz_reads.scaled10k.k51.gather.matches.csv'),\n",
       " ('truth_sets/species/Huttenhower_LC5_TRUTH.txt',\n",
       "  'output/Huttenhower_LC5.fasta.gz_reads.scaled10k.k51.lca.gather.matches.csv',\n",
       "  'output/Huttenhower_LC5.fasta.gz_reads.scaled10k.k51.gather.matches.csv'),\n",
       " ('truth_sets/species/Huttenhower_LC6_TRUTH.txt',\n",
       "  'output/Huttenhower_LC6.fasta.gz_reads.scaled10k.k51.lca.gather.matches.csv',\n",
       "  'output/Huttenhower_LC6.fasta.gz_reads.scaled10k.k51.gather.matches.csv'),\n",
       " ('truth_sets/species/Huttenhower_LC7_TRUTH.txt',\n",
       "  'output/Huttenhower_LC7.fasta.gz_reads.scaled10k.k51.lca.gather.matches.csv',\n",
       "  'output/Huttenhower_LC7.fasta.gz_reads.scaled10k.k51.gather.matches.csv'),\n",
       " ('truth_sets/species/Huttenhower_LC8_TRUTH.txt',\n",
       "  'output/Huttenhower_LC8.fasta.gz_reads.scaled10k.k51.lca.gather.matches.csv',\n",
       "  'output/Huttenhower_LC8.fasta.gz_reads.scaled10k.k51.gather.matches.csv')]"
      ]
     },
     "execution_count": 58,
     "metadata": {},
     "output_type": "execute_result"
    }
   ],
   "source": [
    "for truth_file, lca_gather_file, gather_file in triples:\n",
    "    # do the computation of precision and recall here\n",
    "    # Phil TODO"
   ]
  },
  {
   "cell_type": "code",
   "execution_count": null,
   "metadata": {},
   "outputs": [],
   "source": []
  }
 ],
 "metadata": {
  "kernelspec": {
   "display_name": "Python 3",
   "language": "python",
   "name": "python3"
  },
  "language_info": {
   "codemirror_mode": {
    "name": "ipython",
    "version": 3
   },
   "file_extension": ".py",
   "mimetype": "text/x-python",
   "name": "python",
   "nbconvert_exporter": "python",
   "pygments_lexer": "ipython3",
   "version": "3.6.3"
  }
 },
 "nbformat": 4,
 "nbformat_minor": 2
}
